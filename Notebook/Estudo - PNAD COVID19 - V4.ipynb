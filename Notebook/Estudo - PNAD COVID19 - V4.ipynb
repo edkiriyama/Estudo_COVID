{
 "cells": [
  {
   "cell_type": "markdown",
   "id": "e1e24212",
   "metadata": {},
   "source": [
    "# COVID - 19"
   ]
  },
  {
   "cell_type": "markdown",
   "id": "d4daeacd",
   "metadata": {},
   "source": [
    "## Definições\n",
    "### COVID - 19: \"A Covid-19 é uma infecção respiratória aguda causada pelo coronavírus SARS-CoV-2, potencialmente grave, de elevada transmissibilidade e de distribuição global\" (Ministério da Saúde, 2021)."
   ]
  },
  {
   "cell_type": "markdown",
   "id": "895ecbc0",
   "metadata": {},
   "source": [
    "### PNAD ( Pesquisa Nacional por Amostra de Domicílios) - COVID 19\n",
    "\n",
    "### \"Objetiva estimar o número de pessoas com sintomas referidos associados à síndrome gripal e monitorar os impactos da pandemia da COVID-19 no mercado de trabalho brasileiro\" (IBGE.2020).\n",
    "\n",
    "A coleta da Pesquisa Nacional por Amostra de Domicílios - PNAD COVID19 teve início em 4 de maio de 2020, com entrevistas realizadas por telefone em, aproximadamente, 48 mil domicílios por semana, totalizando cerca de 193 mil domicílios por mês, em todo o Território Nacional. A amostra é fixa, ou seja, os domicílios entrevistados no primeiro mês de coleta de dados permanecerão na amostra nos meses subsequentes, até o fim da pesquisa.\n",
    "\n",
    "O questionário se divide em duas partes, sendo uma direcionada a questões de saúde, especificamente sobre sintomas associados à síndrome gripal e outra, a questões de trabalho. Nas questões de saúde, investiga-se a ocorrência de alguns dos principais sintomas da COVID19 no período de referência da pesquisa, considerando-se todos os moradores do domicílio.\n"
   ]
  },
  {
   "cell_type": "markdown",
   "id": "88f8199b",
   "metadata": {},
   "source": [
    "### Critérios: \n",
    "\n",
    "### Parte 1 - Identificação e Controle\n",
    "#### 1 - A unidade territorial (UF).\n",
    "#### 2 - Mês da pesquisa para este estudo serão Julho, Agosto, Setembro, Outubro e Novembro  de 2020 (V1013).\n",
    "#### 3 - Situação do domicílio  - Urbana e Rural (V1022)\n",
    "\n",
    "### Parte A - Característica gerais dos Moradores\n",
    "#### 4 - Idade do Morador (A002)\n",
    "#### 5 - Sexo (A003)\n",
    "#### 6 - Cor ou Raça (A004)\n"
   ]
  },
  {
   "cell_type": "markdown",
   "id": "f7755efc",
   "metadata": {},
   "source": [
    "### Parte B - COVID19 - Todos os Moradores\n",
    "#### Sintomas: \n",
    "##### 7 - Na semana passada teve febre? * (B0011)\n",
    "##### 8 - Na semana passada teve tosse? * (B0012)\n",
    "##### 9 - Na semana passada teve dificuldade para respirar? * (B0014)\n",
    "##### 10 - Na semana passada teve perda de cheiro ou sabor? * (B00111)\n",
    "\n",
    "\n",
    "#### Plano de Saúde\n",
    "##### 11 - Tem algum plano de saúde médico, seja particular, de empresa ou de órgão público (B007)\n",
    "##### 12 - O(A) Sr(a) fez algum teste para saber se estava infectado(a) pelo coronavírus? * (B008)\n"
   ]
  },
  {
   "cell_type": "markdown",
   "id": "446b8968",
   "metadata": {},
   "source": [
    "### Parte C - Características de trabalho das pessoas acima de 14 anos.\n",
    "#### Trabalho\n",
    "##### 13 - Há quanto tempo está afastado desse trabalho? (C005)\n",
    "##### 14 - No trabalho (único ou principal) que tinha nessa semana, era: (C007)\n",
    "##### 15 - Qual o principal motivo deste afastamento temporário? (C003)"
   ]
  },
  {
   "cell_type": "markdown",
   "id": "4bf7708c",
   "metadata": {},
   "source": [
    "# Aplicação do Estudo\n",
    "\n",
    "## Importação da biblioteca PANDAS para leitura e manipulação dos dados"
   ]
  },
  {
   "cell_type": "code",
   "execution_count": 1,
   "id": "33a11ffe",
   "metadata": {},
   "outputs": [],
   "source": [
    "import pandas as pd\n",
    "import numpy as np\n",
    "%matplotlib inline\n",
    "import matplotlib.pyplot as plt\n",
    "plt.rc('figure', figsize = (14,6))"
   ]
  },
  {
   "cell_type": "markdown",
   "id": "8bb99991",
   "metadata": {},
   "source": [
    "## Visualização dos dados no período Julho, Agosto, Setembro, Outubro e Novembro de 2020"
   ]
  },
  {
   "cell_type": "code",
   "execution_count": 2,
   "id": "d4fab0a8",
   "metadata": {},
   "outputs": [],
   "source": [
    "jul2020 = pd.read_csv('dados/PNAD_COVID_072020.csv', sep = ',')\n",
    "ago2020 = pd.read_csv('dados/PNAD_COVID_082020.csv', sep = ',')\n",
    "set2020 = pd.read_csv('dados/PNAD_COVID_092020.csv', sep = ',')\n",
    "out2020 = pd.read_csv('dados/PNAD_COVID_102020.csv', sep = ',')\n",
    "nov2020 = pd.read_csv('dados/PNAD_COVID_112020.csv', sep = ',')"
   ]
  },
  {
   "cell_type": "code",
   "execution_count": 3,
   "id": "0a263e4a",
   "metadata": {},
   "outputs": [
    {
     "data": {
      "text/html": [
       "<div>\n",
       "<style scoped>\n",
       "    .dataframe tbody tr th:only-of-type {\n",
       "        vertical-align: middle;\n",
       "    }\n",
       "\n",
       "    .dataframe tbody tr th {\n",
       "        vertical-align: top;\n",
       "    }\n",
       "\n",
       "    .dataframe thead th {\n",
       "        text-align: right;\n",
       "    }\n",
       "</style>\n",
       "<table border=\"1\" class=\"dataframe\">\n",
       "  <thead>\n",
       "    <tr style=\"text-align: right;\">\n",
       "      <th></th>\n",
       "      <th>Ano</th>\n",
       "      <th>UF</th>\n",
       "      <th>CAPITAL</th>\n",
       "      <th>RM_RIDE</th>\n",
       "      <th>V1008</th>\n",
       "      <th>V1012</th>\n",
       "      <th>V1013</th>\n",
       "      <th>V1016</th>\n",
       "      <th>Estrato</th>\n",
       "      <th>UPA</th>\n",
       "      <th>...</th>\n",
       "      <th>F001</th>\n",
       "      <th>F0021</th>\n",
       "      <th>F0022</th>\n",
       "      <th>F002A1</th>\n",
       "      <th>F002A2</th>\n",
       "      <th>F002A3</th>\n",
       "      <th>F002A4</th>\n",
       "      <th>F002A5</th>\n",
       "      <th>F0061</th>\n",
       "      <th>F006</th>\n",
       "    </tr>\n",
       "  </thead>\n",
       "  <tbody>\n",
       "    <tr>\n",
       "      <th>0</th>\n",
       "      <td>2020</td>\n",
       "      <td>11</td>\n",
       "      <td>11.0</td>\n",
       "      <td>NaN</td>\n",
       "      <td>1</td>\n",
       "      <td>4</td>\n",
       "      <td>7</td>\n",
       "      <td>3</td>\n",
       "      <td>1110011</td>\n",
       "      <td>110015970</td>\n",
       "      <td>...</td>\n",
       "      <td>1</td>\n",
       "      <td>NaN</td>\n",
       "      <td>NaN</td>\n",
       "      <td>1</td>\n",
       "      <td>1</td>\n",
       "      <td>1</td>\n",
       "      <td>2</td>\n",
       "      <td>1</td>\n",
       "      <td>1</td>\n",
       "      <td>2.0</td>\n",
       "    </tr>\n",
       "    <tr>\n",
       "      <th>1</th>\n",
       "      <td>2020</td>\n",
       "      <td>11</td>\n",
       "      <td>11.0</td>\n",
       "      <td>NaN</td>\n",
       "      <td>1</td>\n",
       "      <td>4</td>\n",
       "      <td>7</td>\n",
       "      <td>3</td>\n",
       "      <td>1110011</td>\n",
       "      <td>110015970</td>\n",
       "      <td>...</td>\n",
       "      <td>1</td>\n",
       "      <td>NaN</td>\n",
       "      <td>NaN</td>\n",
       "      <td>1</td>\n",
       "      <td>1</td>\n",
       "      <td>1</td>\n",
       "      <td>2</td>\n",
       "      <td>1</td>\n",
       "      <td>1</td>\n",
       "      <td>2.0</td>\n",
       "    </tr>\n",
       "    <tr>\n",
       "      <th>2</th>\n",
       "      <td>2020</td>\n",
       "      <td>11</td>\n",
       "      <td>11.0</td>\n",
       "      <td>NaN</td>\n",
       "      <td>1</td>\n",
       "      <td>4</td>\n",
       "      <td>7</td>\n",
       "      <td>3</td>\n",
       "      <td>1110011</td>\n",
       "      <td>110015970</td>\n",
       "      <td>...</td>\n",
       "      <td>1</td>\n",
       "      <td>NaN</td>\n",
       "      <td>NaN</td>\n",
       "      <td>1</td>\n",
       "      <td>1</td>\n",
       "      <td>1</td>\n",
       "      <td>2</td>\n",
       "      <td>1</td>\n",
       "      <td>1</td>\n",
       "      <td>2.0</td>\n",
       "    </tr>\n",
       "    <tr>\n",
       "      <th>3</th>\n",
       "      <td>2020</td>\n",
       "      <td>11</td>\n",
       "      <td>11.0</td>\n",
       "      <td>NaN</td>\n",
       "      <td>1</td>\n",
       "      <td>4</td>\n",
       "      <td>7</td>\n",
       "      <td>3</td>\n",
       "      <td>1110011</td>\n",
       "      <td>110015970</td>\n",
       "      <td>...</td>\n",
       "      <td>1</td>\n",
       "      <td>NaN</td>\n",
       "      <td>NaN</td>\n",
       "      <td>1</td>\n",
       "      <td>1</td>\n",
       "      <td>1</td>\n",
       "      <td>2</td>\n",
       "      <td>1</td>\n",
       "      <td>1</td>\n",
       "      <td>2.0</td>\n",
       "    </tr>\n",
       "    <tr>\n",
       "      <th>4</th>\n",
       "      <td>2020</td>\n",
       "      <td>11</td>\n",
       "      <td>11.0</td>\n",
       "      <td>NaN</td>\n",
       "      <td>2</td>\n",
       "      <td>1</td>\n",
       "      <td>7</td>\n",
       "      <td>3</td>\n",
       "      <td>1110011</td>\n",
       "      <td>110015970</td>\n",
       "      <td>...</td>\n",
       "      <td>1</td>\n",
       "      <td>NaN</td>\n",
       "      <td>NaN</td>\n",
       "      <td>1</td>\n",
       "      <td>1</td>\n",
       "      <td>1</td>\n",
       "      <td>2</td>\n",
       "      <td>1</td>\n",
       "      <td>1</td>\n",
       "      <td>1.0</td>\n",
       "    </tr>\n",
       "  </tbody>\n",
       "</table>\n",
       "<p>5 rows × 145 columns</p>\n",
       "</div>"
      ],
      "text/plain": [
       "    Ano  UF  CAPITAL  RM_RIDE  V1008  V1012  V1013  V1016  Estrato        UPA  \\\n",
       "0  2020  11     11.0      NaN      1      4      7      3  1110011  110015970   \n",
       "1  2020  11     11.0      NaN      1      4      7      3  1110011  110015970   \n",
       "2  2020  11     11.0      NaN      1      4      7      3  1110011  110015970   \n",
       "3  2020  11     11.0      NaN      1      4      7      3  1110011  110015970   \n",
       "4  2020  11     11.0      NaN      2      1      7      3  1110011  110015970   \n",
       "\n",
       "   ...  F001  F0021  F0022  F002A1  F002A2  F002A3  F002A4  F002A5  F0061  \\\n",
       "0  ...     1    NaN    NaN       1       1       1       2       1      1   \n",
       "1  ...     1    NaN    NaN       1       1       1       2       1      1   \n",
       "2  ...     1    NaN    NaN       1       1       1       2       1      1   \n",
       "3  ...     1    NaN    NaN       1       1       1       2       1      1   \n",
       "4  ...     1    NaN    NaN       1       1       1       2       1      1   \n",
       "\n",
       "   F006  \n",
       "0   2.0  \n",
       "1   2.0  \n",
       "2   2.0  \n",
       "3   2.0  \n",
       "4   1.0  \n",
       "\n",
       "[5 rows x 145 columns]"
      ]
     },
     "execution_count": 3,
     "metadata": {},
     "output_type": "execute_result"
    }
   ],
   "source": [
    "#Visualiza os 10 primeiros registros.\n",
    "jul2020.head()"
   ]
  },
  {
   "cell_type": "code",
   "execution_count": 4,
   "id": "9c9394c6",
   "metadata": {},
   "outputs": [
    {
     "data": {
      "text/html": [
       "<div>\n",
       "<style scoped>\n",
       "    .dataframe tbody tr th:only-of-type {\n",
       "        vertical-align: middle;\n",
       "    }\n",
       "\n",
       "    .dataframe tbody tr th {\n",
       "        vertical-align: top;\n",
       "    }\n",
       "\n",
       "    .dataframe thead th {\n",
       "        text-align: right;\n",
       "    }\n",
       "</style>\n",
       "<table border=\"1\" class=\"dataframe\">\n",
       "  <thead>\n",
       "    <tr style=\"text-align: right;\">\n",
       "      <th></th>\n",
       "      <th>Ano</th>\n",
       "      <th>UF</th>\n",
       "      <th>CAPITAL</th>\n",
       "      <th>RM_RIDE</th>\n",
       "      <th>V1008</th>\n",
       "      <th>V1012</th>\n",
       "      <th>V1013</th>\n",
       "      <th>V1016</th>\n",
       "      <th>Estrato</th>\n",
       "      <th>UPA</th>\n",
       "      <th>...</th>\n",
       "      <th>F001</th>\n",
       "      <th>F0021</th>\n",
       "      <th>F0022</th>\n",
       "      <th>F002A1</th>\n",
       "      <th>F002A2</th>\n",
       "      <th>F002A3</th>\n",
       "      <th>F002A4</th>\n",
       "      <th>F002A5</th>\n",
       "      <th>F0061</th>\n",
       "      <th>F006</th>\n",
       "    </tr>\n",
       "  </thead>\n",
       "  <tbody>\n",
       "    <tr>\n",
       "      <th>0</th>\n",
       "      <td>2020</td>\n",
       "      <td>11</td>\n",
       "      <td>11.0</td>\n",
       "      <td>NaN</td>\n",
       "      <td>1</td>\n",
       "      <td>4</td>\n",
       "      <td>8</td>\n",
       "      <td>4</td>\n",
       "      <td>1110011</td>\n",
       "      <td>110015970</td>\n",
       "      <td>...</td>\n",
       "      <td>1</td>\n",
       "      <td>NaN</td>\n",
       "      <td>NaN</td>\n",
       "      <td>1</td>\n",
       "      <td>1</td>\n",
       "      <td>1</td>\n",
       "      <td>2</td>\n",
       "      <td>1</td>\n",
       "      <td>1</td>\n",
       "      <td>1.0</td>\n",
       "    </tr>\n",
       "    <tr>\n",
       "      <th>1</th>\n",
       "      <td>2020</td>\n",
       "      <td>11</td>\n",
       "      <td>11.0</td>\n",
       "      <td>NaN</td>\n",
       "      <td>1</td>\n",
       "      <td>4</td>\n",
       "      <td>8</td>\n",
       "      <td>4</td>\n",
       "      <td>1110011</td>\n",
       "      <td>110015970</td>\n",
       "      <td>...</td>\n",
       "      <td>1</td>\n",
       "      <td>NaN</td>\n",
       "      <td>NaN</td>\n",
       "      <td>1</td>\n",
       "      <td>1</td>\n",
       "      <td>1</td>\n",
       "      <td>2</td>\n",
       "      <td>1</td>\n",
       "      <td>1</td>\n",
       "      <td>1.0</td>\n",
       "    </tr>\n",
       "    <tr>\n",
       "      <th>2</th>\n",
       "      <td>2020</td>\n",
       "      <td>11</td>\n",
       "      <td>11.0</td>\n",
       "      <td>NaN</td>\n",
       "      <td>1</td>\n",
       "      <td>4</td>\n",
       "      <td>8</td>\n",
       "      <td>4</td>\n",
       "      <td>1110011</td>\n",
       "      <td>110015970</td>\n",
       "      <td>...</td>\n",
       "      <td>1</td>\n",
       "      <td>NaN</td>\n",
       "      <td>NaN</td>\n",
       "      <td>1</td>\n",
       "      <td>1</td>\n",
       "      <td>1</td>\n",
       "      <td>2</td>\n",
       "      <td>1</td>\n",
       "      <td>1</td>\n",
       "      <td>1.0</td>\n",
       "    </tr>\n",
       "    <tr>\n",
       "      <th>3</th>\n",
       "      <td>2020</td>\n",
       "      <td>11</td>\n",
       "      <td>11.0</td>\n",
       "      <td>NaN</td>\n",
       "      <td>1</td>\n",
       "      <td>4</td>\n",
       "      <td>8</td>\n",
       "      <td>4</td>\n",
       "      <td>1110011</td>\n",
       "      <td>110015970</td>\n",
       "      <td>...</td>\n",
       "      <td>1</td>\n",
       "      <td>NaN</td>\n",
       "      <td>NaN</td>\n",
       "      <td>1</td>\n",
       "      <td>1</td>\n",
       "      <td>1</td>\n",
       "      <td>2</td>\n",
       "      <td>1</td>\n",
       "      <td>1</td>\n",
       "      <td>1.0</td>\n",
       "    </tr>\n",
       "    <tr>\n",
       "      <th>4</th>\n",
       "      <td>2020</td>\n",
       "      <td>11</td>\n",
       "      <td>11.0</td>\n",
       "      <td>NaN</td>\n",
       "      <td>2</td>\n",
       "      <td>1</td>\n",
       "      <td>8</td>\n",
       "      <td>4</td>\n",
       "      <td>1110011</td>\n",
       "      <td>110015970</td>\n",
       "      <td>...</td>\n",
       "      <td>1</td>\n",
       "      <td>NaN</td>\n",
       "      <td>NaN</td>\n",
       "      <td>1</td>\n",
       "      <td>1</td>\n",
       "      <td>1</td>\n",
       "      <td>2</td>\n",
       "      <td>1</td>\n",
       "      <td>1</td>\n",
       "      <td>1.0</td>\n",
       "    </tr>\n",
       "  </tbody>\n",
       "</table>\n",
       "<p>5 rows × 145 columns</p>\n",
       "</div>"
      ],
      "text/plain": [
       "    Ano  UF  CAPITAL  RM_RIDE  V1008  V1012  V1013  V1016  Estrato        UPA  \\\n",
       "0  2020  11     11.0      NaN      1      4      8      4  1110011  110015970   \n",
       "1  2020  11     11.0      NaN      1      4      8      4  1110011  110015970   \n",
       "2  2020  11     11.0      NaN      1      4      8      4  1110011  110015970   \n",
       "3  2020  11     11.0      NaN      1      4      8      4  1110011  110015970   \n",
       "4  2020  11     11.0      NaN      2      1      8      4  1110011  110015970   \n",
       "\n",
       "   ...  F001  F0021  F0022  F002A1  F002A2  F002A3  F002A4  F002A5  F0061  \\\n",
       "0  ...     1    NaN    NaN       1       1       1       2       1      1   \n",
       "1  ...     1    NaN    NaN       1       1       1       2       1      1   \n",
       "2  ...     1    NaN    NaN       1       1       1       2       1      1   \n",
       "3  ...     1    NaN    NaN       1       1       1       2       1      1   \n",
       "4  ...     1    NaN    NaN       1       1       1       2       1      1   \n",
       "\n",
       "   F006  \n",
       "0   1.0  \n",
       "1   1.0  \n",
       "2   1.0  \n",
       "3   1.0  \n",
       "4   1.0  \n",
       "\n",
       "[5 rows x 145 columns]"
      ]
     },
     "execution_count": 4,
     "metadata": {},
     "output_type": "execute_result"
    }
   ],
   "source": [
    "#Visualiza os 10 primeiros registros.\n",
    "ago2020.head()"
   ]
  },
  {
   "cell_type": "code",
   "execution_count": 5,
   "id": "87520c57",
   "metadata": {},
   "outputs": [
    {
     "data": {
      "text/html": [
       "<div>\n",
       "<style scoped>\n",
       "    .dataframe tbody tr th:only-of-type {\n",
       "        vertical-align: middle;\n",
       "    }\n",
       "\n",
       "    .dataframe tbody tr th {\n",
       "        vertical-align: top;\n",
       "    }\n",
       "\n",
       "    .dataframe thead th {\n",
       "        text-align: right;\n",
       "    }\n",
       "</style>\n",
       "<table border=\"1\" class=\"dataframe\">\n",
       "  <thead>\n",
       "    <tr style=\"text-align: right;\">\n",
       "      <th></th>\n",
       "      <th>Ano</th>\n",
       "      <th>UF</th>\n",
       "      <th>CAPITAL</th>\n",
       "      <th>RM_RIDE</th>\n",
       "      <th>V1008</th>\n",
       "      <th>V1012</th>\n",
       "      <th>V1013</th>\n",
       "      <th>V1016</th>\n",
       "      <th>Estrato</th>\n",
       "      <th>UPA</th>\n",
       "      <th>...</th>\n",
       "      <th>F001</th>\n",
       "      <th>F0021</th>\n",
       "      <th>F0022</th>\n",
       "      <th>F002A1</th>\n",
       "      <th>F002A2</th>\n",
       "      <th>F002A3</th>\n",
       "      <th>F002A4</th>\n",
       "      <th>F002A5</th>\n",
       "      <th>F0061</th>\n",
       "      <th>F006</th>\n",
       "    </tr>\n",
       "  </thead>\n",
       "  <tbody>\n",
       "    <tr>\n",
       "      <th>0</th>\n",
       "      <td>2020</td>\n",
       "      <td>11</td>\n",
       "      <td>11.0</td>\n",
       "      <td>NaN</td>\n",
       "      <td>1</td>\n",
       "      <td>4</td>\n",
       "      <td>9</td>\n",
       "      <td>5</td>\n",
       "      <td>1110011</td>\n",
       "      <td>110015970</td>\n",
       "      <td>...</td>\n",
       "      <td>1</td>\n",
       "      <td>NaN</td>\n",
       "      <td>NaN</td>\n",
       "      <td>1</td>\n",
       "      <td>1</td>\n",
       "      <td>1</td>\n",
       "      <td>2</td>\n",
       "      <td>1</td>\n",
       "      <td>1</td>\n",
       "      <td>1.0</td>\n",
       "    </tr>\n",
       "    <tr>\n",
       "      <th>1</th>\n",
       "      <td>2020</td>\n",
       "      <td>11</td>\n",
       "      <td>11.0</td>\n",
       "      <td>NaN</td>\n",
       "      <td>1</td>\n",
       "      <td>4</td>\n",
       "      <td>9</td>\n",
       "      <td>5</td>\n",
       "      <td>1110011</td>\n",
       "      <td>110015970</td>\n",
       "      <td>...</td>\n",
       "      <td>1</td>\n",
       "      <td>NaN</td>\n",
       "      <td>NaN</td>\n",
       "      <td>1</td>\n",
       "      <td>1</td>\n",
       "      <td>1</td>\n",
       "      <td>2</td>\n",
       "      <td>1</td>\n",
       "      <td>1</td>\n",
       "      <td>1.0</td>\n",
       "    </tr>\n",
       "    <tr>\n",
       "      <th>2</th>\n",
       "      <td>2020</td>\n",
       "      <td>11</td>\n",
       "      <td>11.0</td>\n",
       "      <td>NaN</td>\n",
       "      <td>1</td>\n",
       "      <td>4</td>\n",
       "      <td>9</td>\n",
       "      <td>5</td>\n",
       "      <td>1110011</td>\n",
       "      <td>110015970</td>\n",
       "      <td>...</td>\n",
       "      <td>1</td>\n",
       "      <td>NaN</td>\n",
       "      <td>NaN</td>\n",
       "      <td>1</td>\n",
       "      <td>1</td>\n",
       "      <td>1</td>\n",
       "      <td>2</td>\n",
       "      <td>1</td>\n",
       "      <td>1</td>\n",
       "      <td>1.0</td>\n",
       "    </tr>\n",
       "    <tr>\n",
       "      <th>3</th>\n",
       "      <td>2020</td>\n",
       "      <td>11</td>\n",
       "      <td>11.0</td>\n",
       "      <td>NaN</td>\n",
       "      <td>1</td>\n",
       "      <td>4</td>\n",
       "      <td>9</td>\n",
       "      <td>5</td>\n",
       "      <td>1110011</td>\n",
       "      <td>110015970</td>\n",
       "      <td>...</td>\n",
       "      <td>1</td>\n",
       "      <td>NaN</td>\n",
       "      <td>NaN</td>\n",
       "      <td>1</td>\n",
       "      <td>1</td>\n",
       "      <td>1</td>\n",
       "      <td>2</td>\n",
       "      <td>1</td>\n",
       "      <td>1</td>\n",
       "      <td>1.0</td>\n",
       "    </tr>\n",
       "    <tr>\n",
       "      <th>4</th>\n",
       "      <td>2020</td>\n",
       "      <td>11</td>\n",
       "      <td>11.0</td>\n",
       "      <td>NaN</td>\n",
       "      <td>2</td>\n",
       "      <td>1</td>\n",
       "      <td>9</td>\n",
       "      <td>5</td>\n",
       "      <td>1110011</td>\n",
       "      <td>110015970</td>\n",
       "      <td>...</td>\n",
       "      <td>1</td>\n",
       "      <td>NaN</td>\n",
       "      <td>NaN</td>\n",
       "      <td>1</td>\n",
       "      <td>1</td>\n",
       "      <td>1</td>\n",
       "      <td>2</td>\n",
       "      <td>1</td>\n",
       "      <td>1</td>\n",
       "      <td>1.0</td>\n",
       "    </tr>\n",
       "  </tbody>\n",
       "</table>\n",
       "<p>5 rows × 145 columns</p>\n",
       "</div>"
      ],
      "text/plain": [
       "    Ano  UF  CAPITAL  RM_RIDE  V1008  V1012  V1013  V1016  Estrato        UPA  \\\n",
       "0  2020  11     11.0      NaN      1      4      9      5  1110011  110015970   \n",
       "1  2020  11     11.0      NaN      1      4      9      5  1110011  110015970   \n",
       "2  2020  11     11.0      NaN      1      4      9      5  1110011  110015970   \n",
       "3  2020  11     11.0      NaN      1      4      9      5  1110011  110015970   \n",
       "4  2020  11     11.0      NaN      2      1      9      5  1110011  110015970   \n",
       "\n",
       "   ...  F001  F0021  F0022  F002A1  F002A2  F002A3  F002A4  F002A5  F0061  \\\n",
       "0  ...     1    NaN    NaN       1       1       1       2       1      1   \n",
       "1  ...     1    NaN    NaN       1       1       1       2       1      1   \n",
       "2  ...     1    NaN    NaN       1       1       1       2       1      1   \n",
       "3  ...     1    NaN    NaN       1       1       1       2       1      1   \n",
       "4  ...     1    NaN    NaN       1       1       1       2       1      1   \n",
       "\n",
       "   F006  \n",
       "0   1.0  \n",
       "1   1.0  \n",
       "2   1.0  \n",
       "3   1.0  \n",
       "4   1.0  \n",
       "\n",
       "[5 rows x 145 columns]"
      ]
     },
     "execution_count": 5,
     "metadata": {},
     "output_type": "execute_result"
    }
   ],
   "source": [
    "#Visualiza os 5 primeiros registros.\n",
    "set2020.head()"
   ]
  },
  {
   "cell_type": "code",
   "execution_count": 6,
   "id": "0e650b9c",
   "metadata": {},
   "outputs": [
    {
     "data": {
      "text/html": [
       "<div>\n",
       "<style scoped>\n",
       "    .dataframe tbody tr th:only-of-type {\n",
       "        vertical-align: middle;\n",
       "    }\n",
       "\n",
       "    .dataframe tbody tr th {\n",
       "        vertical-align: top;\n",
       "    }\n",
       "\n",
       "    .dataframe thead th {\n",
       "        text-align: right;\n",
       "    }\n",
       "</style>\n",
       "<table border=\"1\" class=\"dataframe\">\n",
       "  <thead>\n",
       "    <tr style=\"text-align: right;\">\n",
       "      <th></th>\n",
       "      <th>Ano</th>\n",
       "      <th>UF</th>\n",
       "      <th>CAPITAL</th>\n",
       "      <th>RM_RIDE</th>\n",
       "      <th>V1008</th>\n",
       "      <th>V1012</th>\n",
       "      <th>V1013</th>\n",
       "      <th>V1016</th>\n",
       "      <th>Estrato</th>\n",
       "      <th>UPA</th>\n",
       "      <th>...</th>\n",
       "      <th>F001</th>\n",
       "      <th>F0021</th>\n",
       "      <th>F0022</th>\n",
       "      <th>F002A1</th>\n",
       "      <th>F002A2</th>\n",
       "      <th>F002A3</th>\n",
       "      <th>F002A4</th>\n",
       "      <th>F002A5</th>\n",
       "      <th>F0061</th>\n",
       "      <th>F006</th>\n",
       "    </tr>\n",
       "  </thead>\n",
       "  <tbody>\n",
       "    <tr>\n",
       "      <th>0</th>\n",
       "      <td>2020</td>\n",
       "      <td>11</td>\n",
       "      <td>11.0</td>\n",
       "      <td>NaN</td>\n",
       "      <td>1</td>\n",
       "      <td>4</td>\n",
       "      <td>10</td>\n",
       "      <td>6</td>\n",
       "      <td>1110011</td>\n",
       "      <td>110015970</td>\n",
       "      <td>...</td>\n",
       "      <td>1</td>\n",
       "      <td>NaN</td>\n",
       "      <td>NaN</td>\n",
       "      <td>1</td>\n",
       "      <td>1</td>\n",
       "      <td>1</td>\n",
       "      <td>2</td>\n",
       "      <td>1</td>\n",
       "      <td>1</td>\n",
       "      <td>1.0</td>\n",
       "    </tr>\n",
       "    <tr>\n",
       "      <th>1</th>\n",
       "      <td>2020</td>\n",
       "      <td>11</td>\n",
       "      <td>11.0</td>\n",
       "      <td>NaN</td>\n",
       "      <td>1</td>\n",
       "      <td>4</td>\n",
       "      <td>10</td>\n",
       "      <td>6</td>\n",
       "      <td>1110011</td>\n",
       "      <td>110015970</td>\n",
       "      <td>...</td>\n",
       "      <td>1</td>\n",
       "      <td>NaN</td>\n",
       "      <td>NaN</td>\n",
       "      <td>1</td>\n",
       "      <td>1</td>\n",
       "      <td>1</td>\n",
       "      <td>2</td>\n",
       "      <td>1</td>\n",
       "      <td>1</td>\n",
       "      <td>1.0</td>\n",
       "    </tr>\n",
       "    <tr>\n",
       "      <th>2</th>\n",
       "      <td>2020</td>\n",
       "      <td>11</td>\n",
       "      <td>11.0</td>\n",
       "      <td>NaN</td>\n",
       "      <td>1</td>\n",
       "      <td>4</td>\n",
       "      <td>10</td>\n",
       "      <td>6</td>\n",
       "      <td>1110011</td>\n",
       "      <td>110015970</td>\n",
       "      <td>...</td>\n",
       "      <td>1</td>\n",
       "      <td>NaN</td>\n",
       "      <td>NaN</td>\n",
       "      <td>1</td>\n",
       "      <td>1</td>\n",
       "      <td>1</td>\n",
       "      <td>2</td>\n",
       "      <td>1</td>\n",
       "      <td>1</td>\n",
       "      <td>1.0</td>\n",
       "    </tr>\n",
       "    <tr>\n",
       "      <th>3</th>\n",
       "      <td>2020</td>\n",
       "      <td>11</td>\n",
       "      <td>11.0</td>\n",
       "      <td>NaN</td>\n",
       "      <td>1</td>\n",
       "      <td>4</td>\n",
       "      <td>10</td>\n",
       "      <td>6</td>\n",
       "      <td>1110011</td>\n",
       "      <td>110015970</td>\n",
       "      <td>...</td>\n",
       "      <td>1</td>\n",
       "      <td>NaN</td>\n",
       "      <td>NaN</td>\n",
       "      <td>1</td>\n",
       "      <td>1</td>\n",
       "      <td>1</td>\n",
       "      <td>2</td>\n",
       "      <td>1</td>\n",
       "      <td>1</td>\n",
       "      <td>1.0</td>\n",
       "    </tr>\n",
       "    <tr>\n",
       "      <th>4</th>\n",
       "      <td>2020</td>\n",
       "      <td>11</td>\n",
       "      <td>11.0</td>\n",
       "      <td>NaN</td>\n",
       "      <td>2</td>\n",
       "      <td>1</td>\n",
       "      <td>10</td>\n",
       "      <td>6</td>\n",
       "      <td>1110011</td>\n",
       "      <td>110015970</td>\n",
       "      <td>...</td>\n",
       "      <td>1</td>\n",
       "      <td>NaN</td>\n",
       "      <td>NaN</td>\n",
       "      <td>1</td>\n",
       "      <td>1</td>\n",
       "      <td>1</td>\n",
       "      <td>2</td>\n",
       "      <td>1</td>\n",
       "      <td>1</td>\n",
       "      <td>1.0</td>\n",
       "    </tr>\n",
       "  </tbody>\n",
       "</table>\n",
       "<p>5 rows × 145 columns</p>\n",
       "</div>"
      ],
      "text/plain": [
       "    Ano  UF  CAPITAL  RM_RIDE  V1008  V1012  V1013  V1016  Estrato        UPA  \\\n",
       "0  2020  11     11.0      NaN      1      4     10      6  1110011  110015970   \n",
       "1  2020  11     11.0      NaN      1      4     10      6  1110011  110015970   \n",
       "2  2020  11     11.0      NaN      1      4     10      6  1110011  110015970   \n",
       "3  2020  11     11.0      NaN      1      4     10      6  1110011  110015970   \n",
       "4  2020  11     11.0      NaN      2      1     10      6  1110011  110015970   \n",
       "\n",
       "   ...  F001  F0021  F0022  F002A1  F002A2  F002A3  F002A4  F002A5  F0061  \\\n",
       "0  ...     1    NaN    NaN       1       1       1       2       1      1   \n",
       "1  ...     1    NaN    NaN       1       1       1       2       1      1   \n",
       "2  ...     1    NaN    NaN       1       1       1       2       1      1   \n",
       "3  ...     1    NaN    NaN       1       1       1       2       1      1   \n",
       "4  ...     1    NaN    NaN       1       1       1       2       1      1   \n",
       "\n",
       "   F006  \n",
       "0   1.0  \n",
       "1   1.0  \n",
       "2   1.0  \n",
       "3   1.0  \n",
       "4   1.0  \n",
       "\n",
       "[5 rows x 145 columns]"
      ]
     },
     "execution_count": 6,
     "metadata": {},
     "output_type": "execute_result"
    }
   ],
   "source": [
    "#Visualiza os 5 primeiros registros.\n",
    "out2020.head()"
   ]
  },
  {
   "cell_type": "code",
   "execution_count": 7,
   "id": "6cade629",
   "metadata": {},
   "outputs": [
    {
     "data": {
      "text/html": [
       "<div>\n",
       "<style scoped>\n",
       "    .dataframe tbody tr th:only-of-type {\n",
       "        vertical-align: middle;\n",
       "    }\n",
       "\n",
       "    .dataframe tbody tr th {\n",
       "        vertical-align: top;\n",
       "    }\n",
       "\n",
       "    .dataframe thead th {\n",
       "        text-align: right;\n",
       "    }\n",
       "</style>\n",
       "<table border=\"1\" class=\"dataframe\">\n",
       "  <thead>\n",
       "    <tr style=\"text-align: right;\">\n",
       "      <th></th>\n",
       "      <th>Ano</th>\n",
       "      <th>UF</th>\n",
       "      <th>CAPITAL</th>\n",
       "      <th>RM_RIDE</th>\n",
       "      <th>V1008</th>\n",
       "      <th>V1012</th>\n",
       "      <th>V1013</th>\n",
       "      <th>V1016</th>\n",
       "      <th>Estrato</th>\n",
       "      <th>UPA</th>\n",
       "      <th>...</th>\n",
       "      <th>F001</th>\n",
       "      <th>F0021</th>\n",
       "      <th>F0022</th>\n",
       "      <th>F002A1</th>\n",
       "      <th>F002A2</th>\n",
       "      <th>F002A3</th>\n",
       "      <th>F002A4</th>\n",
       "      <th>F002A5</th>\n",
       "      <th>F0061</th>\n",
       "      <th>F006</th>\n",
       "    </tr>\n",
       "  </thead>\n",
       "  <tbody>\n",
       "    <tr>\n",
       "      <th>0</th>\n",
       "      <td>2020</td>\n",
       "      <td>11</td>\n",
       "      <td>11.0</td>\n",
       "      <td>NaN</td>\n",
       "      <td>1</td>\n",
       "      <td>4</td>\n",
       "      <td>11</td>\n",
       "      <td>7</td>\n",
       "      <td>1110011</td>\n",
       "      <td>110015970</td>\n",
       "      <td>...</td>\n",
       "      <td>1</td>\n",
       "      <td>NaN</td>\n",
       "      <td>NaN</td>\n",
       "      <td>1</td>\n",
       "      <td>1</td>\n",
       "      <td>1</td>\n",
       "      <td>2</td>\n",
       "      <td>1</td>\n",
       "      <td>1</td>\n",
       "      <td>1.0</td>\n",
       "    </tr>\n",
       "    <tr>\n",
       "      <th>1</th>\n",
       "      <td>2020</td>\n",
       "      <td>11</td>\n",
       "      <td>11.0</td>\n",
       "      <td>NaN</td>\n",
       "      <td>1</td>\n",
       "      <td>4</td>\n",
       "      <td>11</td>\n",
       "      <td>7</td>\n",
       "      <td>1110011</td>\n",
       "      <td>110015970</td>\n",
       "      <td>...</td>\n",
       "      <td>1</td>\n",
       "      <td>NaN</td>\n",
       "      <td>NaN</td>\n",
       "      <td>1</td>\n",
       "      <td>1</td>\n",
       "      <td>1</td>\n",
       "      <td>2</td>\n",
       "      <td>1</td>\n",
       "      <td>1</td>\n",
       "      <td>1.0</td>\n",
       "    </tr>\n",
       "    <tr>\n",
       "      <th>2</th>\n",
       "      <td>2020</td>\n",
       "      <td>11</td>\n",
       "      <td>11.0</td>\n",
       "      <td>NaN</td>\n",
       "      <td>1</td>\n",
       "      <td>4</td>\n",
       "      <td>11</td>\n",
       "      <td>7</td>\n",
       "      <td>1110011</td>\n",
       "      <td>110015970</td>\n",
       "      <td>...</td>\n",
       "      <td>1</td>\n",
       "      <td>NaN</td>\n",
       "      <td>NaN</td>\n",
       "      <td>1</td>\n",
       "      <td>1</td>\n",
       "      <td>1</td>\n",
       "      <td>2</td>\n",
       "      <td>1</td>\n",
       "      <td>1</td>\n",
       "      <td>1.0</td>\n",
       "    </tr>\n",
       "    <tr>\n",
       "      <th>3</th>\n",
       "      <td>2020</td>\n",
       "      <td>11</td>\n",
       "      <td>11.0</td>\n",
       "      <td>NaN</td>\n",
       "      <td>1</td>\n",
       "      <td>4</td>\n",
       "      <td>11</td>\n",
       "      <td>7</td>\n",
       "      <td>1110011</td>\n",
       "      <td>110015970</td>\n",
       "      <td>...</td>\n",
       "      <td>1</td>\n",
       "      <td>NaN</td>\n",
       "      <td>NaN</td>\n",
       "      <td>1</td>\n",
       "      <td>1</td>\n",
       "      <td>1</td>\n",
       "      <td>2</td>\n",
       "      <td>1</td>\n",
       "      <td>1</td>\n",
       "      <td>1.0</td>\n",
       "    </tr>\n",
       "    <tr>\n",
       "      <th>4</th>\n",
       "      <td>2020</td>\n",
       "      <td>11</td>\n",
       "      <td>11.0</td>\n",
       "      <td>NaN</td>\n",
       "      <td>2</td>\n",
       "      <td>1</td>\n",
       "      <td>11</td>\n",
       "      <td>7</td>\n",
       "      <td>1110011</td>\n",
       "      <td>110015970</td>\n",
       "      <td>...</td>\n",
       "      <td>1</td>\n",
       "      <td>NaN</td>\n",
       "      <td>NaN</td>\n",
       "      <td>1</td>\n",
       "      <td>1</td>\n",
       "      <td>1</td>\n",
       "      <td>2</td>\n",
       "      <td>1</td>\n",
       "      <td>1</td>\n",
       "      <td>1.0</td>\n",
       "    </tr>\n",
       "  </tbody>\n",
       "</table>\n",
       "<p>5 rows × 148 columns</p>\n",
       "</div>"
      ],
      "text/plain": [
       "    Ano  UF  CAPITAL  RM_RIDE  V1008  V1012  V1013  V1016  Estrato        UPA  \\\n",
       "0  2020  11     11.0      NaN      1      4     11      7  1110011  110015970   \n",
       "1  2020  11     11.0      NaN      1      4     11      7  1110011  110015970   \n",
       "2  2020  11     11.0      NaN      1      4     11      7  1110011  110015970   \n",
       "3  2020  11     11.0      NaN      1      4     11      7  1110011  110015970   \n",
       "4  2020  11     11.0      NaN      2      1     11      7  1110011  110015970   \n",
       "\n",
       "   ...  F001  F0021  F0022  F002A1  F002A2  F002A3  F002A4  F002A5  F0061  \\\n",
       "0  ...     1    NaN    NaN       1       1       1       2       1      1   \n",
       "1  ...     1    NaN    NaN       1       1       1       2       1      1   \n",
       "2  ...     1    NaN    NaN       1       1       1       2       1      1   \n",
       "3  ...     1    NaN    NaN       1       1       1       2       1      1   \n",
       "4  ...     1    NaN    NaN       1       1       1       2       1      1   \n",
       "\n",
       "   F006  \n",
       "0   1.0  \n",
       "1   1.0  \n",
       "2   1.0  \n",
       "3   1.0  \n",
       "4   1.0  \n",
       "\n",
       "[5 rows x 148 columns]"
      ]
     },
     "execution_count": 7,
     "metadata": {},
     "output_type": "execute_result"
    }
   ],
   "source": [
    "#Visualiza os 5 primeiros registros.\n",
    "nov2020.head()"
   ]
  },
  {
   "cell_type": "markdown",
   "id": "c6acba63",
   "metadata": {},
   "source": [
    "## Tratando e Modelando os dados que serão utilizados no estudo\n",
    "\n",
    "### --> Julho/2020"
   ]
  },
  {
   "cell_type": "code",
   "execution_count": 8,
   "id": "f9c78aa9",
   "metadata": {},
   "outputs": [
    {
     "data": {
      "text/html": [
       "<div>\n",
       "<style scoped>\n",
       "    .dataframe tbody tr th:only-of-type {\n",
       "        vertical-align: middle;\n",
       "    }\n",
       "\n",
       "    .dataframe tbody tr th {\n",
       "        vertical-align: top;\n",
       "    }\n",
       "\n",
       "    .dataframe thead th {\n",
       "        text-align: right;\n",
       "    }\n",
       "</style>\n",
       "<table border=\"1\" class=\"dataframe\">\n",
       "  <thead>\n",
       "    <tr style=\"text-align: right;\">\n",
       "      <th></th>\n",
       "      <th>Estado</th>\n",
       "      <th>Mes</th>\n",
       "      <th>Area</th>\n",
       "      <th>Idade_Morador</th>\n",
       "      <th>Sexo</th>\n",
       "      <th>Cor_Raca</th>\n",
       "      <th>Febre</th>\n",
       "      <th>Tosse</th>\n",
       "      <th>Dific_respiratoria</th>\n",
       "      <th>Cheiro_sabor</th>\n",
       "      <th>Plano_Saude</th>\n",
       "      <th>Teste_Covid</th>\n",
       "      <th>Tempo_afastamento</th>\n",
       "      <th>Carac_trabalho</th>\n",
       "      <th>Motivo_afastamento</th>\n",
       "    </tr>\n",
       "  </thead>\n",
       "  <tbody>\n",
       "    <tr>\n",
       "      <th>0</th>\n",
       "      <td>Rondônia</td>\n",
       "      <td>Julho</td>\n",
       "      <td>Urbana</td>\n",
       "      <td>35</td>\n",
       "      <td>Homem</td>\n",
       "      <td>Parda</td>\n",
       "      <td>Não</td>\n",
       "      <td>Não</td>\n",
       "      <td>Não</td>\n",
       "      <td>Não</td>\n",
       "      <td>Sim</td>\n",
       "      <td>Não</td>\n",
       "      <td>Não aplicável</td>\n",
       "      <td>Empregado do setor privado</td>\n",
       "      <td>Não aplicável</td>\n",
       "    </tr>\n",
       "    <tr>\n",
       "      <th>1</th>\n",
       "      <td>Rondônia</td>\n",
       "      <td>Julho</td>\n",
       "      <td>Urbana</td>\n",
       "      <td>29</td>\n",
       "      <td>Mulher</td>\n",
       "      <td>Parda</td>\n",
       "      <td>Não</td>\n",
       "      <td>Não</td>\n",
       "      <td>Não</td>\n",
       "      <td>Não</td>\n",
       "      <td>Não</td>\n",
       "      <td>Não</td>\n",
       "      <td>De 1 mês a menos de 1 ano</td>\n",
       "      <td>Não aplicável</td>\n",
       "      <td>Estava em quarentena, isolamento, distanciamen...</td>\n",
       "    </tr>\n",
       "    <tr>\n",
       "      <th>2</th>\n",
       "      <td>Rondônia</td>\n",
       "      <td>Julho</td>\n",
       "      <td>Urbana</td>\n",
       "      <td>13</td>\n",
       "      <td>Homem</td>\n",
       "      <td>Parda</td>\n",
       "      <td>Não</td>\n",
       "      <td>Não</td>\n",
       "      <td>Não</td>\n",
       "      <td>Não</td>\n",
       "      <td>Sim</td>\n",
       "      <td>Não</td>\n",
       "      <td>Não aplicável</td>\n",
       "      <td>Não aplicável</td>\n",
       "      <td>Não aplicável</td>\n",
       "    </tr>\n",
       "    <tr>\n",
       "      <th>3</th>\n",
       "      <td>Rondônia</td>\n",
       "      <td>Julho</td>\n",
       "      <td>Urbana</td>\n",
       "      <td>10</td>\n",
       "      <td>Homem</td>\n",
       "      <td>Parda</td>\n",
       "      <td>Não</td>\n",
       "      <td>Não</td>\n",
       "      <td>Não</td>\n",
       "      <td>Não</td>\n",
       "      <td>Sim</td>\n",
       "      <td>Não</td>\n",
       "      <td>Não aplicável</td>\n",
       "      <td>Não aplicável</td>\n",
       "      <td>Não aplicável</td>\n",
       "    </tr>\n",
       "    <tr>\n",
       "      <th>4</th>\n",
       "      <td>Rondônia</td>\n",
       "      <td>Julho</td>\n",
       "      <td>Urbana</td>\n",
       "      <td>57</td>\n",
       "      <td>Mulher</td>\n",
       "      <td>Branca</td>\n",
       "      <td>Não</td>\n",
       "      <td>Não</td>\n",
       "      <td>Não</td>\n",
       "      <td>Não</td>\n",
       "      <td>Não</td>\n",
       "      <td>Não</td>\n",
       "      <td>Não aplicável</td>\n",
       "      <td>Não aplicável</td>\n",
       "      <td>Não aplicável</td>\n",
       "    </tr>\n",
       "    <tr>\n",
       "      <th>...</th>\n",
       "      <td>...</td>\n",
       "      <td>...</td>\n",
       "      <td>...</td>\n",
       "      <td>...</td>\n",
       "      <td>...</td>\n",
       "      <td>...</td>\n",
       "      <td>...</td>\n",
       "      <td>...</td>\n",
       "      <td>...</td>\n",
       "      <td>...</td>\n",
       "      <td>...</td>\n",
       "      <td>...</td>\n",
       "      <td>...</td>\n",
       "      <td>...</td>\n",
       "      <td>...</td>\n",
       "    </tr>\n",
       "    <tr>\n",
       "      <th>384161</th>\n",
       "      <td>Distrito Federal</td>\n",
       "      <td>Julho</td>\n",
       "      <td>Rural</td>\n",
       "      <td>45</td>\n",
       "      <td>Mulher</td>\n",
       "      <td>Parda</td>\n",
       "      <td>Não</td>\n",
       "      <td>Não</td>\n",
       "      <td>Não</td>\n",
       "      <td>Não</td>\n",
       "      <td>Não</td>\n",
       "      <td>Não</td>\n",
       "      <td>Não aplicável</td>\n",
       "      <td>Empregado do setor privado</td>\n",
       "      <td>Não aplicável</td>\n",
       "    </tr>\n",
       "    <tr>\n",
       "      <th>384162</th>\n",
       "      <td>Distrito Federal</td>\n",
       "      <td>Julho</td>\n",
       "      <td>Rural</td>\n",
       "      <td>22</td>\n",
       "      <td>Mulher</td>\n",
       "      <td>Parda</td>\n",
       "      <td>Não</td>\n",
       "      <td>Não</td>\n",
       "      <td>Não</td>\n",
       "      <td>Não</td>\n",
       "      <td>Não</td>\n",
       "      <td>Não</td>\n",
       "      <td>Não aplicável</td>\n",
       "      <td>Conta própria</td>\n",
       "      <td>Não aplicável</td>\n",
       "    </tr>\n",
       "    <tr>\n",
       "      <th>384163</th>\n",
       "      <td>Distrito Federal</td>\n",
       "      <td>Julho</td>\n",
       "      <td>Rural</td>\n",
       "      <td>16</td>\n",
       "      <td>Mulher</td>\n",
       "      <td>Parda</td>\n",
       "      <td>Não</td>\n",
       "      <td>Não</td>\n",
       "      <td>Não</td>\n",
       "      <td>Não</td>\n",
       "      <td>Não</td>\n",
       "      <td>Não</td>\n",
       "      <td>Não aplicável</td>\n",
       "      <td>Não aplicável</td>\n",
       "      <td>Não aplicável</td>\n",
       "    </tr>\n",
       "    <tr>\n",
       "      <th>384164</th>\n",
       "      <td>Distrito Federal</td>\n",
       "      <td>Julho</td>\n",
       "      <td>Rural</td>\n",
       "      <td>83</td>\n",
       "      <td>Homem</td>\n",
       "      <td>Branca</td>\n",
       "      <td>Não</td>\n",
       "      <td>Não</td>\n",
       "      <td>Não</td>\n",
       "      <td>Não</td>\n",
       "      <td>Não</td>\n",
       "      <td>Não</td>\n",
       "      <td>Não aplicável</td>\n",
       "      <td>Não aplicável</td>\n",
       "      <td>Não aplicável</td>\n",
       "    </tr>\n",
       "    <tr>\n",
       "      <th>384165</th>\n",
       "      <td>Distrito Federal</td>\n",
       "      <td>Julho</td>\n",
       "      <td>Rural</td>\n",
       "      <td>75</td>\n",
       "      <td>Mulher</td>\n",
       "      <td>Parda</td>\n",
       "      <td>Não</td>\n",
       "      <td>Não</td>\n",
       "      <td>Não</td>\n",
       "      <td>Não</td>\n",
       "      <td>Não</td>\n",
       "      <td>Não</td>\n",
       "      <td>Não aplicável</td>\n",
       "      <td>Não aplicável</td>\n",
       "      <td>Não aplicável</td>\n",
       "    </tr>\n",
       "  </tbody>\n",
       "</table>\n",
       "<p>384166 rows × 15 columns</p>\n",
       "</div>"
      ],
      "text/plain": [
       "                  Estado    Mes    Area  Idade_Morador    Sexo Cor_Raca Febre  \\\n",
       "0               Rondônia  Julho  Urbana             35   Homem    Parda   Não   \n",
       "1               Rondônia  Julho  Urbana             29  Mulher    Parda   Não   \n",
       "2               Rondônia  Julho  Urbana             13   Homem    Parda   Não   \n",
       "3               Rondônia  Julho  Urbana             10   Homem    Parda   Não   \n",
       "4               Rondônia  Julho  Urbana             57  Mulher   Branca   Não   \n",
       "...                  ...    ...     ...            ...     ...      ...   ...   \n",
       "384161  Distrito Federal  Julho   Rural             45  Mulher    Parda   Não   \n",
       "384162  Distrito Federal  Julho   Rural             22  Mulher    Parda   Não   \n",
       "384163  Distrito Federal  Julho   Rural             16  Mulher    Parda   Não   \n",
       "384164  Distrito Federal  Julho   Rural             83   Homem   Branca   Não   \n",
       "384165  Distrito Federal  Julho   Rural             75  Mulher    Parda   Não   \n",
       "\n",
       "       Tosse Dific_respiratoria Cheiro_sabor Plano_Saude Teste_Covid  \\\n",
       "0        Não                Não          Não         Sim         Não   \n",
       "1        Não                Não          Não         Não         Não   \n",
       "2        Não                Não          Não         Sim         Não   \n",
       "3        Não                Não          Não         Sim         Não   \n",
       "4        Não                Não          Não         Não         Não   \n",
       "...      ...                ...          ...         ...         ...   \n",
       "384161   Não                Não          Não         Não         Não   \n",
       "384162   Não                Não          Não         Não         Não   \n",
       "384163   Não                Não          Não         Não         Não   \n",
       "384164   Não                Não          Não         Não         Não   \n",
       "384165   Não                Não          Não         Não         Não   \n",
       "\n",
       "                Tempo_afastamento              Carac_trabalho  \\\n",
       "0                   Não aplicável  Empregado do setor privado   \n",
       "1       De 1 mês a menos de 1 ano               Não aplicável   \n",
       "2                   Não aplicável               Não aplicável   \n",
       "3                   Não aplicável               Não aplicável   \n",
       "4                   Não aplicável               Não aplicável   \n",
       "...                           ...                         ...   \n",
       "384161              Não aplicável  Empregado do setor privado   \n",
       "384162              Não aplicável               Conta própria   \n",
       "384163              Não aplicável               Não aplicável   \n",
       "384164              Não aplicável               Não aplicável   \n",
       "384165              Não aplicável               Não aplicável   \n",
       "\n",
       "                                       Motivo_afastamento  \n",
       "0                                           Não aplicável  \n",
       "1       Estava em quarentena, isolamento, distanciamen...  \n",
       "2                                           Não aplicável  \n",
       "3                                           Não aplicável  \n",
       "4                                           Não aplicável  \n",
       "...                                                   ...  \n",
       "384161                                      Não aplicável  \n",
       "384162                                      Não aplicável  \n",
       "384163                                      Não aplicável  \n",
       "384164                                      Não aplicável  \n",
       "384165                                      Não aplicável  \n",
       "\n",
       "[384166 rows x 15 columns]"
      ]
     },
     "execution_count": 8,
     "metadata": {},
     "output_type": "execute_result"
    }
   ],
   "source": [
    "# Constroi o DataFrame com as colunas selecionadas para o mês de Julho.\n",
    "df_jul2020 = pd.DataFrame(jul2020,columns = ['UF', 'V1013', 'V1022', 'A002', 'A003', 'A004', 'B0011', 'B0012', 'B0014',\n",
    "                                             'B00111','B007','B008', 'C005', 'C007', 'C003'])\n",
    "\n",
    "# Renomear as colunas\n",
    "df_jul2020 = df_jul2020.rename(columns = {'UF':'Estado', \n",
    "                                          'V1013':'Mes',\n",
    "                                          'V1022':'Area',\n",
    "                                          'A002':'Idade_Morador', \n",
    "                                          'A003':'Sexo',\n",
    "                                          'A004':'Cor_Raca',\n",
    "                                          'B0011':'Febre', \n",
    "                                          'B0012':'Tosse',\n",
    "                                          'B0014':'Dific_respiratoria',\n",
    "                                          'B00111':'Cheiro_sabor',\n",
    "                                          'B007':'Plano_Saude',\n",
    "                                          'B008':'Teste_Covid',\n",
    "                                          'C005':'Tempo_afastamento', \n",
    "                                          'C007':'Carac_trabalho',\n",
    "                                          'C003':'Motivo_afastamento'})\n",
    "\n",
    "# Modelagem e Tratamento dos dados\n",
    "\n",
    "## Substitui os valores numéricos dos Estados para a legenda apropriada a leitura do dado.\n",
    "df_jul2020['Estado'] = df_jul2020['Estado'].map({11:'Rondônia', 12:'Acre', 13:'Amazonas', \n",
    "                                                       14:'Roraima', 15:'Pará',16:'Amapá', \n",
    "                                                       17:'Tocantins', 21:'Maranhão', 22:'Piauí', \n",
    "                                                       23: 'Ceará', 24:'Rio Grande do Norte', 25:'Paraíba', \n",
    "                                                       26:'Pernambuco', 27: 'Alagoas', 28: 'Sergipe', \n",
    "                                                       29: 'Bahia', 31:'Minas Gerais', 32: 'Espírito Santo', \n",
    "                                                       33:'Rio de Janeiro',35:'São Paulo', 41: 'Paraná', \n",
    "                                                       42: 'Santa Catarina', 43: 'Rio Grande do Sul', 50:'Mato Grosso do Sul', \n",
    "                                                       51:'Mato Grosso',52:'Goiás', 53: 'Distrito Federal'}, na_action=None)\n",
    "\n",
    "## Substitui os valor numérico do Mês para a legenda apropriada a leitura do dado.\n",
    "df_jul2020['Mes'] = df_jul2020['Mes'].map({7:'Julho'}, na_action=None)\n",
    "\n",
    "## Substitui os valor da Área do município(Urbana ou Rural) para a legenda apropriada a leitura do dado.\n",
    "df_jul2020['Area'] = df_jul2020['Area'].map({1:'Urbana', 2:'Rural'}, na_action=None)\n",
    "\n",
    "\n",
    "## Substitui os valores numéricos do Sexo para a legenda apropriada a leitura do dado.\n",
    "df_jul2020['Sexo'] = df_jul2020['Sexo'].map({1:'Homem', 2:'Mulher'}, na_action=None)\n",
    "\n",
    "## Substitui os valores numéricos de Cor e Raça para a legenda apropriada a leitura do dado.\n",
    "df_jul2020['Cor_Raca'] = df_jul2020['Cor_Raca'].map({1:'Branca', 2:'Preta', 3: 'Amarela', \n",
    "                                                    4: 'Parda', 5:'Indígena', 9:'Ignorado'}, na_action=None)\n",
    "\n",
    "## Substitui os valores numéricos sobre sintoma de Febre para a legenda apropriada a leitura do dado.\n",
    "df_jul2020['Febre'] = df_jul2020['Febre'].map({1:'Sim', 2:'Não', 3:'Não sabe'}, na_action=None)\n",
    "\n",
    "## Substitui os valores numéricos sobre sintoma de Tosse para a legenda apropriada a leitura do dado.\n",
    "df_jul2020['Tosse'] = df_jul2020['Tosse'].map({1:'Sim', 2:'Não', 3:'Não sabe'}, na_action=None)\n",
    "\n",
    "## Substitui os valores numéricos sobre sintoma de Dificuldade respiratoria para a legenda apropriada a leitura do dado.\n",
    "df_jul2020['Dific_respiratoria'] = df_jul2020['Dific_respiratoria'].map({1:'Sim', 2:'Não', 3:'Não sabe'}, na_action=None)\n",
    "\n",
    "\n",
    "## Substitui os valores numéricos sobre sintoma de perda de Cheiro ou sabor para a legenda apropriada a leitura do dado.\n",
    "df_jul2020['Cheiro_sabor'] = df_jul2020['Cheiro_sabor'].map({1:'Sim', 2:'Não', 3:'Não sabe'}, na_action=None)\n",
    "\n",
    "## Substitui os valores numéricos sobre Plano de Saúde para a legenda apropriada a leitura do dado.\n",
    "df_jul2020['Plano_Saude'] = df_jul2020['Plano_Saude'].map({1:'Sim', 2:'Não', 9:'Ignorado'}, na_action=None)\n",
    "\n",
    "## Substitui os valores numéricos sobre Teste de Covid para a legenda apropriada a leitura do dado.\n",
    "df_jul2020['Teste_Covid'] = df_jul2020['Teste_Covid'].map({1:'Sim', 2:'Não', 9:'Ignorado'}, na_action=None)\n",
    "\n",
    "\n",
    "## Substitui os valores numéricos sobre Tempo de afastamento para a legenda apropriada a leitura do dado.\n",
    "df_jul2020['Tempo_afastamento'] = df_jul2020['Tempo_afastamento'].map({1:'Menos de 1 mês', \n",
    "                                                           2:'De 1 mês a menos de 1 ano', \n",
    "                                                           3:'De 1 ano a menos de 2 anos', \n",
    "                                                           4:'2 anos ou mais',\n",
    "                                                          np.nan:'Não aplicável'}, na_action=None)\n",
    "\n",
    "## Substitui os valores numéricos sobre Carac para a legenda apropriada a leitura do dado.\n",
    "df_jul2020['Carac_trabalho'] = df_jul2020['Carac_trabalho'].map({1:'Trabalhador doméstico (empregado doméstico, cuidados, babá)',\n",
    "                                                           2:'Militar do exercito, marinha ou aeronáutica', \n",
    "                                                           3:'Policial militar ou bombeiro mlilitar', \n",
    "                                                           4:'Empregado do setor privado',\n",
    "                                                           5:'Empregado do setor público (inclusive empresas de economia mista)',\n",
    "                                                           6:'Empregador',\n",
    "                                                           7:'Conta própria',\n",
    "                                                           8:'Trabalhador familiar não remunerado em ajuda a membro do domicílio ou parente',\n",
    "                                                           9:'Estava fora do mercado de trabalho (fazia apenas afazeres domésticos, cuidados de pessoas ou produção para próprio consumo)',\n",
    "                                                          np.nan:'Não aplicável'}, na_action=None)\n",
    "\n",
    "## Substitui os valores numéricos sobre Motivo do afastamento para a legenda apropriada a leitura do dado.\n",
    "df_jul2020['Motivo_afastamento'] = df_jul2020['Motivo_afastamento'].map({1:'Estava em quarentena, isolamento, distanciamento social ou férias coletivas', \n",
    "                                                                         2:'Férias, folga ou jornada de trabalho variável', \n",
    "                                                                         3:'Licença maternidade ou paternidade',\n",
    "                                                                         4:'Licença remunerada por motivo de saúde ou acidente da própria pessoa',\n",
    "                                                                         5:'Outro tipo de licença remunerada (estudo, paternidade, casamento, licença prêmio, etc.) ',\n",
    "                                                                         6:'Afastamento do próprio negócio/empresa por motivo de gestação, saúde, acidente, etc., sem ser remunerado por instituto de previdência',\n",
    "                                                                         7:'Fatores ocasionais (mau tempo, paralisação nos serviços de transportes, etc.)',\n",
    "                                                                         8:'Outro motivo',\n",
    "                                                                         np.nan:'Não aplicável'}, na_action=None)\n",
    "\n",
    "# Cria o DataFrame do mês\n",
    "df_jul2020"
   ]
  },
  {
   "cell_type": "markdown",
   "id": "e2f022a9",
   "metadata": {},
   "source": [
    "### --> Agosto / 2020"
   ]
  },
  {
   "cell_type": "code",
   "execution_count": 9,
   "id": "2680840e",
   "metadata": {},
   "outputs": [
    {
     "data": {
      "text/html": [
       "<div>\n",
       "<style scoped>\n",
       "    .dataframe tbody tr th:only-of-type {\n",
       "        vertical-align: middle;\n",
       "    }\n",
       "\n",
       "    .dataframe tbody tr th {\n",
       "        vertical-align: top;\n",
       "    }\n",
       "\n",
       "    .dataframe thead th {\n",
       "        text-align: right;\n",
       "    }\n",
       "</style>\n",
       "<table border=\"1\" class=\"dataframe\">\n",
       "  <thead>\n",
       "    <tr style=\"text-align: right;\">\n",
       "      <th></th>\n",
       "      <th>Estado</th>\n",
       "      <th>Mes</th>\n",
       "      <th>Area</th>\n",
       "      <th>Idade_Morador</th>\n",
       "      <th>Sexo</th>\n",
       "      <th>Cor_Raca</th>\n",
       "      <th>Febre</th>\n",
       "      <th>Tosse</th>\n",
       "      <th>Dific_respiratoria</th>\n",
       "      <th>Cheiro_sabor</th>\n",
       "      <th>Plano_Saude</th>\n",
       "      <th>Teste_Covid</th>\n",
       "      <th>Tempo_afastamento</th>\n",
       "      <th>Carac_trabalho</th>\n",
       "      <th>Motivo_afastamento</th>\n",
       "    </tr>\n",
       "  </thead>\n",
       "  <tbody>\n",
       "    <tr>\n",
       "      <th>0</th>\n",
       "      <td>Rondônia</td>\n",
       "      <td>Agosto</td>\n",
       "      <td>Urbana</td>\n",
       "      <td>36</td>\n",
       "      <td>Homem</td>\n",
       "      <td>Parda</td>\n",
       "      <td>Não</td>\n",
       "      <td>Não</td>\n",
       "      <td>Não</td>\n",
       "      <td>Não</td>\n",
       "      <td>Sim</td>\n",
       "      <td>Não</td>\n",
       "      <td>Não aplicável</td>\n",
       "      <td>Empregado do setor privado</td>\n",
       "      <td>Não aplicável</td>\n",
       "    </tr>\n",
       "    <tr>\n",
       "      <th>1</th>\n",
       "      <td>Rondônia</td>\n",
       "      <td>Agosto</td>\n",
       "      <td>Urbana</td>\n",
       "      <td>30</td>\n",
       "      <td>Mulher</td>\n",
       "      <td>Parda</td>\n",
       "      <td>Não</td>\n",
       "      <td>Não</td>\n",
       "      <td>Não</td>\n",
       "      <td>Não</td>\n",
       "      <td>Não</td>\n",
       "      <td>Não</td>\n",
       "      <td>Não aplicável</td>\n",
       "      <td>Conta própria</td>\n",
       "      <td>Não aplicável</td>\n",
       "    </tr>\n",
       "    <tr>\n",
       "      <th>2</th>\n",
       "      <td>Rondônia</td>\n",
       "      <td>Agosto</td>\n",
       "      <td>Urbana</td>\n",
       "      <td>13</td>\n",
       "      <td>Homem</td>\n",
       "      <td>Parda</td>\n",
       "      <td>Não</td>\n",
       "      <td>Não</td>\n",
       "      <td>Não</td>\n",
       "      <td>Não</td>\n",
       "      <td>Sim</td>\n",
       "      <td>Não</td>\n",
       "      <td>Não aplicável</td>\n",
       "      <td>Não aplicável</td>\n",
       "      <td>Não aplicável</td>\n",
       "    </tr>\n",
       "    <tr>\n",
       "      <th>3</th>\n",
       "      <td>Rondônia</td>\n",
       "      <td>Agosto</td>\n",
       "      <td>Urbana</td>\n",
       "      <td>11</td>\n",
       "      <td>Homem</td>\n",
       "      <td>Parda</td>\n",
       "      <td>Não</td>\n",
       "      <td>Não</td>\n",
       "      <td>Não</td>\n",
       "      <td>Não</td>\n",
       "      <td>Sim</td>\n",
       "      <td>Não</td>\n",
       "      <td>Não aplicável</td>\n",
       "      <td>Não aplicável</td>\n",
       "      <td>Não aplicável</td>\n",
       "    </tr>\n",
       "    <tr>\n",
       "      <th>4</th>\n",
       "      <td>Rondônia</td>\n",
       "      <td>Agosto</td>\n",
       "      <td>Urbana</td>\n",
       "      <td>57</td>\n",
       "      <td>Mulher</td>\n",
       "      <td>Branca</td>\n",
       "      <td>Não</td>\n",
       "      <td>Não</td>\n",
       "      <td>Não</td>\n",
       "      <td>Não</td>\n",
       "      <td>Não</td>\n",
       "      <td>Não</td>\n",
       "      <td>Não aplicável</td>\n",
       "      <td>Não aplicável</td>\n",
       "      <td>Não aplicável</td>\n",
       "    </tr>\n",
       "    <tr>\n",
       "      <th>...</th>\n",
       "      <td>...</td>\n",
       "      <td>...</td>\n",
       "      <td>...</td>\n",
       "      <td>...</td>\n",
       "      <td>...</td>\n",
       "      <td>...</td>\n",
       "      <td>...</td>\n",
       "      <td>...</td>\n",
       "      <td>...</td>\n",
       "      <td>...</td>\n",
       "      <td>...</td>\n",
       "      <td>...</td>\n",
       "      <td>...</td>\n",
       "      <td>...</td>\n",
       "      <td>...</td>\n",
       "    </tr>\n",
       "    <tr>\n",
       "      <th>386515</th>\n",
       "      <td>Distrito Federal</td>\n",
       "      <td>Agosto</td>\n",
       "      <td>Rural</td>\n",
       "      <td>75</td>\n",
       "      <td>Mulher</td>\n",
       "      <td>Parda</td>\n",
       "      <td>Não</td>\n",
       "      <td>Não</td>\n",
       "      <td>Não</td>\n",
       "      <td>Não</td>\n",
       "      <td>Não</td>\n",
       "      <td>Não</td>\n",
       "      <td>Não aplicável</td>\n",
       "      <td>Não aplicável</td>\n",
       "      <td>Não aplicável</td>\n",
       "    </tr>\n",
       "    <tr>\n",
       "      <th>386516</th>\n",
       "      <td>Distrito Federal</td>\n",
       "      <td>Agosto</td>\n",
       "      <td>Rural</td>\n",
       "      <td>57</td>\n",
       "      <td>Mulher</td>\n",
       "      <td>Parda</td>\n",
       "      <td>Não</td>\n",
       "      <td>Não</td>\n",
       "      <td>Não</td>\n",
       "      <td>Não</td>\n",
       "      <td>Não</td>\n",
       "      <td>Sim</td>\n",
       "      <td>Não aplicável</td>\n",
       "      <td>Não aplicável</td>\n",
       "      <td>Não aplicável</td>\n",
       "    </tr>\n",
       "    <tr>\n",
       "      <th>386517</th>\n",
       "      <td>Distrito Federal</td>\n",
       "      <td>Agosto</td>\n",
       "      <td>Rural</td>\n",
       "      <td>52</td>\n",
       "      <td>Homem</td>\n",
       "      <td>Parda</td>\n",
       "      <td>Não</td>\n",
       "      <td>Não</td>\n",
       "      <td>Não</td>\n",
       "      <td>Não</td>\n",
       "      <td>Não</td>\n",
       "      <td>Não</td>\n",
       "      <td>Não aplicável</td>\n",
       "      <td>Empregado do setor privado</td>\n",
       "      <td>Não aplicável</td>\n",
       "    </tr>\n",
       "    <tr>\n",
       "      <th>386518</th>\n",
       "      <td>Distrito Federal</td>\n",
       "      <td>Agosto</td>\n",
       "      <td>Rural</td>\n",
       "      <td>23</td>\n",
       "      <td>Homem</td>\n",
       "      <td>Parda</td>\n",
       "      <td>Não</td>\n",
       "      <td>Não</td>\n",
       "      <td>Não</td>\n",
       "      <td>Não</td>\n",
       "      <td>Não</td>\n",
       "      <td>Não</td>\n",
       "      <td>Não aplicável</td>\n",
       "      <td>Não aplicável</td>\n",
       "      <td>Não aplicável</td>\n",
       "    </tr>\n",
       "    <tr>\n",
       "      <th>386519</th>\n",
       "      <td>Distrito Federal</td>\n",
       "      <td>Agosto</td>\n",
       "      <td>Rural</td>\n",
       "      <td>5</td>\n",
       "      <td>Mulher</td>\n",
       "      <td>Parda</td>\n",
       "      <td>Não</td>\n",
       "      <td>Não</td>\n",
       "      <td>Não</td>\n",
       "      <td>Não</td>\n",
       "      <td>Não</td>\n",
       "      <td>Não</td>\n",
       "      <td>Não aplicável</td>\n",
       "      <td>Não aplicável</td>\n",
       "      <td>Não aplicável</td>\n",
       "    </tr>\n",
       "  </tbody>\n",
       "</table>\n",
       "<p>386520 rows × 15 columns</p>\n",
       "</div>"
      ],
      "text/plain": [
       "                  Estado     Mes    Area  Idade_Morador    Sexo Cor_Raca  \\\n",
       "0               Rondônia  Agosto  Urbana             36   Homem    Parda   \n",
       "1               Rondônia  Agosto  Urbana             30  Mulher    Parda   \n",
       "2               Rondônia  Agosto  Urbana             13   Homem    Parda   \n",
       "3               Rondônia  Agosto  Urbana             11   Homem    Parda   \n",
       "4               Rondônia  Agosto  Urbana             57  Mulher   Branca   \n",
       "...                  ...     ...     ...            ...     ...      ...   \n",
       "386515  Distrito Federal  Agosto   Rural             75  Mulher    Parda   \n",
       "386516  Distrito Federal  Agosto   Rural             57  Mulher    Parda   \n",
       "386517  Distrito Federal  Agosto   Rural             52   Homem    Parda   \n",
       "386518  Distrito Federal  Agosto   Rural             23   Homem    Parda   \n",
       "386519  Distrito Federal  Agosto   Rural              5  Mulher    Parda   \n",
       "\n",
       "       Febre Tosse Dific_respiratoria Cheiro_sabor Plano_Saude Teste_Covid  \\\n",
       "0        Não   Não                Não          Não         Sim         Não   \n",
       "1        Não   Não                Não          Não         Não         Não   \n",
       "2        Não   Não                Não          Não         Sim         Não   \n",
       "3        Não   Não                Não          Não         Sim         Não   \n",
       "4        Não   Não                Não          Não         Não         Não   \n",
       "...      ...   ...                ...          ...         ...         ...   \n",
       "386515   Não   Não                Não          Não         Não         Não   \n",
       "386516   Não   Não                Não          Não         Não         Sim   \n",
       "386517   Não   Não                Não          Não         Não         Não   \n",
       "386518   Não   Não                Não          Não         Não         Não   \n",
       "386519   Não   Não                Não          Não         Não         Não   \n",
       "\n",
       "       Tempo_afastamento              Carac_trabalho Motivo_afastamento  \n",
       "0          Não aplicável  Empregado do setor privado      Não aplicável  \n",
       "1          Não aplicável               Conta própria      Não aplicável  \n",
       "2          Não aplicável               Não aplicável      Não aplicável  \n",
       "3          Não aplicável               Não aplicável      Não aplicável  \n",
       "4          Não aplicável               Não aplicável      Não aplicável  \n",
       "...                  ...                         ...                ...  \n",
       "386515     Não aplicável               Não aplicável      Não aplicável  \n",
       "386516     Não aplicável               Não aplicável      Não aplicável  \n",
       "386517     Não aplicável  Empregado do setor privado      Não aplicável  \n",
       "386518     Não aplicável               Não aplicável      Não aplicável  \n",
       "386519     Não aplicável               Não aplicável      Não aplicável  \n",
       "\n",
       "[386520 rows x 15 columns]"
      ]
     },
     "execution_count": 9,
     "metadata": {},
     "output_type": "execute_result"
    }
   ],
   "source": [
    "# Constroi o DataFrame com as colunas selecionadas para o mês de Julho.\n",
    "df_ago2020 = pd.DataFrame(ago2020,columns = ['UF', 'V1013', 'V1022', 'A002', 'A003', 'A004', 'B0011', 'B0012', 'B0014',\n",
    "                                             'B00111','B007','B008', 'C005', 'C007', 'C003'])\n",
    "\n",
    "# Renomear as colunas\n",
    "df_ago2020 = df_ago2020.rename(columns = {'UF':'Estado', \n",
    "                                          'V1013':'Mes',\n",
    "                                          'V1022':'Area',\n",
    "                                          'A002':'Idade_Morador', \n",
    "                                          'A003':'Sexo',\n",
    "                                          'A004':'Cor_Raca',\n",
    "                                          'B0011':'Febre', \n",
    "                                          'B0012':'Tosse',\n",
    "                                          'B0014':'Dific_respiratoria',\n",
    "                                          'B00111':'Cheiro_sabor',\n",
    "                                          'B007':'Plano_Saude',\n",
    "                                          'B008':'Teste_Covid',\n",
    "                                          'C005':'Tempo_afastamento', \n",
    "                                          'C007':'Carac_trabalho',\n",
    "                                          'C003':'Motivo_afastamento'})\n",
    "\n",
    "# Modelagem e Tratamento dos dados\n",
    "\n",
    "## Substitui os valores numéricos dos Estados para a legenda apropriada a leitura do dado.\n",
    "df_ago2020['Estado'] = df_ago2020['Estado'].map({11:'Rondônia', 12:'Acre', 13:'Amazonas', \n",
    "                                                       14:'Roraima', 15:'Pará',16:'Amapá', \n",
    "                                                       17:'Tocantins', 21:'Maranhão', 22:'Piauí', \n",
    "                                                       23: 'Ceará', 24:'Rio Grande do Norte', 25:'Paraíba', \n",
    "                                                       26:'Pernambuco', 27: 'Alagoas', 28: 'Sergipe', \n",
    "                                                       29: 'Bahia', 31:'Minas Gerais', 32: 'Espírito Santo', \n",
    "                                                       33:'Rio de Janeiro',35:'São Paulo', 41: 'Paraná', \n",
    "                                                       42: 'Santa Catarina', 43: 'Rio Grande do Sul', 50:'Mato Grosso do Sul', \n",
    "                                                       51:'Mato Grosso',52:'Goiás', 53: 'Distrito Federal'}, na_action=None)\n",
    "\n",
    "## Substitui os valor numérico do Mês para a legenda apropriada a leitura do dado.\n",
    "df_ago2020['Mes'] = df_ago2020['Mes'].map({8:'Agosto'}, na_action=None)\n",
    "\n",
    "## Substitui os valor da Área do município(Urbana ou Rural) para a legenda apropriada a leitura do dado.\n",
    "df_ago2020['Area'] = df_ago2020['Area'].map({1:'Urbana', 2:'Rural'}, na_action=None)\n",
    "\n",
    "\n",
    "## Substitui os valores numéricos do Sexo para a legenda apropriada a leitura do dado.\n",
    "df_ago2020['Sexo'] = df_ago2020['Sexo'].map({1:'Homem', 2:'Mulher'}, na_action=None)\n",
    "\n",
    "## Substitui os valores numéricos de Cor e Raça para a legenda apropriada a leitura do dado.\n",
    "df_ago2020['Cor_Raca'] = df_ago2020['Cor_Raca'].map({1:'Branca', 2:'Preta', 3: 'Amarela', \n",
    "                                                    4: 'Parda', 5:'Indígena', 9:'Ignorado'}, na_action=None)\n",
    "\n",
    "## Substitui os valores numéricos sobre sintoma de Febre para a legenda apropriada a leitura do dado.\n",
    "df_ago2020['Febre'] = df_ago2020['Febre'].map({1:'Sim', 2:'Não', 3:'Não sabe'}, na_action=None)\n",
    "\n",
    "## Substitui os valores numéricos sobre sintoma de Tosse para a legenda apropriada a leitura do dado.\n",
    "df_ago2020['Tosse'] = df_ago2020['Tosse'].map({1:'Sim', 2:'Não', 3:'Não sabe'}, na_action=None)\n",
    "\n",
    "## Substitui os valores numéricos sobre sintoma de Dificuldade respiratoria para a legenda apropriada a leitura do dado.\n",
    "df_ago2020['Dific_respiratoria'] = df_ago2020['Dific_respiratoria'].map({1:'Sim', 2:'Não', 3:'Não sabe'}, na_action=None)\n",
    "\n",
    "\n",
    "## Substitui os valores numéricos sobre sintoma de perda de Cheiro ou sabor para a legenda apropriada a leitura do dado.\n",
    "df_ago2020['Cheiro_sabor'] = df_ago2020['Cheiro_sabor'].map({1:'Sim', 2:'Não', 3:'Não sabe'}, na_action=None)\n",
    "\n",
    "## Substitui os valores numéricos sobre Plano de Saúde para a legenda apropriada a leitura do dado.\n",
    "df_ago2020['Plano_Saude'] = df_ago2020['Plano_Saude'].map({1:'Sim', 2:'Não', 9:'Ignorado'}, na_action=None)\n",
    "\n",
    "## Substitui os valores numéricos sobre Teste de Covid para a legenda apropriada a leitura do dado.\n",
    "df_ago2020['Teste_Covid'] = df_ago2020['Teste_Covid'].map({1:'Sim', 2:'Não', 9:'Ignorado'}, na_action=None)\n",
    "\n",
    "\n",
    "## Substitui os valores numéricos sobre Tempo de afastamento para a legenda apropriada a leitura do dado.\n",
    "df_ago2020['Tempo_afastamento'] = df_ago2020['Tempo_afastamento'].map({1:'Menos de 1 mês', \n",
    "                                                           2:'De 1 mês a menos de 1 ano', \n",
    "                                                           3:'De 1 ano a menos de 2 anos', \n",
    "                                                           4:'2 anos ou mais',\n",
    "                                                          np.nan:'Não aplicável'}, na_action=None)\n",
    "\n",
    "## Substitui os valores numéricos sobre Carac para a legenda apropriada a leitura do dado.\n",
    "df_ago2020['Carac_trabalho'] = df_ago2020['Carac_trabalho'].map({1:'Trabalhador doméstico (empregado doméstico, cuidados, babá)',\n",
    "                                                           2:'Militar do exercito, marinha ou aeronáutica', \n",
    "                                                           3:'Policial militar ou bombeiro mlilitar', \n",
    "                                                           4:'Empregado do setor privado',\n",
    "                                                           5:'Empregado do setor público (inclusive empresas de economia mista)',\n",
    "                                                           6:'Empregador',\n",
    "                                                           7:'Conta própria',\n",
    "                                                           8:'Trabalhador familiar não remunerado em ajuda a membro do domicílio ou parente',\n",
    "                                                           9:'Estava fora do mercado de trabalho (fazia apenas afazeres domésticos, cuidados de pessoas ou produção para próprio consumo)',\n",
    "                                                          np.nan:'Não aplicável'}, na_action=None)\n",
    "\n",
    "## Substitui os valores numéricos sobre Motivo do afastamento para a legenda apropriada a leitura do dado.\n",
    "df_ago2020['Motivo_afastamento'] = df_ago2020['Motivo_afastamento'].map({1:'Estava em quarentena, isolamento, distanciamento social ou férias coletivas', \n",
    "                                                                         2:'Férias, folga ou jornada de trabalho variável', \n",
    "                                                                         3:'Licença maternidade ou paternidade',\n",
    "                                                                         4:'Licença remunerada por motivo de saúde ou acidente da própria pessoa',\n",
    "                                                                         5:'Outro tipo de licença remunerada (estudo, paternidade, casamento, licença prêmio, etc.) ',\n",
    "                                                                         6:'Afastamento do próprio negócio/empresa por motivo de gestação, saúde, acidente, etc., sem ser remunerado por instituto de previdência',\n",
    "                                                                         7:'Fatores ocasionais (mau tempo, paralisação nos serviços de transportes, etc.)',\n",
    "                                                                         8:'Outro motivo',\n",
    "                                                                         np.nan:'Não aplicável'}, na_action=None)\n",
    "\n",
    "# Cria o DataFrame do mês\n",
    "df_ago2020"
   ]
  },
  {
   "cell_type": "markdown",
   "id": "1112ef4f",
   "metadata": {},
   "source": [
    "### --> Setembro / 2020"
   ]
  },
  {
   "cell_type": "code",
   "execution_count": 10,
   "id": "0d8504e4",
   "metadata": {},
   "outputs": [
    {
     "data": {
      "text/html": [
       "<div>\n",
       "<style scoped>\n",
       "    .dataframe tbody tr th:only-of-type {\n",
       "        vertical-align: middle;\n",
       "    }\n",
       "\n",
       "    .dataframe tbody tr th {\n",
       "        vertical-align: top;\n",
       "    }\n",
       "\n",
       "    .dataframe thead th {\n",
       "        text-align: right;\n",
       "    }\n",
       "</style>\n",
       "<table border=\"1\" class=\"dataframe\">\n",
       "  <thead>\n",
       "    <tr style=\"text-align: right;\">\n",
       "      <th></th>\n",
       "      <th>Estado</th>\n",
       "      <th>Mes</th>\n",
       "      <th>Area</th>\n",
       "      <th>Idade_Morador</th>\n",
       "      <th>Sexo</th>\n",
       "      <th>Cor_Raca</th>\n",
       "      <th>Febre</th>\n",
       "      <th>Tosse</th>\n",
       "      <th>Dific_respiratoria</th>\n",
       "      <th>Cheiro_sabor</th>\n",
       "      <th>Plano_Saude</th>\n",
       "      <th>Teste_Covid</th>\n",
       "      <th>Tempo_afastamento</th>\n",
       "      <th>Carac_trabalho</th>\n",
       "      <th>Motivo_afastamento</th>\n",
       "    </tr>\n",
       "  </thead>\n",
       "  <tbody>\n",
       "    <tr>\n",
       "      <th>0</th>\n",
       "      <td>Rondônia</td>\n",
       "      <td>Setembro</td>\n",
       "      <td>Urbana</td>\n",
       "      <td>36</td>\n",
       "      <td>Homem</td>\n",
       "      <td>Parda</td>\n",
       "      <td>Não</td>\n",
       "      <td>Não</td>\n",
       "      <td>Não</td>\n",
       "      <td>Não</td>\n",
       "      <td>Sim</td>\n",
       "      <td>Não</td>\n",
       "      <td>Não aplicável</td>\n",
       "      <td>Empregado do setor privado</td>\n",
       "      <td>Não aplicável</td>\n",
       "    </tr>\n",
       "    <tr>\n",
       "      <th>1</th>\n",
       "      <td>Rondônia</td>\n",
       "      <td>Setembro</td>\n",
       "      <td>Urbana</td>\n",
       "      <td>30</td>\n",
       "      <td>Mulher</td>\n",
       "      <td>Parda</td>\n",
       "      <td>Não</td>\n",
       "      <td>Não</td>\n",
       "      <td>Não</td>\n",
       "      <td>Não</td>\n",
       "      <td>Não</td>\n",
       "      <td>Não</td>\n",
       "      <td>Não aplicável</td>\n",
       "      <td>Conta própria</td>\n",
       "      <td>Não aplicável</td>\n",
       "    </tr>\n",
       "    <tr>\n",
       "      <th>2</th>\n",
       "      <td>Rondônia</td>\n",
       "      <td>Setembro</td>\n",
       "      <td>Urbana</td>\n",
       "      <td>13</td>\n",
       "      <td>Homem</td>\n",
       "      <td>Parda</td>\n",
       "      <td>Não</td>\n",
       "      <td>Não</td>\n",
       "      <td>Não</td>\n",
       "      <td>Não</td>\n",
       "      <td>Sim</td>\n",
       "      <td>Não</td>\n",
       "      <td>Não aplicável</td>\n",
       "      <td>Não aplicável</td>\n",
       "      <td>Não aplicável</td>\n",
       "    </tr>\n",
       "    <tr>\n",
       "      <th>3</th>\n",
       "      <td>Rondônia</td>\n",
       "      <td>Setembro</td>\n",
       "      <td>Urbana</td>\n",
       "      <td>11</td>\n",
       "      <td>Homem</td>\n",
       "      <td>Parda</td>\n",
       "      <td>Não</td>\n",
       "      <td>Não</td>\n",
       "      <td>Não</td>\n",
       "      <td>Não</td>\n",
       "      <td>Sim</td>\n",
       "      <td>Não</td>\n",
       "      <td>Não aplicável</td>\n",
       "      <td>Não aplicável</td>\n",
       "      <td>Não aplicável</td>\n",
       "    </tr>\n",
       "    <tr>\n",
       "      <th>4</th>\n",
       "      <td>Rondônia</td>\n",
       "      <td>Setembro</td>\n",
       "      <td>Urbana</td>\n",
       "      <td>57</td>\n",
       "      <td>Mulher</td>\n",
       "      <td>Branca</td>\n",
       "      <td>Não</td>\n",
       "      <td>Não</td>\n",
       "      <td>Não</td>\n",
       "      <td>Não</td>\n",
       "      <td>Não</td>\n",
       "      <td>Não</td>\n",
       "      <td>Não aplicável</td>\n",
       "      <td>Não aplicável</td>\n",
       "      <td>Não aplicável</td>\n",
       "    </tr>\n",
       "    <tr>\n",
       "      <th>...</th>\n",
       "      <td>...</td>\n",
       "      <td>...</td>\n",
       "      <td>...</td>\n",
       "      <td>...</td>\n",
       "      <td>...</td>\n",
       "      <td>...</td>\n",
       "      <td>...</td>\n",
       "      <td>...</td>\n",
       "      <td>...</td>\n",
       "      <td>...</td>\n",
       "      <td>...</td>\n",
       "      <td>...</td>\n",
       "      <td>...</td>\n",
       "      <td>...</td>\n",
       "      <td>...</td>\n",
       "    </tr>\n",
       "    <tr>\n",
       "      <th>387293</th>\n",
       "      <td>Distrito Federal</td>\n",
       "      <td>Setembro</td>\n",
       "      <td>Rural</td>\n",
       "      <td>45</td>\n",
       "      <td>Mulher</td>\n",
       "      <td>Parda</td>\n",
       "      <td>Sim</td>\n",
       "      <td>Sim</td>\n",
       "      <td>Não</td>\n",
       "      <td>Não</td>\n",
       "      <td>Não</td>\n",
       "      <td>Sim</td>\n",
       "      <td>Não aplicável</td>\n",
       "      <td>Empregado do setor privado</td>\n",
       "      <td>Estava em quarentena, isolamento, distanciamen...</td>\n",
       "    </tr>\n",
       "    <tr>\n",
       "      <th>387294</th>\n",
       "      <td>Distrito Federal</td>\n",
       "      <td>Setembro</td>\n",
       "      <td>Rural</td>\n",
       "      <td>22</td>\n",
       "      <td>Mulher</td>\n",
       "      <td>Parda</td>\n",
       "      <td>Sim</td>\n",
       "      <td>Sim</td>\n",
       "      <td>Não</td>\n",
       "      <td>Não</td>\n",
       "      <td>Não</td>\n",
       "      <td>Sim</td>\n",
       "      <td>Não aplicável</td>\n",
       "      <td>Conta própria</td>\n",
       "      <td>Estava em quarentena, isolamento, distanciamen...</td>\n",
       "    </tr>\n",
       "    <tr>\n",
       "      <th>387295</th>\n",
       "      <td>Distrito Federal</td>\n",
       "      <td>Setembro</td>\n",
       "      <td>Rural</td>\n",
       "      <td>16</td>\n",
       "      <td>Mulher</td>\n",
       "      <td>Parda</td>\n",
       "      <td>Sim</td>\n",
       "      <td>Sim</td>\n",
       "      <td>Não</td>\n",
       "      <td>Não</td>\n",
       "      <td>Não</td>\n",
       "      <td>Sim</td>\n",
       "      <td>Não aplicável</td>\n",
       "      <td>Não aplicável</td>\n",
       "      <td>Não aplicável</td>\n",
       "    </tr>\n",
       "    <tr>\n",
       "      <th>387296</th>\n",
       "      <td>Distrito Federal</td>\n",
       "      <td>Setembro</td>\n",
       "      <td>Rural</td>\n",
       "      <td>83</td>\n",
       "      <td>Homem</td>\n",
       "      <td>Branca</td>\n",
       "      <td>Não</td>\n",
       "      <td>Não</td>\n",
       "      <td>Não</td>\n",
       "      <td>Não</td>\n",
       "      <td>Não</td>\n",
       "      <td>Não</td>\n",
       "      <td>Não aplicável</td>\n",
       "      <td>Não aplicável</td>\n",
       "      <td>Não aplicável</td>\n",
       "    </tr>\n",
       "    <tr>\n",
       "      <th>387297</th>\n",
       "      <td>Distrito Federal</td>\n",
       "      <td>Setembro</td>\n",
       "      <td>Rural</td>\n",
       "      <td>75</td>\n",
       "      <td>Mulher</td>\n",
       "      <td>Parda</td>\n",
       "      <td>Não</td>\n",
       "      <td>Não</td>\n",
       "      <td>Não</td>\n",
       "      <td>Não</td>\n",
       "      <td>Não</td>\n",
       "      <td>Não</td>\n",
       "      <td>Não aplicável</td>\n",
       "      <td>Não aplicável</td>\n",
       "      <td>Não aplicável</td>\n",
       "    </tr>\n",
       "  </tbody>\n",
       "</table>\n",
       "<p>387298 rows × 15 columns</p>\n",
       "</div>"
      ],
      "text/plain": [
       "                  Estado       Mes    Area  Idade_Morador    Sexo Cor_Raca  \\\n",
       "0               Rondônia  Setembro  Urbana             36   Homem    Parda   \n",
       "1               Rondônia  Setembro  Urbana             30  Mulher    Parda   \n",
       "2               Rondônia  Setembro  Urbana             13   Homem    Parda   \n",
       "3               Rondônia  Setembro  Urbana             11   Homem    Parda   \n",
       "4               Rondônia  Setembro  Urbana             57  Mulher   Branca   \n",
       "...                  ...       ...     ...            ...     ...      ...   \n",
       "387293  Distrito Federal  Setembro   Rural             45  Mulher    Parda   \n",
       "387294  Distrito Federal  Setembro   Rural             22  Mulher    Parda   \n",
       "387295  Distrito Federal  Setembro   Rural             16  Mulher    Parda   \n",
       "387296  Distrito Federal  Setembro   Rural             83   Homem   Branca   \n",
       "387297  Distrito Federal  Setembro   Rural             75  Mulher    Parda   \n",
       "\n",
       "       Febre Tosse Dific_respiratoria Cheiro_sabor Plano_Saude Teste_Covid  \\\n",
       "0        Não   Não                Não          Não         Sim         Não   \n",
       "1        Não   Não                Não          Não         Não         Não   \n",
       "2        Não   Não                Não          Não         Sim         Não   \n",
       "3        Não   Não                Não          Não         Sim         Não   \n",
       "4        Não   Não                Não          Não         Não         Não   \n",
       "...      ...   ...                ...          ...         ...         ...   \n",
       "387293   Sim   Sim                Não          Não         Não         Sim   \n",
       "387294   Sim   Sim                Não          Não         Não         Sim   \n",
       "387295   Sim   Sim                Não          Não         Não         Sim   \n",
       "387296   Não   Não                Não          Não         Não         Não   \n",
       "387297   Não   Não                Não          Não         Não         Não   \n",
       "\n",
       "       Tempo_afastamento              Carac_trabalho  \\\n",
       "0          Não aplicável  Empregado do setor privado   \n",
       "1          Não aplicável               Conta própria   \n",
       "2          Não aplicável               Não aplicável   \n",
       "3          Não aplicável               Não aplicável   \n",
       "4          Não aplicável               Não aplicável   \n",
       "...                  ...                         ...   \n",
       "387293     Não aplicável  Empregado do setor privado   \n",
       "387294     Não aplicável               Conta própria   \n",
       "387295     Não aplicável               Não aplicável   \n",
       "387296     Não aplicável               Não aplicável   \n",
       "387297     Não aplicável               Não aplicável   \n",
       "\n",
       "                                       Motivo_afastamento  \n",
       "0                                           Não aplicável  \n",
       "1                                           Não aplicável  \n",
       "2                                           Não aplicável  \n",
       "3                                           Não aplicável  \n",
       "4                                           Não aplicável  \n",
       "...                                                   ...  \n",
       "387293  Estava em quarentena, isolamento, distanciamen...  \n",
       "387294  Estava em quarentena, isolamento, distanciamen...  \n",
       "387295                                      Não aplicável  \n",
       "387296                                      Não aplicável  \n",
       "387297                                      Não aplicável  \n",
       "\n",
       "[387298 rows x 15 columns]"
      ]
     },
     "execution_count": 10,
     "metadata": {},
     "output_type": "execute_result"
    }
   ],
   "source": [
    "# Constroi o DataFrame com as colunas selecionadas para o mês de Julho.\n",
    "df_set2020 = pd.DataFrame(set2020,columns = ['UF', 'V1013', 'V1022', 'A002', 'A003', 'A004', 'B0011', 'B0012', 'B0014',\n",
    "                                             'B00111','B007','B008', 'C005', 'C007', 'C003'])\n",
    "\n",
    "# Renomear as colunas\n",
    "df_set2020 = df_set2020.rename(columns = {'UF':'Estado', \n",
    "                                          'V1013':'Mes',\n",
    "                                          'V1022':'Area',\n",
    "                                          'A002':'Idade_Morador', \n",
    "                                          'A003':'Sexo',\n",
    "                                          'A004':'Cor_Raca',\n",
    "                                          'B0011':'Febre', \n",
    "                                          'B0012':'Tosse',\n",
    "                                          'B0014':'Dific_respiratoria',\n",
    "                                          'B00111':'Cheiro_sabor',\n",
    "                                          'B007':'Plano_Saude',\n",
    "                                          'B008':'Teste_Covid',\n",
    "                                          'C005':'Tempo_afastamento', \n",
    "                                          'C007':'Carac_trabalho',\n",
    "                                          'C003':'Motivo_afastamento'})\n",
    "\n",
    "# Modelagem e Tratamento dos dados\n",
    "\n",
    "## Substitui os valores numéricos dos Estados para a legenda apropriada a leitura do dado.\n",
    "df_set2020['Estado'] = df_set2020['Estado'].map({11:'Rondônia', 12:'Acre', 13:'Amazonas', \n",
    "                                                       14:'Roraima', 15:'Pará',16:'Amapá', \n",
    "                                                       17:'Tocantins', 21:'Maranhão', 22:'Piauí', \n",
    "                                                       23: 'Ceará', 24:'Rio Grande do Norte', 25:'Paraíba', \n",
    "                                                       26:'Pernambuco', 27: 'Alagoas', 28: 'Sergipe', \n",
    "                                                       29: 'Bahia', 31:'Minas Gerais', 32: 'Espírito Santo', \n",
    "                                                       33:'Rio de Janeiro',35:'São Paulo', 41: 'Paraná', \n",
    "                                                       42: 'Santa Catarina', 43: 'Rio Grande do Sul', 50:'Mato Grosso do Sul', \n",
    "                                                       51:'Mato Grosso',52:'Goiás', 53: 'Distrito Federal'}, na_action=None)\n",
    "\n",
    "## Substitui os valor numérico do Mês para a legenda apropriada a leitura do dado.\n",
    "df_set2020['Mes'] = df_set2020['Mes'].map({9:'Setembro'}, na_action=None)\n",
    "\n",
    "## Substitui os valor da Área do município(Urbana ou Rural) para a legenda apropriada a leitura do dado.\n",
    "df_set2020['Area'] = df_set2020['Area'].map({1:'Urbana', 2:'Rural'}, na_action=None)\n",
    "\n",
    "\n",
    "## Substitui os valores numéricos do Sexo para a legenda apropriada a leitura do dado.\n",
    "df_set2020['Sexo'] = df_set2020['Sexo'].map({1:'Homem', 2:'Mulher'}, na_action=None)\n",
    "\n",
    "## Substitui os valores numéricos de Cor e Raça para a legenda apropriada a leitura do dado.\n",
    "df_set2020['Cor_Raca'] = df_set2020['Cor_Raca'].map({1:'Branca', 2:'Preta', 3: 'Amarela', \n",
    "                                                    4: 'Parda', 5:'Indígena', 9:'Ignorado'}, na_action=None)\n",
    "\n",
    "## Substitui os valores numéricos sobre sintoma de Febre para a legenda apropriada a leitura do dado.\n",
    "df_set2020['Febre'] = df_set2020['Febre'].map({1:'Sim', 2:'Não', 3:'Não sabe'}, na_action=None)\n",
    "\n",
    "## Substitui os valores numéricos sobre sintoma de Tosse para a legenda apropriada a leitura do dado.\n",
    "df_set2020['Tosse'] = df_set2020['Tosse'].map({1:'Sim', 2:'Não', 3:'Não sabe'}, na_action=None)\n",
    "\n",
    "## Substitui os valores numéricos sobre sintoma de Dificuldade respiratoria para a legenda apropriada a leitura do dado.\n",
    "df_set2020['Dific_respiratoria'] = df_set2020['Dific_respiratoria'].map({1:'Sim', 2:'Não', 3:'Não sabe'}, na_action=None)\n",
    "\n",
    "\n",
    "## Substitui os valores numéricos sobre sintoma de perda de Cheiro ou sabor para a legenda apropriada a leitura do dado.\n",
    "df_set2020['Cheiro_sabor'] = df_set2020['Cheiro_sabor'].map({1:'Sim', 2:'Não', 3:'Não sabe'}, na_action=None)\n",
    "\n",
    "## Substitui os valores numéricos sobre Plano de Saúde para a legenda apropriada a leitura do dado.\n",
    "df_set2020['Plano_Saude'] = df_set2020['Plano_Saude'].map({1:'Sim', 2:'Não', 9:'Ignorado'}, na_action=None)\n",
    "\n",
    "## Substitui os valores numéricos sobre Teste de Covid para a legenda apropriada a leitura do dado.\n",
    "df_set2020['Teste_Covid'] = df_set2020['Teste_Covid'].map({1:'Sim', 2:'Não', 9:'Ignorado'}, na_action=None)\n",
    "\n",
    "\n",
    "## Substitui os valores numéricos sobre Tempo de afastamento para a legenda apropriada a leitura do dado.\n",
    "df_set2020['Tempo_afastamento'] = df_set2020['Tempo_afastamento'].map({1:'Menos de 1 mês', \n",
    "                                                           2:'De 1 mês a menos de 1 ano', \n",
    "                                                           3:'De 1 ano a menos de 2 anos', \n",
    "                                                           4:'2 anos ou mais',\n",
    "                                                          np.nan:'Não aplicável'}, na_action=None)\n",
    "\n",
    "## Substitui os valores numéricos sobre Carac para a legenda apropriada a leitura do dado.\n",
    "df_set2020['Carac_trabalho'] = df_set2020['Carac_trabalho'].map({1:'Trabalhador doméstico (empregado doméstico, cuidados, babá)',\n",
    "                                                           2:'Militar do exercito, marinha ou aeronáutica', \n",
    "                                                           3:'Policial militar ou bombeiro mlilitar', \n",
    "                                                           4:'Empregado do setor privado',\n",
    "                                                           5:'Empregado do setor público (inclusive empresas de economia mista)',\n",
    "                                                           6:'Empregador',\n",
    "                                                           7:'Conta própria',\n",
    "                                                           8:'Trabalhador familiar não remunerado em ajuda a membro do domicílio ou parente',\n",
    "                                                           9:'Estava fora do mercado de trabalho (fazia apenas afazeres domésticos, cuidados de pessoas ou produção para próprio consumo)',\n",
    "                                                          np.nan:'Não aplicável'}, na_action=None)\n",
    "\n",
    "## Substitui os valores numéricos sobre Motivo do afastamento para a legenda apropriada a leitura do dado.\n",
    "df_set2020['Motivo_afastamento'] = df_set2020['Motivo_afastamento'].map({1:'Estava em quarentena, isolamento, distanciamento social ou férias coletivas', \n",
    "                                                                         2:'Férias, folga ou jornada de trabalho variável', \n",
    "                                                                         3:'Licença maternidade ou paternidade',\n",
    "                                                                         4:'Licença remunerada por motivo de saúde ou acidente da própria pessoa',\n",
    "                                                                         5:'Outro tipo de licença remunerada (estudo, paternidade, casamento, licença prêmio, etc.) ',\n",
    "                                                                         6:'Afastamento do próprio negócio/empresa por motivo de gestação, saúde, acidente, etc., sem ser remunerado por instituto de previdência',\n",
    "                                                                         7:'Fatores ocasionais (mau tempo, paralisação nos serviços de transportes, etc.)',\n",
    "                                                                         8:'Outro motivo',\n",
    "                                                                         np.nan:'Não aplicável'}, na_action=None)\n",
    "\n",
    "# Cria o DataFrame do mês\n",
    "df_set2020"
   ]
  },
  {
   "cell_type": "markdown",
   "id": "f395668d",
   "metadata": {},
   "source": [
    "## --> Outubro / 2020"
   ]
  },
  {
   "cell_type": "code",
   "execution_count": 11,
   "id": "2dd01f97",
   "metadata": {},
   "outputs": [
    {
     "data": {
      "text/html": [
       "<div>\n",
       "<style scoped>\n",
       "    .dataframe tbody tr th:only-of-type {\n",
       "        vertical-align: middle;\n",
       "    }\n",
       "\n",
       "    .dataframe tbody tr th {\n",
       "        vertical-align: top;\n",
       "    }\n",
       "\n",
       "    .dataframe thead th {\n",
       "        text-align: right;\n",
       "    }\n",
       "</style>\n",
       "<table border=\"1\" class=\"dataframe\">\n",
       "  <thead>\n",
       "    <tr style=\"text-align: right;\">\n",
       "      <th></th>\n",
       "      <th>Estado</th>\n",
       "      <th>Mes</th>\n",
       "      <th>Area</th>\n",
       "      <th>Idade_Morador</th>\n",
       "      <th>Sexo</th>\n",
       "      <th>Cor_Raca</th>\n",
       "      <th>Febre</th>\n",
       "      <th>Tosse</th>\n",
       "      <th>Dific_respiratoria</th>\n",
       "      <th>Cheiro_sabor</th>\n",
       "      <th>Plano_Saude</th>\n",
       "      <th>Teste_Covid</th>\n",
       "      <th>Tempo_afastamento</th>\n",
       "      <th>Carac_trabalho</th>\n",
       "      <th>Motivo_afastamento</th>\n",
       "    </tr>\n",
       "  </thead>\n",
       "  <tbody>\n",
       "    <tr>\n",
       "      <th>0</th>\n",
       "      <td>Rondônia</td>\n",
       "      <td>Outubro</td>\n",
       "      <td>Urbana</td>\n",
       "      <td>36</td>\n",
       "      <td>Homem</td>\n",
       "      <td>Parda</td>\n",
       "      <td>Não</td>\n",
       "      <td>Não</td>\n",
       "      <td>Não</td>\n",
       "      <td>Não</td>\n",
       "      <td>Sim</td>\n",
       "      <td>Não</td>\n",
       "      <td>Não aplicável</td>\n",
       "      <td>Empregado do setor privado</td>\n",
       "      <td>Não aplicável</td>\n",
       "    </tr>\n",
       "    <tr>\n",
       "      <th>1</th>\n",
       "      <td>Rondônia</td>\n",
       "      <td>Outubro</td>\n",
       "      <td>Urbana</td>\n",
       "      <td>30</td>\n",
       "      <td>Mulher</td>\n",
       "      <td>Parda</td>\n",
       "      <td>Não</td>\n",
       "      <td>Não</td>\n",
       "      <td>Não</td>\n",
       "      <td>Não</td>\n",
       "      <td>Não</td>\n",
       "      <td>Não</td>\n",
       "      <td>Não aplicável</td>\n",
       "      <td>Conta própria</td>\n",
       "      <td>Não aplicável</td>\n",
       "    </tr>\n",
       "    <tr>\n",
       "      <th>2</th>\n",
       "      <td>Rondônia</td>\n",
       "      <td>Outubro</td>\n",
       "      <td>Urbana</td>\n",
       "      <td>13</td>\n",
       "      <td>Homem</td>\n",
       "      <td>Parda</td>\n",
       "      <td>Não</td>\n",
       "      <td>Não</td>\n",
       "      <td>Não</td>\n",
       "      <td>Não</td>\n",
       "      <td>Sim</td>\n",
       "      <td>Não</td>\n",
       "      <td>Não aplicável</td>\n",
       "      <td>Não aplicável</td>\n",
       "      <td>Não aplicável</td>\n",
       "    </tr>\n",
       "    <tr>\n",
       "      <th>3</th>\n",
       "      <td>Rondônia</td>\n",
       "      <td>Outubro</td>\n",
       "      <td>Urbana</td>\n",
       "      <td>11</td>\n",
       "      <td>Homem</td>\n",
       "      <td>Parda</td>\n",
       "      <td>Não</td>\n",
       "      <td>Não</td>\n",
       "      <td>Não</td>\n",
       "      <td>Não</td>\n",
       "      <td>Sim</td>\n",
       "      <td>Não</td>\n",
       "      <td>Não aplicável</td>\n",
       "      <td>Não aplicável</td>\n",
       "      <td>Não aplicável</td>\n",
       "    </tr>\n",
       "    <tr>\n",
       "      <th>4</th>\n",
       "      <td>Rondônia</td>\n",
       "      <td>Outubro</td>\n",
       "      <td>Urbana</td>\n",
       "      <td>57</td>\n",
       "      <td>Mulher</td>\n",
       "      <td>Branca</td>\n",
       "      <td>Não</td>\n",
       "      <td>Não</td>\n",
       "      <td>Não</td>\n",
       "      <td>Não</td>\n",
       "      <td>Não</td>\n",
       "      <td>Não</td>\n",
       "      <td>Não aplicável</td>\n",
       "      <td>Não aplicável</td>\n",
       "      <td>Não aplicável</td>\n",
       "    </tr>\n",
       "    <tr>\n",
       "      <th>...</th>\n",
       "      <td>...</td>\n",
       "      <td>...</td>\n",
       "      <td>...</td>\n",
       "      <td>...</td>\n",
       "      <td>...</td>\n",
       "      <td>...</td>\n",
       "      <td>...</td>\n",
       "      <td>...</td>\n",
       "      <td>...</td>\n",
       "      <td>...</td>\n",
       "      <td>...</td>\n",
       "      <td>...</td>\n",
       "      <td>...</td>\n",
       "      <td>...</td>\n",
       "      <td>...</td>\n",
       "    </tr>\n",
       "    <tr>\n",
       "      <th>380456</th>\n",
       "      <td>Distrito Federal</td>\n",
       "      <td>Outubro</td>\n",
       "      <td>Rural</td>\n",
       "      <td>45</td>\n",
       "      <td>Mulher</td>\n",
       "      <td>Parda</td>\n",
       "      <td>Não</td>\n",
       "      <td>Não</td>\n",
       "      <td>Não</td>\n",
       "      <td>Não</td>\n",
       "      <td>Não</td>\n",
       "      <td>Não</td>\n",
       "      <td>Não aplicável</td>\n",
       "      <td>Empregado do setor privado</td>\n",
       "      <td>Estava em quarentena, isolamento, distanciamen...</td>\n",
       "    </tr>\n",
       "    <tr>\n",
       "      <th>380457</th>\n",
       "      <td>Distrito Federal</td>\n",
       "      <td>Outubro</td>\n",
       "      <td>Rural</td>\n",
       "      <td>22</td>\n",
       "      <td>Mulher</td>\n",
       "      <td>Parda</td>\n",
       "      <td>Não</td>\n",
       "      <td>Não</td>\n",
       "      <td>Não</td>\n",
       "      <td>Não</td>\n",
       "      <td>Não</td>\n",
       "      <td>Não</td>\n",
       "      <td>Não aplicável</td>\n",
       "      <td>Conta própria</td>\n",
       "      <td>Estava em quarentena, isolamento, distanciamen...</td>\n",
       "    </tr>\n",
       "    <tr>\n",
       "      <th>380458</th>\n",
       "      <td>Distrito Federal</td>\n",
       "      <td>Outubro</td>\n",
       "      <td>Rural</td>\n",
       "      <td>16</td>\n",
       "      <td>Mulher</td>\n",
       "      <td>Parda</td>\n",
       "      <td>Não</td>\n",
       "      <td>Não</td>\n",
       "      <td>Não</td>\n",
       "      <td>Não</td>\n",
       "      <td>Não</td>\n",
       "      <td>Não</td>\n",
       "      <td>Não aplicável</td>\n",
       "      <td>Não aplicável</td>\n",
       "      <td>Não aplicável</td>\n",
       "    </tr>\n",
       "    <tr>\n",
       "      <th>380459</th>\n",
       "      <td>Distrito Federal</td>\n",
       "      <td>Outubro</td>\n",
       "      <td>Rural</td>\n",
       "      <td>83</td>\n",
       "      <td>Homem</td>\n",
       "      <td>Branca</td>\n",
       "      <td>Não</td>\n",
       "      <td>Não</td>\n",
       "      <td>Não</td>\n",
       "      <td>Não</td>\n",
       "      <td>Não</td>\n",
       "      <td>Não</td>\n",
       "      <td>Não aplicável</td>\n",
       "      <td>Não aplicável</td>\n",
       "      <td>Não aplicável</td>\n",
       "    </tr>\n",
       "    <tr>\n",
       "      <th>380460</th>\n",
       "      <td>Distrito Federal</td>\n",
       "      <td>Outubro</td>\n",
       "      <td>Rural</td>\n",
       "      <td>75</td>\n",
       "      <td>Mulher</td>\n",
       "      <td>Parda</td>\n",
       "      <td>Não</td>\n",
       "      <td>Não</td>\n",
       "      <td>Não</td>\n",
       "      <td>Não</td>\n",
       "      <td>Não</td>\n",
       "      <td>Não</td>\n",
       "      <td>Não aplicável</td>\n",
       "      <td>Não aplicável</td>\n",
       "      <td>Não aplicável</td>\n",
       "    </tr>\n",
       "  </tbody>\n",
       "</table>\n",
       "<p>380461 rows × 15 columns</p>\n",
       "</div>"
      ],
      "text/plain": [
       "                  Estado      Mes    Area  Idade_Morador    Sexo Cor_Raca  \\\n",
       "0               Rondônia  Outubro  Urbana             36   Homem    Parda   \n",
       "1               Rondônia  Outubro  Urbana             30  Mulher    Parda   \n",
       "2               Rondônia  Outubro  Urbana             13   Homem    Parda   \n",
       "3               Rondônia  Outubro  Urbana             11   Homem    Parda   \n",
       "4               Rondônia  Outubro  Urbana             57  Mulher   Branca   \n",
       "...                  ...      ...     ...            ...     ...      ...   \n",
       "380456  Distrito Federal  Outubro   Rural             45  Mulher    Parda   \n",
       "380457  Distrito Federal  Outubro   Rural             22  Mulher    Parda   \n",
       "380458  Distrito Federal  Outubro   Rural             16  Mulher    Parda   \n",
       "380459  Distrito Federal  Outubro   Rural             83   Homem   Branca   \n",
       "380460  Distrito Federal  Outubro   Rural             75  Mulher    Parda   \n",
       "\n",
       "       Febre Tosse Dific_respiratoria Cheiro_sabor Plano_Saude Teste_Covid  \\\n",
       "0        Não   Não                Não          Não         Sim         Não   \n",
       "1        Não   Não                Não          Não         Não         Não   \n",
       "2        Não   Não                Não          Não         Sim         Não   \n",
       "3        Não   Não                Não          Não         Sim         Não   \n",
       "4        Não   Não                Não          Não         Não         Não   \n",
       "...      ...   ...                ...          ...         ...         ...   \n",
       "380456   Não   Não                Não          Não         Não         Não   \n",
       "380457   Não   Não                Não          Não         Não         Não   \n",
       "380458   Não   Não                Não          Não         Não         Não   \n",
       "380459   Não   Não                Não          Não         Não         Não   \n",
       "380460   Não   Não                Não          Não         Não         Não   \n",
       "\n",
       "       Tempo_afastamento              Carac_trabalho  \\\n",
       "0          Não aplicável  Empregado do setor privado   \n",
       "1          Não aplicável               Conta própria   \n",
       "2          Não aplicável               Não aplicável   \n",
       "3          Não aplicável               Não aplicável   \n",
       "4          Não aplicável               Não aplicável   \n",
       "...                  ...                         ...   \n",
       "380456     Não aplicável  Empregado do setor privado   \n",
       "380457     Não aplicável               Conta própria   \n",
       "380458     Não aplicável               Não aplicável   \n",
       "380459     Não aplicável               Não aplicável   \n",
       "380460     Não aplicável               Não aplicável   \n",
       "\n",
       "                                       Motivo_afastamento  \n",
       "0                                           Não aplicável  \n",
       "1                                           Não aplicável  \n",
       "2                                           Não aplicável  \n",
       "3                                           Não aplicável  \n",
       "4                                           Não aplicável  \n",
       "...                                                   ...  \n",
       "380456  Estava em quarentena, isolamento, distanciamen...  \n",
       "380457  Estava em quarentena, isolamento, distanciamen...  \n",
       "380458                                      Não aplicável  \n",
       "380459                                      Não aplicável  \n",
       "380460                                      Não aplicável  \n",
       "\n",
       "[380461 rows x 15 columns]"
      ]
     },
     "execution_count": 11,
     "metadata": {},
     "output_type": "execute_result"
    }
   ],
   "source": [
    "# Constroi o DataFrame com as colunas selecionadas para o mês de Julho.\n",
    "df_out2020 = pd.DataFrame(out2020,columns = ['UF', 'V1013', 'V1022', 'A002', 'A003', 'A004', 'B0011', 'B0012', 'B0014',\n",
    "                                             'B00111','B007','B008', 'C005', 'C007', 'C003'])\n",
    "\n",
    "# Renomear as colunas\n",
    "df_out2020 = df_out2020.rename(columns = {'UF':'Estado', \n",
    "                                          'V1013':'Mes',\n",
    "                                          'V1022':'Area',\n",
    "                                          'A002':'Idade_Morador', \n",
    "                                          'A003':'Sexo',\n",
    "                                          'A004':'Cor_Raca',\n",
    "                                          'B0011':'Febre', \n",
    "                                          'B0012':'Tosse',\n",
    "                                          'B0014':'Dific_respiratoria',\n",
    "                                          'B00111':'Cheiro_sabor',\n",
    "                                          'B007':'Plano_Saude',\n",
    "                                          'B008':'Teste_Covid',\n",
    "                                          'C005':'Tempo_afastamento', \n",
    "                                          'C007':'Carac_trabalho',\n",
    "                                          'C003':'Motivo_afastamento'})\n",
    "\n",
    "# Modelagem e Tratamento dos dados\n",
    "\n",
    "## Substitui os valores numéricos dos Estados para a legenda apropriada a leitura do dado.\n",
    "df_out2020['Estado'] = df_out2020['Estado'].map({11:'Rondônia', 12:'Acre', 13:'Amazonas', \n",
    "                                                       14:'Roraima', 15:'Pará',16:'Amapá', \n",
    "                                                       17:'Tocantins', 21:'Maranhão', 22:'Piauí', \n",
    "                                                       23: 'Ceará', 24:'Rio Grande do Norte', 25:'Paraíba', \n",
    "                                                       26:'Pernambuco', 27: 'Alagoas', 28: 'Sergipe', \n",
    "                                                       29: 'Bahia', 31:'Minas Gerais', 32: 'Espírito Santo', \n",
    "                                                       33:'Rio de Janeiro',35:'São Paulo', 41: 'Paraná', \n",
    "                                                       42: 'Santa Catarina', 43: 'Rio Grande do Sul', 50:'Mato Grosso do Sul', \n",
    "                                                       51:'Mato Grosso',52:'Goiás', 53: 'Distrito Federal'}, na_action=None)\n",
    "\n",
    "## Substitui os valor numérico do Mês para a legenda apropriada a leitura do dado.\n",
    "df_out2020['Mes'] = df_out2020['Mes'].map({10:'Outubro'}, na_action=None)\n",
    "\n",
    "## Substitui os valor da Área do município(Urbana ou Rural) para a legenda apropriada a leitura do dado.\n",
    "df_out2020['Area'] = df_out2020['Area'].map({1:'Urbana', 2:'Rural'}, na_action=None)\n",
    "\n",
    "\n",
    "## Substitui os valores numéricos do Sexo para a legenda apropriada a leitura do dado.\n",
    "df_out2020['Sexo'] = df_out2020['Sexo'].map({1:'Homem', 2:'Mulher'}, na_action=None)\n",
    "\n",
    "## Substitui os valores numéricos de Cor e Raça para a legenda apropriada a leitura do dado.\n",
    "df_out2020['Cor_Raca'] = df_out2020['Cor_Raca'].map({1:'Branca', 2:'Preta', 3: 'Amarela', \n",
    "                                                    4: 'Parda', 5:'Indígena', 9:'Ignorado'}, na_action=None)\n",
    "\n",
    "## Substitui os valores numéricos sobre sintoma de Febre para a legenda apropriada a leitura do dado.\n",
    "df_out2020['Febre'] = df_out2020['Febre'].map({1:'Sim', 2:'Não', 3:'Não sabe'}, na_action=None)\n",
    "\n",
    "## Substitui os valores numéricos sobre sintoma de Tosse para a legenda apropriada a leitura do dado.\n",
    "df_out2020['Tosse'] = df_out2020['Tosse'].map({1:'Sim', 2:'Não', 3:'Não sabe'}, na_action=None)\n",
    "\n",
    "## Substitui os valores numéricos sobre sintoma de Dificuldade respiratoria para a legenda apropriada a leitura do dado.\n",
    "df_out2020['Dific_respiratoria'] = df_out2020['Dific_respiratoria'].map({1:'Sim', 2:'Não', 3:'Não sabe'}, na_action=None)\n",
    "\n",
    "\n",
    "## Substitui os valores numéricos sobre sintoma de perda de Cheiro ou sabor para a legenda apropriada a leitura do dado.\n",
    "df_out2020['Cheiro_sabor'] = df_out2020['Cheiro_sabor'].map({1:'Sim', 2:'Não', 3:'Não sabe'}, na_action=None)\n",
    "\n",
    "## Substitui os valores numéricos sobre Plano de Saúde para a legenda apropriada a leitura do dado.\n",
    "df_out2020['Plano_Saude'] = df_out2020['Plano_Saude'].map({1:'Sim', 2:'Não', 9:'Ignorado'}, na_action=None)\n",
    "\n",
    "## Substitui os valores numéricos sobre Teste de Covid para a legenda apropriada a leitura do dado.\n",
    "df_out2020['Teste_Covid'] = df_out2020['Teste_Covid'].map({1:'Sim', 2:'Não', 9:'Ignorado'}, na_action=None)\n",
    "\n",
    "\n",
    "## Substitui os valores numéricos sobre Tempo de afastamento para a legenda apropriada a leitura do dado.\n",
    "df_out2020['Tempo_afastamento'] = df_out2020['Tempo_afastamento'].map({1:'Menos de 1 mês', \n",
    "                                                           2:'De 1 mês a menos de 1 ano', \n",
    "                                                           3:'De 1 ano a menos de 2 anos', \n",
    "                                                           4:'2 anos ou mais',\n",
    "                                                          np.nan:'Não aplicável'}, na_action=None)\n",
    "\n",
    "## Substitui os valores numéricos sobre Carac para a legenda apropriada a leitura do dado.\n",
    "df_out2020['Carac_trabalho'] = df_out2020['Carac_trabalho'].map({1:'Trabalhador doméstico (empregado doméstico, cuidados, babá)',\n",
    "                                                           2:'Militar do exercito, marinha ou aeronáutica', \n",
    "                                                           3:'Policial militar ou bombeiro mlilitar', \n",
    "                                                           4:'Empregado do setor privado',\n",
    "                                                           5:'Empregado do setor público (inclusive empresas de economia mista)',\n",
    "                                                           6:'Empregador',\n",
    "                                                           7:'Conta própria',\n",
    "                                                           8:'Trabalhador familiar não remunerado em ajuda a membro do domicílio ou parente',\n",
    "                                                           9:'Estava fora do mercado de trabalho (fazia apenas afazeres domésticos, cuidados de pessoas ou produção para próprio consumo)',\n",
    "                                                          np.nan:'Não aplicável'}, na_action=None)\n",
    "\n",
    "## Substitui os valores numéricos sobre Motivo do afastamento para a legenda apropriada a leitura do dado.\n",
    "df_out2020['Motivo_afastamento'] = df_out2020['Motivo_afastamento'].map({1:'Estava em quarentena, isolamento, distanciamento social ou férias coletivas', \n",
    "                                                                         2:'Férias, folga ou jornada de trabalho variável', \n",
    "                                                                         3:'Licença maternidade ou paternidade',\n",
    "                                                                         4:'Licença remunerada por motivo de saúde ou acidente da própria pessoa',\n",
    "                                                                         5:'Outro tipo de licença remunerada (estudo, paternidade, casamento, licença prêmio, etc.) ',\n",
    "                                                                         6:'Afastamento do próprio negócio/empresa por motivo de gestação, saúde, acidente, etc., sem ser remunerado por instituto de previdência',\n",
    "                                                                         7:'Fatores ocasionais (mau tempo, paralisação nos serviços de transportes, etc.)',\n",
    "                                                                         8:'Outro motivo',\n",
    "                                                                         np.nan:'Não aplicável'}, na_action=None)\n",
    "\n",
    "# Cria o DataFrame do mês\n",
    "df_out2020"
   ]
  },
  {
   "cell_type": "markdown",
   "id": "3e78e27b",
   "metadata": {},
   "source": [
    "## --> Novembro / 2020"
   ]
  },
  {
   "cell_type": "code",
   "execution_count": 12,
   "id": "a81782f8",
   "metadata": {},
   "outputs": [
    {
     "data": {
      "text/html": [
       "<div>\n",
       "<style scoped>\n",
       "    .dataframe tbody tr th:only-of-type {\n",
       "        vertical-align: middle;\n",
       "    }\n",
       "\n",
       "    .dataframe tbody tr th {\n",
       "        vertical-align: top;\n",
       "    }\n",
       "\n",
       "    .dataframe thead th {\n",
       "        text-align: right;\n",
       "    }\n",
       "</style>\n",
       "<table border=\"1\" class=\"dataframe\">\n",
       "  <thead>\n",
       "    <tr style=\"text-align: right;\">\n",
       "      <th></th>\n",
       "      <th>Estado</th>\n",
       "      <th>Mes</th>\n",
       "      <th>Area</th>\n",
       "      <th>Idade_Morador</th>\n",
       "      <th>Sexo</th>\n",
       "      <th>Cor_Raca</th>\n",
       "      <th>Febre</th>\n",
       "      <th>Tosse</th>\n",
       "      <th>Dific_respiratoria</th>\n",
       "      <th>Cheiro_sabor</th>\n",
       "      <th>Plano_Saude</th>\n",
       "      <th>Teste_Covid</th>\n",
       "      <th>Tempo_afastamento</th>\n",
       "      <th>Carac_trabalho</th>\n",
       "      <th>Motivo_afastamento</th>\n",
       "    </tr>\n",
       "  </thead>\n",
       "  <tbody>\n",
       "    <tr>\n",
       "      <th>0</th>\n",
       "      <td>Rondônia</td>\n",
       "      <td>NaN</td>\n",
       "      <td>Urbana</td>\n",
       "      <td>36</td>\n",
       "      <td>Homem</td>\n",
       "      <td>Parda</td>\n",
       "      <td>Não</td>\n",
       "      <td>Não</td>\n",
       "      <td>Não</td>\n",
       "      <td>Não</td>\n",
       "      <td>Sim</td>\n",
       "      <td>Não</td>\n",
       "      <td>Não aplicável</td>\n",
       "      <td>Empregado do setor privado</td>\n",
       "      <td>Não aplicável</td>\n",
       "    </tr>\n",
       "    <tr>\n",
       "      <th>1</th>\n",
       "      <td>Rondônia</td>\n",
       "      <td>NaN</td>\n",
       "      <td>Urbana</td>\n",
       "      <td>30</td>\n",
       "      <td>Mulher</td>\n",
       "      <td>Parda</td>\n",
       "      <td>Não</td>\n",
       "      <td>Não</td>\n",
       "      <td>Não</td>\n",
       "      <td>Não</td>\n",
       "      <td>Não</td>\n",
       "      <td>Não</td>\n",
       "      <td>Não aplicável</td>\n",
       "      <td>Conta própria</td>\n",
       "      <td>Não aplicável</td>\n",
       "    </tr>\n",
       "    <tr>\n",
       "      <th>2</th>\n",
       "      <td>Rondônia</td>\n",
       "      <td>NaN</td>\n",
       "      <td>Urbana</td>\n",
       "      <td>13</td>\n",
       "      <td>Homem</td>\n",
       "      <td>Parda</td>\n",
       "      <td>Não</td>\n",
       "      <td>Não</td>\n",
       "      <td>Não</td>\n",
       "      <td>Não</td>\n",
       "      <td>Sim</td>\n",
       "      <td>Não</td>\n",
       "      <td>Não aplicável</td>\n",
       "      <td>Não aplicável</td>\n",
       "      <td>Não aplicável</td>\n",
       "    </tr>\n",
       "    <tr>\n",
       "      <th>3</th>\n",
       "      <td>Rondônia</td>\n",
       "      <td>NaN</td>\n",
       "      <td>Urbana</td>\n",
       "      <td>11</td>\n",
       "      <td>Homem</td>\n",
       "      <td>Parda</td>\n",
       "      <td>Não</td>\n",
       "      <td>Não</td>\n",
       "      <td>Não</td>\n",
       "      <td>Não</td>\n",
       "      <td>Sim</td>\n",
       "      <td>Não</td>\n",
       "      <td>Não aplicável</td>\n",
       "      <td>Não aplicável</td>\n",
       "      <td>Não aplicável</td>\n",
       "    </tr>\n",
       "    <tr>\n",
       "      <th>4</th>\n",
       "      <td>Rondônia</td>\n",
       "      <td>NaN</td>\n",
       "      <td>Urbana</td>\n",
       "      <td>57</td>\n",
       "      <td>Mulher</td>\n",
       "      <td>Branca</td>\n",
       "      <td>Não</td>\n",
       "      <td>Não</td>\n",
       "      <td>Não</td>\n",
       "      <td>Não</td>\n",
       "      <td>Não</td>\n",
       "      <td>Não</td>\n",
       "      <td>Não aplicável</td>\n",
       "      <td>Não aplicável</td>\n",
       "      <td>Não aplicável</td>\n",
       "    </tr>\n",
       "    <tr>\n",
       "      <th>...</th>\n",
       "      <td>...</td>\n",
       "      <td>...</td>\n",
       "      <td>...</td>\n",
       "      <td>...</td>\n",
       "      <td>...</td>\n",
       "      <td>...</td>\n",
       "      <td>...</td>\n",
       "      <td>...</td>\n",
       "      <td>...</td>\n",
       "      <td>...</td>\n",
       "      <td>...</td>\n",
       "      <td>...</td>\n",
       "      <td>...</td>\n",
       "      <td>...</td>\n",
       "      <td>...</td>\n",
       "    </tr>\n",
       "    <tr>\n",
       "      <th>381433</th>\n",
       "      <td>Distrito Federal</td>\n",
       "      <td>NaN</td>\n",
       "      <td>Rural</td>\n",
       "      <td>45</td>\n",
       "      <td>Mulher</td>\n",
       "      <td>Parda</td>\n",
       "      <td>Não</td>\n",
       "      <td>Não</td>\n",
       "      <td>Não</td>\n",
       "      <td>Não</td>\n",
       "      <td>Não</td>\n",
       "      <td>Não</td>\n",
       "      <td>Não aplicável</td>\n",
       "      <td>Empregado do setor privado</td>\n",
       "      <td>Estava em quarentena, isolamento, distanciamen...</td>\n",
       "    </tr>\n",
       "    <tr>\n",
       "      <th>381434</th>\n",
       "      <td>Distrito Federal</td>\n",
       "      <td>NaN</td>\n",
       "      <td>Rural</td>\n",
       "      <td>22</td>\n",
       "      <td>Mulher</td>\n",
       "      <td>Parda</td>\n",
       "      <td>Não</td>\n",
       "      <td>Não</td>\n",
       "      <td>Não</td>\n",
       "      <td>Não</td>\n",
       "      <td>Não</td>\n",
       "      <td>Não</td>\n",
       "      <td>Não aplicável</td>\n",
       "      <td>Conta própria</td>\n",
       "      <td>Estava em quarentena, isolamento, distanciamen...</td>\n",
       "    </tr>\n",
       "    <tr>\n",
       "      <th>381435</th>\n",
       "      <td>Distrito Federal</td>\n",
       "      <td>NaN</td>\n",
       "      <td>Rural</td>\n",
       "      <td>16</td>\n",
       "      <td>Mulher</td>\n",
       "      <td>Parda</td>\n",
       "      <td>Não</td>\n",
       "      <td>Não</td>\n",
       "      <td>Não</td>\n",
       "      <td>Não</td>\n",
       "      <td>Não</td>\n",
       "      <td>Não</td>\n",
       "      <td>Não aplicável</td>\n",
       "      <td>Não aplicável</td>\n",
       "      <td>Não aplicável</td>\n",
       "    </tr>\n",
       "    <tr>\n",
       "      <th>381436</th>\n",
       "      <td>Distrito Federal</td>\n",
       "      <td>NaN</td>\n",
       "      <td>Rural</td>\n",
       "      <td>83</td>\n",
       "      <td>Homem</td>\n",
       "      <td>Branca</td>\n",
       "      <td>Não</td>\n",
       "      <td>Não</td>\n",
       "      <td>Não</td>\n",
       "      <td>Não</td>\n",
       "      <td>Não</td>\n",
       "      <td>Não</td>\n",
       "      <td>Não aplicável</td>\n",
       "      <td>Não aplicável</td>\n",
       "      <td>Não aplicável</td>\n",
       "    </tr>\n",
       "    <tr>\n",
       "      <th>381437</th>\n",
       "      <td>Distrito Federal</td>\n",
       "      <td>NaN</td>\n",
       "      <td>Rural</td>\n",
       "      <td>75</td>\n",
       "      <td>Mulher</td>\n",
       "      <td>Parda</td>\n",
       "      <td>Não</td>\n",
       "      <td>Não</td>\n",
       "      <td>Não</td>\n",
       "      <td>Não</td>\n",
       "      <td>Não</td>\n",
       "      <td>Não</td>\n",
       "      <td>Não aplicável</td>\n",
       "      <td>Não aplicável</td>\n",
       "      <td>Não aplicável</td>\n",
       "    </tr>\n",
       "  </tbody>\n",
       "</table>\n",
       "<p>381438 rows × 15 columns</p>\n",
       "</div>"
      ],
      "text/plain": [
       "                  Estado  Mes    Area  Idade_Morador    Sexo Cor_Raca Febre  \\\n",
       "0               Rondônia  NaN  Urbana             36   Homem    Parda   Não   \n",
       "1               Rondônia  NaN  Urbana             30  Mulher    Parda   Não   \n",
       "2               Rondônia  NaN  Urbana             13   Homem    Parda   Não   \n",
       "3               Rondônia  NaN  Urbana             11   Homem    Parda   Não   \n",
       "4               Rondônia  NaN  Urbana             57  Mulher   Branca   Não   \n",
       "...                  ...  ...     ...            ...     ...      ...   ...   \n",
       "381433  Distrito Federal  NaN   Rural             45  Mulher    Parda   Não   \n",
       "381434  Distrito Federal  NaN   Rural             22  Mulher    Parda   Não   \n",
       "381435  Distrito Federal  NaN   Rural             16  Mulher    Parda   Não   \n",
       "381436  Distrito Federal  NaN   Rural             83   Homem   Branca   Não   \n",
       "381437  Distrito Federal  NaN   Rural             75  Mulher    Parda   Não   \n",
       "\n",
       "       Tosse Dific_respiratoria Cheiro_sabor Plano_Saude Teste_Covid  \\\n",
       "0        Não                Não          Não         Sim         Não   \n",
       "1        Não                Não          Não         Não         Não   \n",
       "2        Não                Não          Não         Sim         Não   \n",
       "3        Não                Não          Não         Sim         Não   \n",
       "4        Não                Não          Não         Não         Não   \n",
       "...      ...                ...          ...         ...         ...   \n",
       "381433   Não                Não          Não         Não         Não   \n",
       "381434   Não                Não          Não         Não         Não   \n",
       "381435   Não                Não          Não         Não         Não   \n",
       "381436   Não                Não          Não         Não         Não   \n",
       "381437   Não                Não          Não         Não         Não   \n",
       "\n",
       "       Tempo_afastamento              Carac_trabalho  \\\n",
       "0          Não aplicável  Empregado do setor privado   \n",
       "1          Não aplicável               Conta própria   \n",
       "2          Não aplicável               Não aplicável   \n",
       "3          Não aplicável               Não aplicável   \n",
       "4          Não aplicável               Não aplicável   \n",
       "...                  ...                         ...   \n",
       "381433     Não aplicável  Empregado do setor privado   \n",
       "381434     Não aplicável               Conta própria   \n",
       "381435     Não aplicável               Não aplicável   \n",
       "381436     Não aplicável               Não aplicável   \n",
       "381437     Não aplicável               Não aplicável   \n",
       "\n",
       "                                       Motivo_afastamento  \n",
       "0                                           Não aplicável  \n",
       "1                                           Não aplicável  \n",
       "2                                           Não aplicável  \n",
       "3                                           Não aplicável  \n",
       "4                                           Não aplicável  \n",
       "...                                                   ...  \n",
       "381433  Estava em quarentena, isolamento, distanciamen...  \n",
       "381434  Estava em quarentena, isolamento, distanciamen...  \n",
       "381435                                      Não aplicável  \n",
       "381436                                      Não aplicável  \n",
       "381437                                      Não aplicável  \n",
       "\n",
       "[381438 rows x 15 columns]"
      ]
     },
     "execution_count": 12,
     "metadata": {},
     "output_type": "execute_result"
    }
   ],
   "source": [
    "# Constroi o DataFrame com as colunas selecionadas para o mês de Julho.\n",
    "df_nov2020 = pd.DataFrame(nov2020,columns = ['UF', 'V1013', 'V1022', 'A002', 'A003', 'A004', 'B0011', 'B0012', 'B0014',\n",
    "                                             'B00111','B007','B008', 'C005', 'C007', 'C003'])\n",
    "\n",
    "# Renomear as colunas\n",
    "df_nov2020 = df_nov2020.rename(columns = {'UF':'Estado', \n",
    "                                          'V1013':'Mes',\n",
    "                                          'V1022':'Area',\n",
    "                                          'A002':'Idade_Morador', \n",
    "                                          'A003':'Sexo',\n",
    "                                          'A004':'Cor_Raca',\n",
    "                                          'B0011':'Febre', \n",
    "                                          'B0012':'Tosse',\n",
    "                                          'B0014':'Dific_respiratoria',\n",
    "                                          'B00111':'Cheiro_sabor',\n",
    "                                          'B007':'Plano_Saude',\n",
    "                                          'B008':'Teste_Covid',\n",
    "                                          'C005':'Tempo_afastamento', \n",
    "                                          'C007':'Carac_trabalho',\n",
    "                                          'C003':'Motivo_afastamento'})\n",
    "\n",
    "# Modelagem e Tratamento dos dados\n",
    "\n",
    "## Substitui os valores numéricos dos Estados para a legenda apropriada a leitura do dado.\n",
    "df_nov2020['Estado'] = df_nov2020['Estado'].map({11:'Rondônia', 12:'Acre', 13:'Amazonas', \n",
    "                                                       14:'Roraima', 15:'Pará',16:'Amapá', \n",
    "                                                       17:'Tocantins', 21:'Maranhão', 22:'Piauí', \n",
    "                                                       23: 'Ceará', 24:'Rio Grande do Norte', 25:'Paraíba', \n",
    "                                                       26:'Pernambuco', 27: 'Alagoas', 28: 'Sergipe', \n",
    "                                                       29: 'Bahia', 31:'Minas Gerais', 32: 'Espírito Santo', \n",
    "                                                       33:'Rio de Janeiro',35:'São Paulo', 41: 'Paraná', \n",
    "                                                       42: 'Santa Catarina', 43: 'Rio Grande do Sul', 50:'Mato Grosso do Sul', \n",
    "                                                       51:'Mato Grosso',52:'Goiás', 53: 'Distrito Federal'}, na_action=None)\n",
    "\n",
    "## Substitui os valor numérico do Mês para a legenda apropriada a leitura do dado.\n",
    "df_nov2020['Mes'] = df_nov2020['Mes'].map({10:'Outubro'}, na_action=None)\n",
    "\n",
    "## Substitui os valor da Área do município(Urbana ou Rural) para a legenda apropriada a leitura do dado.\n",
    "df_nov2020['Area'] = df_nov2020['Area'].map({1:'Urbana', 2:'Rural'}, na_action=None)\n",
    "\n",
    "\n",
    "## Substitui os valores numéricos do Sexo para a legenda apropriada a leitura do dado.\n",
    "df_nov2020['Sexo'] = df_nov2020['Sexo'].map({1:'Homem', 2:'Mulher'}, na_action=None)\n",
    "\n",
    "## Substitui os valores numéricos de Cor e Raça para a legenda apropriada a leitura do dado.\n",
    "df_nov2020['Cor_Raca'] = df_nov2020['Cor_Raca'].map({1:'Branca', 2:'Preta', 3: 'Amarela', \n",
    "                                                    4: 'Parda', 5:'Indígena', 9:'Ignorado'}, na_action=None)\n",
    "\n",
    "## Substitui os valores numéricos sobre sintoma de Febre para a legenda apropriada a leitura do dado.\n",
    "df_nov2020['Febre'] = df_nov2020['Febre'].map({1:'Sim', 2:'Não', 3:'Não sabe'}, na_action=None)\n",
    "\n",
    "## Substitui os valores numéricos sobre sintoma de Tosse para a legenda apropriada a leitura do dado.\n",
    "df_nov2020['Tosse'] = df_nov2020['Tosse'].map({1:'Sim', 2:'Não', 3:'Não sabe'}, na_action=None)\n",
    "\n",
    "## Substitui os valores numéricos sobre sintoma de Dificuldade respiratoria para a legenda apropriada a leitura do dado.\n",
    "df_nov2020['Dific_respiratoria'] = df_nov2020['Dific_respiratoria'].map({1:'Sim', 2:'Não', 3:'Não sabe'}, na_action=None)\n",
    "\n",
    "\n",
    "## Substitui os valores numéricos sobre sintoma de perda de Cheiro ou sabor para a legenda apropriada a leitura do dado.\n",
    "df_nov2020['Cheiro_sabor'] = df_nov2020['Cheiro_sabor'].map({1:'Sim', 2:'Não', 3:'Não sabe'}, na_action=None)\n",
    "\n",
    "## Substitui os valores numéricos sobre Plano de Saúde para a legenda apropriada a leitura do dado.\n",
    "df_nov2020['Plano_Saude'] = df_nov2020['Plano_Saude'].map({1:'Sim', 2:'Não', 9:'Ignorado'}, na_action=None)\n",
    "\n",
    "## Substitui os valores numéricos sobre Teste de Covid para a legenda apropriada a leitura do dado.\n",
    "df_nov2020['Teste_Covid'] = df_nov2020['Teste_Covid'].map({1:'Sim', 2:'Não', 9:'Ignorado'}, na_action=None)\n",
    "\n",
    "\n",
    "## Substitui os valores numéricos sobre Tempo de afastamento para a legenda apropriada a leitura do dado.\n",
    "df_nov2020['Tempo_afastamento'] = df_nov2020['Tempo_afastamento'].map({1:'Menos de 1 mês', \n",
    "                                                           2:'De 1 mês a menos de 1 ano', \n",
    "                                                           3:'De 1 ano a menos de 2 anos', \n",
    "                                                           4:'2 anos ou mais',\n",
    "                                                          np.nan:'Não aplicável'}, na_action=None)\n",
    "\n",
    "## Substitui os valores numéricos sobre Carac para a legenda apropriada a leitura do dado.\n",
    "df_nov2020['Carac_trabalho'] = df_nov2020['Carac_trabalho'].map({1:'Trabalhador doméstico (empregado doméstico, cuidados, babá)',\n",
    "                                                           2:'Militar do exercito, marinha ou aeronáutica', \n",
    "                                                           3:'Policial militar ou bombeiro mlilitar', \n",
    "                                                           4:'Empregado do setor privado',\n",
    "                                                           5:'Empregado do setor público (inclusive empresas de economia mista)',\n",
    "                                                           6:'Empregador',\n",
    "                                                           7:'Conta própria',\n",
    "                                                           8:'Trabalhador familiar não remunerado em ajuda a membro do domicílio ou parente',\n",
    "                                                           9:'Estava fora do mercado de trabalho (fazia apenas afazeres domésticos, cuidados de pessoas ou produção para próprio consumo)',\n",
    "                                                          np.nan:'Não aplicável'}, na_action=None)\n",
    "\n",
    "## Substitui os valores numéricos sobre Motivo do afastamento para a legenda apropriada a leitura do dado.\n",
    "df_nov2020['Motivo_afastamento'] = df_nov2020['Motivo_afastamento'].map({1:'Estava em quarentena, isolamento, distanciamento social ou férias coletivas', \n",
    "                                                                         2:'Férias, folga ou jornada de trabalho variável', \n",
    "                                                                         3:'Licença maternidade ou paternidade',\n",
    "                                                                         4:'Licença remunerada por motivo de saúde ou acidente da própria pessoa',\n",
    "                                                                         5:'Outro tipo de licença remunerada (estudo, paternidade, casamento, licença prêmio, etc.) ',\n",
    "                                                                         6:'Afastamento do próprio negócio/empresa por motivo de gestação, saúde, acidente, etc., sem ser remunerado por instituto de previdência',\n",
    "                                                                         7:'Fatores ocasionais (mau tempo, paralisação nos serviços de transportes, etc.)',\n",
    "                                                                         8:'Outro motivo',\n",
    "                                                                         np.nan:'Não aplicável'}, na_action=None)\n",
    "\n",
    "# Cria o DataFrame do mês\n",
    "df_nov2020"
   ]
  },
  {
   "cell_type": "markdown",
   "id": "10b004dd",
   "metadata": {},
   "source": [
    "## Análise Descritiva"
   ]
  },
  {
   "cell_type": "markdown",
   "id": "19eb5f80",
   "metadata": {},
   "source": [
    "### --> Por Estado"
   ]
  },
  {
   "cell_type": "code",
   "execution_count": 13,
   "id": "190fcb17",
   "metadata": {},
   "outputs": [
    {
     "data": {
      "text/plain": [
       "São Paulo              9.0\n",
       "Minas Gerais           9.0\n",
       "Rio de Janeiro         8.0\n",
       "Santa Catarina         6.0\n",
       "Rio Grande do Sul      6.0\n",
       "Paraná                 5.0\n",
       "Maranhão               5.0\n",
       "Bahia                  5.0\n",
       "Ceará                  4.0\n",
       "Pernambuco             4.0\n",
       "Espírito Santo         4.0\n",
       "Goiás                  4.0\n",
       "Alagoas                3.0\n",
       "Mato Grosso            3.0\n",
       "Pará                   3.0\n",
       "Paraíba                3.0\n",
       "Amazonas               3.0\n",
       "Mato Grosso do Sul     2.0\n",
       "Piauí                  2.0\n",
       "Rio Grande do Norte    2.0\n",
       "Sergipe                2.0\n",
       "Acre                   2.0\n",
       "Distrito Federal       2.0\n",
       "Rondônia               1.0\n",
       "Roraima                1.0\n",
       "Tocantins              1.0\n",
       "Amapá                  1.0\n",
       "Name: Estado, dtype: float64"
      ]
     },
     "execution_count": 13,
     "metadata": {},
     "output_type": "execute_result"
    }
   ],
   "source": [
    "## Descrição da coluna Estado\n",
    "df_jul2020['Estado'].value_counts(normalize=True).round(2)*100"
   ]
  },
  {
   "cell_type": "code",
   "execution_count": 14,
   "id": "ff34d637",
   "metadata": {},
   "outputs": [
    {
     "data": {
      "text/plain": [
       "Minas Gerais           9.0\n",
       "São Paulo              9.0\n",
       "Rio de Janeiro         8.0\n",
       "Santa Catarina         6.0\n",
       "Rio Grande do Sul      6.0\n",
       "Maranhão               5.0\n",
       "Paraná                 5.0\n",
       "Ceará                  5.0\n",
       "Bahia                  4.0\n",
       "Pernambuco             4.0\n",
       "Espírito Santo         4.0\n",
       "Goiás                  4.0\n",
       "Mato Grosso            3.0\n",
       "Alagoas                3.0\n",
       "Pará                   3.0\n",
       "Amazonas               3.0\n",
       "Paraíba                3.0\n",
       "Mato Grosso do Sul     2.0\n",
       "Piauí                  2.0\n",
       "Rio Grande do Norte    2.0\n",
       "Sergipe                2.0\n",
       "Acre                   2.0\n",
       "Distrito Federal       2.0\n",
       "Roraima                1.0\n",
       "Tocantins              1.0\n",
       "Rondônia               1.0\n",
       "Amapá                  1.0\n",
       "Name: Estado, dtype: float64"
      ]
     },
     "execution_count": 14,
     "metadata": {},
     "output_type": "execute_result"
    }
   ],
   "source": [
    "## Descrição da coluna Estado\n",
    "df_ago2020['Estado'].value_counts(normalize=True).round(2)*100"
   ]
  },
  {
   "cell_type": "code",
   "execution_count": 15,
   "id": "37bbfb68",
   "metadata": {},
   "outputs": [
    {
     "data": {
      "text/plain": [
       "Minas Gerais           9.0\n",
       "São Paulo              9.0\n",
       "Rio de Janeiro         8.0\n",
       "Santa Catarina         6.0\n",
       "Rio Grande do Sul      6.0\n",
       "Maranhão               5.0\n",
       "Paraná                 5.0\n",
       "Ceará                  5.0\n",
       "Bahia                  5.0\n",
       "Pernambuco             4.0\n",
       "Espírito Santo         4.0\n",
       "Goiás                  4.0\n",
       "Pará                   3.0\n",
       "Mato Grosso            3.0\n",
       "Alagoas                3.0\n",
       "Amazonas               3.0\n",
       "Paraíba                3.0\n",
       "Mato Grosso do Sul     2.0\n",
       "Piauí                  2.0\n",
       "Sergipe                2.0\n",
       "Rio Grande do Norte    2.0\n",
       "Acre                   2.0\n",
       "Distrito Federal       2.0\n",
       "Roraima                1.0\n",
       "Tocantins              1.0\n",
       "Rondônia               1.0\n",
       "Amapá                  1.0\n",
       "Name: Estado, dtype: float64"
      ]
     },
     "execution_count": 15,
     "metadata": {},
     "output_type": "execute_result"
    }
   ],
   "source": [
    "## Descrição da coluna Estado\n",
    "df_set2020['Estado'].value_counts(normalize=True).round(2)*100"
   ]
  },
  {
   "cell_type": "code",
   "execution_count": 16,
   "id": "5c0c6a90",
   "metadata": {},
   "outputs": [
    {
     "data": {
      "text/plain": [
       "Minas Gerais           9.0\n",
       "São Paulo              9.0\n",
       "Rio de Janeiro         8.0\n",
       "Santa Catarina         6.0\n",
       "Rio Grande do Sul      6.0\n",
       "Maranhão               5.0\n",
       "Paraná                 5.0\n",
       "Pernambuco             4.0\n",
       "Ceará                  4.0\n",
       "Bahia                  4.0\n",
       "Espírito Santo         4.0\n",
       "Goiás                  4.0\n",
       "Pará                   3.0\n",
       "Alagoas                3.0\n",
       "Mato Grosso            3.0\n",
       "Amazonas               3.0\n",
       "Paraíba                3.0\n",
       "Mato Grosso do Sul     2.0\n",
       "Piauí                  2.0\n",
       "Sergipe                2.0\n",
       "Rio Grande do Norte    2.0\n",
       "Distrito Federal       2.0\n",
       "Acre                   2.0\n",
       "Roraima                1.0\n",
       "Rondônia               1.0\n",
       "Tocantins              1.0\n",
       "Amapá                  1.0\n",
       "Name: Estado, dtype: float64"
      ]
     },
     "execution_count": 16,
     "metadata": {},
     "output_type": "execute_result"
    }
   ],
   "source": [
    "## Descrição da coluna Estado\n",
    "df_out2020['Estado'].value_counts(normalize=True).round(2)*100"
   ]
  },
  {
   "cell_type": "code",
   "execution_count": 17,
   "id": "482ae11a",
   "metadata": {},
   "outputs": [
    {
     "data": {
      "text/plain": [
       "Minas Gerais           9.0\n",
       "São Paulo              8.0\n",
       "Rio de Janeiro         8.0\n",
       "Santa Catarina         6.0\n",
       "Rio Grande do Sul      6.0\n",
       "Maranhão               5.0\n",
       "Paraná                 5.0\n",
       "Pernambuco             4.0\n",
       "Bahia                  4.0\n",
       "Ceará                  4.0\n",
       "Espírito Santo         4.0\n",
       "Goiás                  4.0\n",
       "Pará                   3.0\n",
       "Alagoas                3.0\n",
       "Mato Grosso            3.0\n",
       "Amazonas               3.0\n",
       "Paraíba                3.0\n",
       "Mato Grosso do Sul     2.0\n",
       "Piauí                  2.0\n",
       "Sergipe                2.0\n",
       "Rio Grande do Norte    2.0\n",
       "Distrito Federal       2.0\n",
       "Acre                   2.0\n",
       "Rondônia               2.0\n",
       "Roraima                1.0\n",
       "Tocantins              1.0\n",
       "Amapá                  1.0\n",
       "Name: Estado, dtype: float64"
      ]
     },
     "execution_count": 17,
     "metadata": {},
     "output_type": "execute_result"
    }
   ],
   "source": [
    "## Descrição da coluna Estado\n",
    "df_nov2020['Estado'].value_counts(normalize=True).round(2)*100"
   ]
  },
  {
   "cell_type": "markdown",
   "id": "b15942e1",
   "metadata": {},
   "source": [
    "## --> Area (Urbana ou Rural)"
   ]
  },
  {
   "cell_type": "code",
   "execution_count": 18,
   "id": "c4d6a4f1",
   "metadata": {
    "scrolled": true
   },
   "outputs": [
    {
     "data": {
      "text/plain": [
       "Urbana    76.29\n",
       "Rural     23.71\n",
       "Name: Area, dtype: float64"
      ]
     },
     "execution_count": 18,
     "metadata": {},
     "output_type": "execute_result"
    }
   ],
   "source": [
    "## Descrição da coluna Estado\n",
    "df_jul2020['Area'].value_counts(normalize=True).round(4)*100"
   ]
  },
  {
   "cell_type": "code",
   "execution_count": 19,
   "id": "e853a695",
   "metadata": {},
   "outputs": [
    {
     "data": {
      "text/plain": [
       "Urbana    76.03\n",
       "Rural     23.97\n",
       "Name: Area, dtype: float64"
      ]
     },
     "execution_count": 19,
     "metadata": {},
     "output_type": "execute_result"
    }
   ],
   "source": [
    "## Descrição da coluna Estado\n",
    "df_ago2020['Area'].value_counts(normalize=True).round(4)*100"
   ]
  },
  {
   "cell_type": "code",
   "execution_count": 20,
   "id": "7d4fa820",
   "metadata": {},
   "outputs": [
    {
     "data": {
      "text/plain": [
       "Urbana    76.01\n",
       "Rural     23.99\n",
       "Name: Area, dtype: float64"
      ]
     },
     "execution_count": 20,
     "metadata": {},
     "output_type": "execute_result"
    }
   ],
   "source": [
    "## Descrição da coluna Estado\n",
    "df_set2020['Area'].value_counts(normalize=True).round(4)*100"
   ]
  },
  {
   "cell_type": "code",
   "execution_count": 21,
   "id": "8e6a10f9",
   "metadata": {},
   "outputs": [
    {
     "data": {
      "text/plain": [
       "Urbana    76.14\n",
       "Rural     23.86\n",
       "Name: Area, dtype: float64"
      ]
     },
     "execution_count": 21,
     "metadata": {},
     "output_type": "execute_result"
    }
   ],
   "source": [
    "## Descrição da coluna Estado\n",
    "df_out2020['Area'].value_counts(normalize=True).round(4)*100"
   ]
  },
  {
   "cell_type": "code",
   "execution_count": 22,
   "id": "754bd1c9",
   "metadata": {
    "scrolled": false
   },
   "outputs": [
    {
     "data": {
      "text/plain": [
       "Urbana    76.33\n",
       "Rural     23.67\n",
       "Name: Area, dtype: float64"
      ]
     },
     "execution_count": 22,
     "metadata": {},
     "output_type": "execute_result"
    }
   ],
   "source": [
    "## Descrição da coluna Estado\n",
    "df_nov2020['Area'].value_counts(normalize=True).round(4)*100"
   ]
  },
  {
   "cell_type": "markdown",
   "id": "eb761d6c",
   "metadata": {},
   "source": [
    "## --> Idade por Mês"
   ]
  },
  {
   "cell_type": "code",
   "execution_count": 23,
   "id": "5e8cb67a",
   "metadata": {},
   "outputs": [
    {
     "data": {
      "text/plain": [
       "30 a 59 anos    161974\n",
       "Acima de 60      66253\n",
       "10 a 19 anos     56983\n",
       "20 a 29 anos     53004\n",
       "0 a 9 anos       45952\n",
       "Name: Idade_Morador, dtype: int64"
      ]
     },
     "execution_count": 23,
     "metadata": {},
     "output_type": "execute_result"
    }
   ],
   "source": [
    "# Contagem de pessoas entrevistadas agrupados por idade.\n",
    "classe = [0,9,19,29,59,120]\n",
    "labels = ['0 a 9 anos', '10 a 19 anos', '20 a 29 anos', '30 a 59 anos','Acima de 60']\n",
    "idade = pd.cut(df_jul2020.Idade_Morador, classe, labels=labels, include_lowest = True)\n",
    "pd.value_counts(idade)"
   ]
  },
  {
   "cell_type": "code",
   "execution_count": 24,
   "id": "b6a43934",
   "metadata": {},
   "outputs": [
    {
     "data": {
      "text/plain": [
       "30 a 59 anos    162746\n",
       "Acima de 60      67106\n",
       "10 a 19 anos     57229\n",
       "20 a 29 anos     53094\n",
       "0 a 9 anos       46345\n",
       "Name: Idade_Morador, dtype: int64"
      ]
     },
     "execution_count": 24,
     "metadata": {},
     "output_type": "execute_result"
    }
   ],
   "source": [
    "# Contagem de pessoas entrevistadas agrupados por idade.\n",
    "classe = [0,9,19,29,59,120]\n",
    "labels = ['0 a 9 anos', '10 a 19 anos', '20 a 29 anos', '30 a 59 anos','Acima de 60']\n",
    "idade = pd.cut(df_ago2020.Idade_Morador, classe, labels=labels, include_lowest = True)\n",
    "pd.value_counts(idade)"
   ]
  },
  {
   "cell_type": "code",
   "execution_count": 25,
   "id": "66bbbd15",
   "metadata": {},
   "outputs": [
    {
     "data": {
      "text/plain": [
       "30 a 59 anos    162986\n",
       "Acima de 60      67656\n",
       "10 a 19 anos     57302\n",
       "20 a 29 anos     53150\n",
       "0 a 9 anos       46204\n",
       "Name: Idade_Morador, dtype: int64"
      ]
     },
     "execution_count": 25,
     "metadata": {},
     "output_type": "execute_result"
    }
   ],
   "source": [
    "# Contagem de pessoas entrevistadas agrupados por idade.\n",
    "classe = [0,9,19,29,59,120]\n",
    "labels = ['0 a 9 anos', '10 a 19 anos', '20 a 29 anos', '30 a 59 anos','Acima de 60']\n",
    "idade = pd.cut(df_set2020.Idade_Morador, classe, labels=labels, include_lowest = True)\n",
    "pd.value_counts(idade)"
   ]
  },
  {
   "cell_type": "code",
   "execution_count": 26,
   "id": "85157510",
   "metadata": {},
   "outputs": [
    {
     "data": {
      "text/plain": [
       "30 a 59 anos    160349\n",
       "Acima de 60      67093\n",
       "10 a 19 anos     56196\n",
       "20 a 29 anos     51917\n",
       "0 a 9 anos       44906\n",
       "Name: Idade_Morador, dtype: int64"
      ]
     },
     "execution_count": 26,
     "metadata": {},
     "output_type": "execute_result"
    }
   ],
   "source": [
    "# Contagem de pessoas entrevistadas agrupados por idade.\n",
    "classe = [0,9,19,29,59,120]\n",
    "labels = ['0 a 9 anos', '10 a 19 anos', '20 a 29 anos', '30 a 59 anos','Acima de 60']\n",
    "idade = pd.cut(df_out2020.Idade_Morador, classe, labels=labels, include_lowest = True)\n",
    "pd.value_counts(idade)"
   ]
  },
  {
   "cell_type": "code",
   "execution_count": 27,
   "id": "3fee5db7",
   "metadata": {},
   "outputs": [
    {
     "data": {
      "text/plain": [
       "30 a 59 anos    161061\n",
       "Acima de 60      67587\n",
       "10 a 19 anos     56284\n",
       "20 a 29 anos     51744\n",
       "0 a 9 anos       44762\n",
       "Name: Idade_Morador, dtype: int64"
      ]
     },
     "execution_count": 27,
     "metadata": {},
     "output_type": "execute_result"
    }
   ],
   "source": [
    "# Contagem de pessoas entrevistadas agrupados por idade.\n",
    "classe = [0,9,19,29,59,120]\n",
    "labels = ['0 a 9 anos', '10 a 19 anos', '20 a 29 anos', '30 a 59 anos','Acima de 60']\n",
    "idade = pd.cut(df_nov2020.Idade_Morador, classe, labels=labels, include_lowest = True)\n",
    "pd.value_counts(idade)"
   ]
  },
  {
   "cell_type": "markdown",
   "id": "39433d9d",
   "metadata": {},
   "source": [
    "## Sexo por mês"
   ]
  },
  {
   "cell_type": "code",
   "execution_count": 28,
   "id": "1ca32d40",
   "metadata": {
    "scrolled": true
   },
   "outputs": [
    {
     "data": {
      "text/plain": [
       "Mulher    51.99\n",
       "Homem     48.01\n",
       "Name: Sexo, dtype: float64"
      ]
     },
     "execution_count": 28,
     "metadata": {},
     "output_type": "execute_result"
    }
   ],
   "source": [
    "## Descrição da coluna Estado\n",
    "df_jul2020['Sexo'].value_counts(normalize=True).round(4)*100"
   ]
  },
  {
   "cell_type": "code",
   "execution_count": 29,
   "id": "1e6cb2e7",
   "metadata": {},
   "outputs": [
    {
     "data": {
      "text/plain": [
       "Mulher    51.99\n",
       "Homem     48.01\n",
       "Name: Sexo, dtype: float64"
      ]
     },
     "execution_count": 29,
     "metadata": {},
     "output_type": "execute_result"
    }
   ],
   "source": [
    "## Descrição da coluna Estado\n",
    "df_ago2020['Sexo'].value_counts(normalize=True).round(4)*100"
   ]
  },
  {
   "cell_type": "code",
   "execution_count": 30,
   "id": "cc9cc9ad",
   "metadata": {},
   "outputs": [
    {
     "data": {
      "text/plain": [
       "Mulher    52.04\n",
       "Homem     47.96\n",
       "Name: Sexo, dtype: float64"
      ]
     },
     "execution_count": 30,
     "metadata": {},
     "output_type": "execute_result"
    }
   ],
   "source": [
    "## Descrição da coluna Estado\n",
    "df_set2020['Sexo'].value_counts(normalize=True).round(4)*100"
   ]
  },
  {
   "cell_type": "code",
   "execution_count": 31,
   "id": "3eb26099",
   "metadata": {},
   "outputs": [
    {
     "data": {
      "text/plain": [
       "Mulher    52.08\n",
       "Homem     47.92\n",
       "Name: Sexo, dtype: float64"
      ]
     },
     "execution_count": 31,
     "metadata": {},
     "output_type": "execute_result"
    }
   ],
   "source": [
    "## Descrição da coluna Estado\n",
    "df_out2020['Sexo'].value_counts(normalize=True).round(4)*100"
   ]
  },
  {
   "cell_type": "code",
   "execution_count": 32,
   "id": "b962ac7f",
   "metadata": {
    "scrolled": true
   },
   "outputs": [
    {
     "data": {
      "text/plain": [
       "Mulher    52.13\n",
       "Homem     47.87\n",
       "Name: Sexo, dtype: float64"
      ]
     },
     "execution_count": 32,
     "metadata": {},
     "output_type": "execute_result"
    }
   ],
   "source": [
    "## Descrição da coluna Estado\n",
    "df_nov2020['Sexo'].value_counts(normalize=True).round(4)*100"
   ]
  },
  {
   "cell_type": "markdown",
   "id": "1243c1e9",
   "metadata": {},
   "source": [
    "## Cor e Raça por mês"
   ]
  },
  {
   "cell_type": "code",
   "execution_count": 33,
   "id": "89565592",
   "metadata": {
    "scrolled": false
   },
   "outputs": [
    {
     "data": {
      "text/plain": [
       "Parda       49.06\n",
       "Branca      41.75\n",
       "Preta        8.17\n",
       "Amarela      0.62\n",
       "Indígena     0.38\n",
       "Ignorado     0.03\n",
       "Name: Cor_Raca, dtype: float64"
      ]
     },
     "execution_count": 33,
     "metadata": {},
     "output_type": "execute_result"
    }
   ],
   "source": [
    "## Descrição da coluna Estado\n",
    "df_jul2020['Cor_Raca'].value_counts(normalize=True).round(4)*100"
   ]
  },
  {
   "cell_type": "code",
   "execution_count": 34,
   "id": "fb231f1f",
   "metadata": {},
   "outputs": [
    {
     "data": {
      "text/plain": [
       "Parda       48.97\n",
       "Branca      41.82\n",
       "Preta        8.19\n",
       "Amarela      0.60\n",
       "Indígena     0.39\n",
       "Ignorado     0.03\n",
       "Name: Cor_Raca, dtype: float64"
      ]
     },
     "execution_count": 34,
     "metadata": {},
     "output_type": "execute_result"
    }
   ],
   "source": [
    "## Descrição da coluna Estado\n",
    "df_ago2020['Cor_Raca'].value_counts(normalize=True).round(4)*100"
   ]
  },
  {
   "cell_type": "code",
   "execution_count": 35,
   "id": "f820a60e",
   "metadata": {},
   "outputs": [
    {
     "data": {
      "text/plain": [
       "Parda       49.07\n",
       "Branca      41.73\n",
       "Preta        8.20\n",
       "Amarela      0.59\n",
       "Indígena     0.38\n",
       "Ignorado     0.02\n",
       "Name: Cor_Raca, dtype: float64"
      ]
     },
     "execution_count": 35,
     "metadata": {},
     "output_type": "execute_result"
    }
   ],
   "source": [
    "## Descrição da coluna Estado\n",
    "df_set2020['Cor_Raca'].value_counts(normalize=True).round(4)*100"
   ]
  },
  {
   "cell_type": "code",
   "execution_count": 36,
   "id": "007ea05d",
   "metadata": {},
   "outputs": [
    {
     "data": {
      "text/plain": [
       "Parda       48.97\n",
       "Branca      41.81\n",
       "Preta        8.22\n",
       "Amarela      0.58\n",
       "Indígena     0.40\n",
       "Ignorado     0.02\n",
       "Name: Cor_Raca, dtype: float64"
      ]
     },
     "execution_count": 36,
     "metadata": {},
     "output_type": "execute_result"
    }
   ],
   "source": [
    "## Descrição da coluna Estado\n",
    "df_out2020['Cor_Raca'].value_counts(normalize=True).round(4)*100"
   ]
  },
  {
   "cell_type": "code",
   "execution_count": 37,
   "id": "8b537664",
   "metadata": {
    "scrolled": false
   },
   "outputs": [
    {
     "data": {
      "text/plain": [
       "Parda       49.01\n",
       "Branca      41.75\n",
       "Preta        8.23\n",
       "Amarela      0.59\n",
       "Indígena     0.39\n",
       "Ignorado     0.03\n",
       "Name: Cor_Raca, dtype: float64"
      ]
     },
     "execution_count": 37,
     "metadata": {},
     "output_type": "execute_result"
    }
   ],
   "source": [
    "## Descrição da coluna Estado\n",
    "df_nov2020['Cor_Raca'].value_counts(normalize=True).round(4)*100"
   ]
  },
  {
   "cell_type": "markdown",
   "id": "fca6d990",
   "metadata": {},
   "source": [
    "## Sintomas de Febre por mês."
   ]
  },
  {
   "cell_type": "code",
   "execution_count": 38,
   "id": "115e2387",
   "metadata": {
    "scrolled": true
   },
   "outputs": [
    {
     "data": {
      "text/plain": [
       "Não         98.40\n",
       "Sim          1.52\n",
       "Não sabe     0.08\n",
       "Name: Febre, dtype: float64"
      ]
     },
     "execution_count": 38,
     "metadata": {},
     "output_type": "execute_result"
    }
   ],
   "source": [
    "## Descrição da coluna Estado\n",
    "df_jul2020['Febre'].value_counts(normalize=True).round(4)*100"
   ]
  },
  {
   "cell_type": "code",
   "execution_count": 39,
   "id": "fe1eb7d4",
   "metadata": {},
   "outputs": [
    {
     "data": {
      "text/plain": [
       "Não         98.64\n",
       "Sim          1.27\n",
       "Não sabe     0.09\n",
       "Name: Febre, dtype: float64"
      ]
     },
     "execution_count": 39,
     "metadata": {},
     "output_type": "execute_result"
    }
   ],
   "source": [
    "## Descrição da coluna Estado\n",
    "df_ago2020['Febre'].value_counts(normalize=True).round(4)*100"
   ]
  },
  {
   "cell_type": "code",
   "execution_count": 40,
   "id": "be17fb7f",
   "metadata": {},
   "outputs": [
    {
     "data": {
      "text/plain": [
       "Não         99.15\n",
       "Sim          0.80\n",
       "Não sabe     0.06\n",
       "Name: Febre, dtype: float64"
      ]
     },
     "execution_count": 40,
     "metadata": {},
     "output_type": "execute_result"
    }
   ],
   "source": [
    "## Descrição da coluna Estado\n",
    "df_set2020['Febre'].value_counts(normalize=True).round(4)*100"
   ]
  },
  {
   "cell_type": "code",
   "execution_count": 41,
   "id": "8e6a10f9",
   "metadata": {},
   "outputs": [
    {
     "data": {
      "text/plain": [
       "Não         99.21\n",
       "Sim          0.73\n",
       "Não sabe     0.06\n",
       "Name: Febre, dtype: float64"
      ]
     },
     "execution_count": 41,
     "metadata": {},
     "output_type": "execute_result"
    }
   ],
   "source": [
    "## Descrição da coluna Estado\n",
    "df_out2020['Febre'].value_counts(normalize=True).round(4)*100"
   ]
  },
  {
   "cell_type": "code",
   "execution_count": 42,
   "id": "754bd1c9",
   "metadata": {
    "scrolled": true
   },
   "outputs": [
    {
     "data": {
      "text/plain": [
       "Não         99.11\n",
       "Sim          0.83\n",
       "Não sabe     0.05\n",
       "Name: Febre, dtype: float64"
      ]
     },
     "execution_count": 42,
     "metadata": {},
     "output_type": "execute_result"
    }
   ],
   "source": [
    "## Descrição da coluna Estado\n",
    "df_nov2020['Febre'].value_counts(normalize=True).round(4)*100"
   ]
  },
  {
   "cell_type": "markdown",
   "id": "460bfff3",
   "metadata": {},
   "source": [
    "## Sintomas de Tosse por mês"
   ]
  },
  {
   "cell_type": "code",
   "execution_count": 43,
   "id": "89565592",
   "metadata": {
    "scrolled": false
   },
   "outputs": [
    {
     "data": {
      "text/plain": [
       "Não         97.70\n",
       "Sim          2.22\n",
       "Não sabe     0.08\n",
       "Name: Tosse, dtype: float64"
      ]
     },
     "execution_count": 43,
     "metadata": {},
     "output_type": "execute_result"
    }
   ],
   "source": [
    "## Descrição da coluna Estado\n",
    "df_jul2020['Tosse'].value_counts(normalize=True).round(4)*100"
   ]
  },
  {
   "cell_type": "code",
   "execution_count": 44,
   "id": "1e6cb2e7",
   "metadata": {},
   "outputs": [
    {
     "data": {
      "text/plain": [
       "Não         97.87\n",
       "Sim          2.04\n",
       "Não sabe     0.08\n",
       "Name: Tosse, dtype: float64"
      ]
     },
     "execution_count": 44,
     "metadata": {},
     "output_type": "execute_result"
    }
   ],
   "source": [
    "## Descrição da coluna Estado\n",
    "df_ago2020['Tosse'].value_counts(normalize=True).round(4)*100"
   ]
  },
  {
   "cell_type": "code",
   "execution_count": 45,
   "id": "cc9cc9ad",
   "metadata": {},
   "outputs": [
    {
     "data": {
      "text/plain": [
       "Não         98.51\n",
       "Sim          1.44\n",
       "Não sabe     0.06\n",
       "Name: Tosse, dtype: float64"
      ]
     },
     "execution_count": 45,
     "metadata": {},
     "output_type": "execute_result"
    }
   ],
   "source": [
    "## Descrição da coluna Estado\n",
    "df_set2020['Tosse'].value_counts(normalize=True).round(4)*100"
   ]
  },
  {
   "cell_type": "code",
   "execution_count": 46,
   "id": "8e6a10f9",
   "metadata": {},
   "outputs": [
    {
     "data": {
      "text/plain": [
       "Não         98.74\n",
       "Sim          1.21\n",
       "Não sabe     0.06\n",
       "Name: Tosse, dtype: float64"
      ]
     },
     "execution_count": 46,
     "metadata": {},
     "output_type": "execute_result"
    }
   ],
   "source": [
    "## Descrição da coluna Estado\n",
    "df_out2020['Tosse'].value_counts(normalize=True).round(4)*100"
   ]
  },
  {
   "cell_type": "code",
   "execution_count": 47,
   "id": "754bd1c9",
   "metadata": {
    "scrolled": false
   },
   "outputs": [
    {
     "data": {
      "text/plain": [
       "Não         98.56\n",
       "Sim          1.38\n",
       "Não sabe     0.06\n",
       "Name: Tosse, dtype: float64"
      ]
     },
     "execution_count": 47,
     "metadata": {},
     "output_type": "execute_result"
    }
   ],
   "source": [
    "## Descrição da coluna Estado\n",
    "df_nov2020['Tosse'].value_counts(normalize=True).round(4)*100"
   ]
  },
  {
   "cell_type": "markdown",
   "id": "020c4c42",
   "metadata": {},
   "source": [
    "## Sintomas de dificuldade respiratórias por mês"
   ]
  },
  {
   "cell_type": "code",
   "execution_count": 48,
   "id": "89565592",
   "metadata": {
    "scrolled": true
   },
   "outputs": [
    {
     "data": {
      "text/plain": [
       "Não         99.12\n",
       "Sim          0.80\n",
       "Não sabe     0.08\n",
       "Name: Dific_respiratoria, dtype: float64"
      ]
     },
     "execution_count": 48,
     "metadata": {},
     "output_type": "execute_result"
    }
   ],
   "source": [
    "## Descrição da coluna Estado\n",
    "df_jul2020['Dific_respiratoria'].value_counts(normalize=True).round(4)*100"
   ]
  },
  {
   "cell_type": "code",
   "execution_count": 49,
   "id": "1e6cb2e7",
   "metadata": {},
   "outputs": [
    {
     "data": {
      "text/plain": [
       "Não         99.25\n",
       "Sim          0.66\n",
       "Não sabe     0.09\n",
       "Name: Dific_respiratoria, dtype: float64"
      ]
     },
     "execution_count": 49,
     "metadata": {},
     "output_type": "execute_result"
    }
   ],
   "source": [
    "## Descrição da coluna Estado\n",
    "df_ago2020['Dific_respiratoria'].value_counts(normalize=True).round(4)*100"
   ]
  },
  {
   "cell_type": "code",
   "execution_count": 50,
   "id": "cc9cc9ad",
   "metadata": {},
   "outputs": [
    {
     "data": {
      "text/plain": [
       "Não         99.47\n",
       "Sim          0.47\n",
       "Não sabe     0.06\n",
       "Name: Dific_respiratoria, dtype: float64"
      ]
     },
     "execution_count": 50,
     "metadata": {},
     "output_type": "execute_result"
    }
   ],
   "source": [
    "## Descrição da coluna Estado\n",
    "df_set2020['Dific_respiratoria'].value_counts(normalize=True).round(4)*100"
   ]
  },
  {
   "cell_type": "code",
   "execution_count": 51,
   "id": "8e6a10f9",
   "metadata": {},
   "outputs": [
    {
     "data": {
      "text/plain": [
       "Não         99.56\n",
       "Sim          0.38\n",
       "Não sabe     0.06\n",
       "Name: Dific_respiratoria, dtype: float64"
      ]
     },
     "execution_count": 51,
     "metadata": {},
     "output_type": "execute_result"
    }
   ],
   "source": [
    "## Descrição da coluna Estado\n",
    "df_out2020['Dific_respiratoria'].value_counts(normalize=True).round(4)*100"
   ]
  },
  {
   "cell_type": "code",
   "execution_count": 52,
   "id": "754bd1c9",
   "metadata": {
    "scrolled": true
   },
   "outputs": [
    {
     "data": {
      "text/plain": [
       "Não         99.54\n",
       "Sim          0.40\n",
       "Não sabe     0.06\n",
       "Name: Dific_respiratoria, dtype: float64"
      ]
     },
     "execution_count": 52,
     "metadata": {},
     "output_type": "execute_result"
    }
   ],
   "source": [
    "## Descrição da coluna Estado\n",
    "df_nov2020['Dific_respiratoria'].value_counts(normalize=True).round(4)*100"
   ]
  },
  {
   "cell_type": "markdown",
   "id": "03653cf8",
   "metadata": {},
   "source": [
    "## Sintomas de falta de paladar e olfato por mês"
   ]
  },
  {
   "cell_type": "code",
   "execution_count": 53,
   "id": "89565592",
   "metadata": {
    "scrolled": false
   },
   "outputs": [
    {
     "data": {
      "text/plain": [
       "Não         99.02\n",
       "Sim          0.89\n",
       "Não sabe     0.09\n",
       "Name: Cheiro_sabor, dtype: float64"
      ]
     },
     "execution_count": 53,
     "metadata": {},
     "output_type": "execute_result"
    }
   ],
   "source": [
    "## Descrição da coluna Estado\n",
    "df_jul2020['Cheiro_sabor'].value_counts(normalize=True).round(4)*100"
   ]
  },
  {
   "cell_type": "code",
   "execution_count": 54,
   "id": "1e6cb2e7",
   "metadata": {},
   "outputs": [
    {
     "data": {
      "text/plain": [
       "Não         99.23\n",
       "Sim          0.67\n",
       "Não sabe     0.10\n",
       "Name: Cheiro_sabor, dtype: float64"
      ]
     },
     "execution_count": 54,
     "metadata": {},
     "output_type": "execute_result"
    }
   ],
   "source": [
    "## Descrição da coluna Estado\n",
    "df_ago2020['Cheiro_sabor'].value_counts(normalize=True).round(4)*100"
   ]
  },
  {
   "cell_type": "code",
   "execution_count": 55,
   "id": "cc9cc9ad",
   "metadata": {},
   "outputs": [
    {
     "data": {
      "text/plain": [
       "Não         99.51\n",
       "Sim          0.42\n",
       "Não sabe     0.07\n",
       "Name: Cheiro_sabor, dtype: float64"
      ]
     },
     "execution_count": 55,
     "metadata": {},
     "output_type": "execute_result"
    }
   ],
   "source": [
    "## Descrição da coluna Estado\n",
    "df_set2020['Cheiro_sabor'].value_counts(normalize=True).round(4)*100"
   ]
  },
  {
   "cell_type": "code",
   "execution_count": 56,
   "id": "8e6a10f9",
   "metadata": {},
   "outputs": [
    {
     "data": {
      "text/plain": [
       "Não         99.59\n",
       "Sim          0.35\n",
       "Não sabe     0.06\n",
       "Name: Cheiro_sabor, dtype: float64"
      ]
     },
     "execution_count": 56,
     "metadata": {},
     "output_type": "execute_result"
    }
   ],
   "source": [
    "## Descrição da coluna Estado\n",
    "df_out2020['Cheiro_sabor'].value_counts(normalize=True).round(4)*100"
   ]
  },
  {
   "cell_type": "code",
   "execution_count": 57,
   "id": "754bd1c9",
   "metadata": {
    "scrolled": false
   },
   "outputs": [
    {
     "data": {
      "text/plain": [
       "Não         99.56\n",
       "Sim          0.39\n",
       "Não sabe     0.06\n",
       "Name: Cheiro_sabor, dtype: float64"
      ]
     },
     "execution_count": 57,
     "metadata": {},
     "output_type": "execute_result"
    }
   ],
   "source": [
    "## Descrição da coluna Estado\n",
    "df_nov2020['Cheiro_sabor'].value_counts(normalize=True).round(4)*100"
   ]
  },
  {
   "cell_type": "markdown",
   "id": "2204308c",
   "metadata": {},
   "source": [
    "## O Entrevistado tem plano de Saúde por mês"
   ]
  },
  {
   "cell_type": "code",
   "execution_count": 58,
   "id": "89565592",
   "metadata": {
    "scrolled": true
   },
   "outputs": [
    {
     "data": {
      "text/plain": [
       "Não         76.87\n",
       "Sim         22.61\n",
       "Ignorado     0.51\n",
       "Name: Plano_Saude, dtype: float64"
      ]
     },
     "execution_count": 58,
     "metadata": {},
     "output_type": "execute_result"
    }
   ],
   "source": [
    "## Descrição da coluna Estado\n",
    "df_jul2020['Plano_Saude'].value_counts(normalize=True).round(4)*100"
   ]
  },
  {
   "cell_type": "code",
   "execution_count": 59,
   "id": "1e6cb2e7",
   "metadata": {},
   "outputs": [
    {
     "data": {
      "text/plain": [
       "Não         77.45\n",
       "Sim         22.06\n",
       "Ignorado     0.49\n",
       "Name: Plano_Saude, dtype: float64"
      ]
     },
     "execution_count": 59,
     "metadata": {},
     "output_type": "execute_result"
    }
   ],
   "source": [
    "## Descrição da coluna Estado\n",
    "df_ago2020['Plano_Saude'].value_counts(normalize=True).round(4)*100"
   ]
  },
  {
   "cell_type": "code",
   "execution_count": 60,
   "id": "cc9cc9ad",
   "metadata": {},
   "outputs": [
    {
     "data": {
      "text/plain": [
       "Não         77.25\n",
       "Sim         22.46\n",
       "Ignorado     0.29\n",
       "Name: Plano_Saude, dtype: float64"
      ]
     },
     "execution_count": 60,
     "metadata": {},
     "output_type": "execute_result"
    }
   ],
   "source": [
    "## Descrição da coluna Estado\n",
    "df_set2020['Plano_Saude'].value_counts(normalize=True).round(4)*100"
   ]
  },
  {
   "cell_type": "code",
   "execution_count": 61,
   "id": "8e6a10f9",
   "metadata": {},
   "outputs": [
    {
     "data": {
      "text/plain": [
       "Não         77.11\n",
       "Sim         22.70\n",
       "Ignorado     0.19\n",
       "Name: Plano_Saude, dtype: float64"
      ]
     },
     "execution_count": 61,
     "metadata": {},
     "output_type": "execute_result"
    }
   ],
   "source": [
    "## Descrição da coluna Estado\n",
    "df_out2020['Plano_Saude'].value_counts(normalize=True).round(4)*100"
   ]
  },
  {
   "cell_type": "code",
   "execution_count": 62,
   "id": "754bd1c9",
   "metadata": {
    "scrolled": true
   },
   "outputs": [
    {
     "data": {
      "text/plain": [
       "Não         76.99\n",
       "Sim         22.85\n",
       "Ignorado     0.17\n",
       "Name: Plano_Saude, dtype: float64"
      ]
     },
     "execution_count": 62,
     "metadata": {},
     "output_type": "execute_result"
    }
   ],
   "source": [
    "## Descrição da coluna Estado\n",
    "df_nov2020['Plano_Saude'].value_counts(normalize=True).round(4)*100"
   ]
  },
  {
   "cell_type": "markdown",
   "id": "b3d010ea",
   "metadata": {},
   "source": [
    "## Teste de COVID-19 por mês"
   ]
  },
  {
   "cell_type": "code",
   "execution_count": 63,
   "id": "89565592",
   "metadata": {
    "scrolled": false
   },
   "outputs": [
    {
     "data": {
      "text/plain": [
       "Não         93.32\n",
       "Sim          6.16\n",
       "Ignorado     0.52\n",
       "Name: Teste_Covid, dtype: float64"
      ]
     },
     "execution_count": 63,
     "metadata": {},
     "output_type": "execute_result"
    }
   ],
   "source": [
    "## Descrição da coluna Estado\n",
    "df_jul2020['Teste_Covid'].value_counts(normalize=True).round(4)*100"
   ]
  },
  {
   "cell_type": "code",
   "execution_count": 64,
   "id": "1e6cb2e7",
   "metadata": {},
   "outputs": [
    {
     "data": {
      "text/plain": [
       "Não         91.29\n",
       "Sim          8.20\n",
       "Ignorado     0.51\n",
       "Name: Teste_Covid, dtype: float64"
      ]
     },
     "execution_count": 64,
     "metadata": {},
     "output_type": "execute_result"
    }
   ],
   "source": [
    "## Descrição da coluna Estado\n",
    "df_ago2020['Teste_Covid'].value_counts(normalize=True).round(4)*100"
   ]
  },
  {
   "cell_type": "code",
   "execution_count": 65,
   "id": "cc9cc9ad",
   "metadata": {},
   "outputs": [
    {
     "data": {
      "text/plain": [
       "Não         89.61\n",
       "Sim         10.10\n",
       "Ignorado     0.29\n",
       "Name: Teste_Covid, dtype: float64"
      ]
     },
     "execution_count": 65,
     "metadata": {},
     "output_type": "execute_result"
    }
   ],
   "source": [
    "## Descrição da coluna Estado\n",
    "df_set2020['Teste_Covid'].value_counts(normalize=True).round(4)*100"
   ]
  },
  {
   "cell_type": "code",
   "execution_count": 66,
   "id": "8e6a10f9",
   "metadata": {},
   "outputs": [
    {
     "data": {
      "text/plain": [
       "Não         88.12\n",
       "Sim         11.71\n",
       "Ignorado     0.18\n",
       "Name: Teste_Covid, dtype: float64"
      ]
     },
     "execution_count": 66,
     "metadata": {},
     "output_type": "execute_result"
    }
   ],
   "source": [
    "## Descrição da coluna Estado\n",
    "df_out2020['Teste_Covid'].value_counts(normalize=True).round(4)*100"
   ]
  },
  {
   "cell_type": "code",
   "execution_count": 67,
   "id": "754bd1c9",
   "metadata": {
    "scrolled": false
   },
   "outputs": [
    {
     "data": {
      "text/plain": [
       "Não         86.77\n",
       "Sim         13.07\n",
       "Ignorado     0.16\n",
       "Name: Teste_Covid, dtype: float64"
      ]
     },
     "execution_count": 67,
     "metadata": {},
     "output_type": "execute_result"
    }
   ],
   "source": [
    "## Descrição da coluna Estado\n",
    "df_nov2020['Teste_Covid'].value_counts(normalize=True).round(4)*100"
   ]
  },
  {
   "cell_type": "markdown",
   "id": "022562f7",
   "metadata": {},
   "source": [
    "## Afastamento do trabalho por mês"
   ]
  },
  {
   "cell_type": "code",
   "execution_count": 68,
   "id": "89565592",
   "metadata": {
    "scrolled": false
   },
   "outputs": [
    {
     "data": {
      "text/plain": [
       "Não aplicável                 96.79\n",
       "De 1 mês a menos de 1 ano      2.70\n",
       "Menos de 1 mês                 0.42\n",
       "2 anos ou mais                 0.05\n",
       "De 1 ano a menos de 2 anos     0.04\n",
       "Name: Tempo_afastamento, dtype: float64"
      ]
     },
     "execution_count": 68,
     "metadata": {},
     "output_type": "execute_result"
    }
   ],
   "source": [
    "## Descrição da coluna Estado\n",
    "df_jul2020['Tempo_afastamento'].value_counts(normalize=True).round(4)*100"
   ]
  },
  {
   "cell_type": "code",
   "execution_count": 69,
   "id": "1e6cb2e7",
   "metadata": {},
   "outputs": [
    {
     "data": {
      "text/plain": [
       "Não aplicável                 97.54\n",
       "De 1 mês a menos de 1 ano      2.06\n",
       "Menos de 1 mês                 0.32\n",
       "2 anos ou mais                 0.05\n",
       "De 1 ano a menos de 2 anos     0.03\n",
       "Name: Tempo_afastamento, dtype: float64"
      ]
     },
     "execution_count": 69,
     "metadata": {},
     "output_type": "execute_result"
    }
   ],
   "source": [
    "## Descrição da coluna Estado\n",
    "df_ago2020['Tempo_afastamento'].value_counts(normalize=True).round(4)*100"
   ]
  },
  {
   "cell_type": "code",
   "execution_count": 70,
   "id": "cc9cc9ad",
   "metadata": {},
   "outputs": [
    {
     "data": {
      "text/plain": [
       "Não aplicável                 97.98\n",
       "De 1 mês a menos de 1 ano      1.66\n",
       "Menos de 1 mês                 0.28\n",
       "2 anos ou mais                 0.05\n",
       "De 1 ano a menos de 2 anos     0.03\n",
       "Name: Tempo_afastamento, dtype: float64"
      ]
     },
     "execution_count": 70,
     "metadata": {},
     "output_type": "execute_result"
    }
   ],
   "source": [
    "## Descrição da coluna Estado\n",
    "df_set2020['Tempo_afastamento'].value_counts(normalize=True).round(4)*100"
   ]
  },
  {
   "cell_type": "code",
   "execution_count": 71,
   "id": "8e6a10f9",
   "metadata": {},
   "outputs": [
    {
     "data": {
      "text/plain": [
       "Não aplicável                 98.33\n",
       "De 1 mês a menos de 1 ano      1.36\n",
       "Menos de 1 mês                 0.23\n",
       "2 anos ou mais                 0.05\n",
       "De 1 ano a menos de 2 anos     0.03\n",
       "Name: Tempo_afastamento, dtype: float64"
      ]
     },
     "execution_count": 71,
     "metadata": {},
     "output_type": "execute_result"
    }
   ],
   "source": [
    "## Descrição da coluna Estado\n",
    "df_out2020['Tempo_afastamento'].value_counts(normalize=True).round(4)*100"
   ]
  },
  {
   "cell_type": "code",
   "execution_count": 72,
   "id": "754bd1c9",
   "metadata": {
    "scrolled": false
   },
   "outputs": [
    {
     "data": {
      "text/plain": [
       "Não aplicável                 98.46\n",
       "De 1 mês a menos de 1 ano      1.22\n",
       "Menos de 1 mês                 0.24\n",
       "2 anos ou mais                 0.05\n",
       "De 1 ano a menos de 2 anos     0.03\n",
       "Name: Tempo_afastamento, dtype: float64"
      ]
     },
     "execution_count": 72,
     "metadata": {},
     "output_type": "execute_result"
    }
   ],
   "source": [
    "## Descrição da coluna Estado\n",
    "df_nov2020['Tempo_afastamento'].value_counts(normalize=True).round(4)*100"
   ]
  },
  {
   "cell_type": "markdown",
   "id": "c613e9e9",
   "metadata": {},
   "source": [
    "## Caracteristica do Trabalho por mês"
   ]
  },
  {
   "cell_type": "code",
   "execution_count": 73,
   "id": "89565592",
   "metadata": {
    "scrolled": true
   },
   "outputs": [
    {
     "data": {
      "text/plain": [
       "Não aplicável                                                                                                                  61.58\n",
       "Empregado do setor privado                                                                                                     15.93\n",
       "Conta própria                                                                                                                  11.30\n",
       "Empregado do setor público (inclusive empresas de economia mista)                                                               5.68\n",
       "Trabalhador doméstico (empregado doméstico, cuidados, babá)                                                                     1.91\n",
       "Estava fora do mercado de trabalho (fazia apenas afazeres domésticos, cuidados de pessoas ou produção para próprio consumo)     1.25\n",
       "Empregador                                                                                                                      1.16\n",
       "Trabalhador familiar não remunerado em ajuda a membro do domicílio ou parente                                                   0.86\n",
       "Policial militar ou bombeiro mlilitar                                                                                           0.18\n",
       "Militar do exercito, marinha ou aeronáutica                                                                                     0.16\n",
       "Name: Carac_trabalho, dtype: float64"
      ]
     },
     "execution_count": 73,
     "metadata": {},
     "output_type": "execute_result"
    }
   ],
   "source": [
    "## Descrição da coluna Estado\n",
    "df_jul2020['Carac_trabalho'].value_counts(normalize=True).round(4)*100"
   ]
  },
  {
   "cell_type": "code",
   "execution_count": 74,
   "id": "1e6cb2e7",
   "metadata": {},
   "outputs": [
    {
     "data": {
      "text/plain": [
       "Não aplicável                                                                                                                  61.36\n",
       "Empregado do setor privado                                                                                                     15.95\n",
       "Conta própria                                                                                                                  11.36\n",
       "Empregado do setor público (inclusive empresas de economia mista)                                                               5.71\n",
       "Trabalhador doméstico (empregado doméstico, cuidados, babá)                                                                     1.91\n",
       "Estava fora do mercado de trabalho (fazia apenas afazeres domésticos, cuidados de pessoas ou produção para próprio consumo)     1.34\n",
       "Empregador                                                                                                                      1.17\n",
       "Trabalhador familiar não remunerado em ajuda a membro do domicílio ou parente                                                   0.88\n",
       "Policial militar ou bombeiro mlilitar                                                                                           0.17\n",
       "Militar do exercito, marinha ou aeronáutica                                                                                     0.15\n",
       "Name: Carac_trabalho, dtype: float64"
      ]
     },
     "execution_count": 74,
     "metadata": {},
     "output_type": "execute_result"
    }
   ],
   "source": [
    "## Descrição da coluna Estado\n",
    "df_ago2020['Carac_trabalho'].value_counts(normalize=True).round(4)*100"
   ]
  },
  {
   "cell_type": "code",
   "execution_count": 75,
   "id": "cc9cc9ad",
   "metadata": {},
   "outputs": [
    {
     "data": {
      "text/plain": [
       "Não aplicável                                                                                                                  61.07\n",
       "Empregado do setor privado                                                                                                     16.07\n",
       "Conta própria                                                                                                                  11.48\n",
       "Empregado do setor público (inclusive empresas de economia mista)                                                               5.72\n",
       "Trabalhador doméstico (empregado doméstico, cuidados, babá)                                                                     1.91\n",
       "Estava fora do mercado de trabalho (fazia apenas afazeres domésticos, cuidados de pessoas ou produção para próprio consumo)     1.35\n",
       "Empregador                                                                                                                      1.17\n",
       "Trabalhador familiar não remunerado em ajuda a membro do domicílio ou parente                                                   0.90\n",
       "Policial militar ou bombeiro mlilitar                                                                                           0.18\n",
       "Militar do exercito, marinha ou aeronáutica                                                                                     0.15\n",
       "Name: Carac_trabalho, dtype: float64"
      ]
     },
     "execution_count": 75,
     "metadata": {},
     "output_type": "execute_result"
    }
   ],
   "source": [
    "## Descrição da coluna Estado\n",
    "df_set2020['Carac_trabalho'].value_counts(normalize=True).round(4)*100"
   ]
  },
  {
   "cell_type": "code",
   "execution_count": 76,
   "id": "8e6a10f9",
   "metadata": {},
   "outputs": [
    {
     "data": {
      "text/plain": [
       "Não aplicável                                                                                                                  60.62\n",
       "Empregado do setor privado                                                                                                     16.36\n",
       "Conta própria                                                                                                                  11.62\n",
       "Empregado do setor público (inclusive empresas de economia mista)                                                               5.73\n",
       "Trabalhador doméstico (empregado doméstico, cuidados, babá)                                                                     1.94\n",
       "Estava fora do mercado de trabalho (fazia apenas afazeres domésticos, cuidados de pessoas ou produção para próprio consumo)     1.36\n",
       "Empregador                                                                                                                      1.16\n",
       "Trabalhador familiar não remunerado em ajuda a membro do domicílio ou parente                                                   0.89\n",
       "Policial militar ou bombeiro mlilitar                                                                                           0.17\n",
       "Militar do exercito, marinha ou aeronáutica                                                                                     0.15\n",
       "Name: Carac_trabalho, dtype: float64"
      ]
     },
     "execution_count": 76,
     "metadata": {},
     "output_type": "execute_result"
    }
   ],
   "source": [
    "## Descrição da coluna Estado\n",
    "df_out2020['Carac_trabalho'].value_counts(normalize=True).round(4)*100"
   ]
  },
  {
   "cell_type": "code",
   "execution_count": 77,
   "id": "754bd1c9",
   "metadata": {
    "scrolled": true
   },
   "outputs": [
    {
     "data": {
      "text/plain": [
       "Não aplicável                                                                                                                  60.43\n",
       "Empregado do setor privado                                                                                                     16.43\n",
       "Conta própria                                                                                                                  11.68\n",
       "Empregado do setor público (inclusive empresas de economia mista)                                                               5.74\n",
       "Trabalhador doméstico (empregado doméstico, cuidados, babá)                                                                     1.97\n",
       "Estava fora do mercado de trabalho (fazia apenas afazeres domésticos, cuidados de pessoas ou produção para próprio consumo)     1.34\n",
       "Empregador                                                                                                                      1.15\n",
       "Trabalhador familiar não remunerado em ajuda a membro do domicílio ou parente                                                   0.91\n",
       "Policial militar ou bombeiro mlilitar                                                                                           0.18\n",
       "Militar do exercito, marinha ou aeronáutica                                                                                     0.15\n",
       "Name: Carac_trabalho, dtype: float64"
      ]
     },
     "execution_count": 77,
     "metadata": {},
     "output_type": "execute_result"
    }
   ],
   "source": [
    "## Descrição da coluna Estado\n",
    "df_nov2020['Carac_trabalho'].value_counts(normalize=True).round(4)*100"
   ]
  },
  {
   "cell_type": "markdown",
   "id": "11136019",
   "metadata": {},
   "source": [
    "## Trabalho Remoto por mês"
   ]
  },
  {
   "cell_type": "code",
   "execution_count": 78,
   "id": "89565592",
   "metadata": {
    "scrolled": false
   },
   "outputs": [
    {
     "data": {
      "text/plain": [
       "Não aplicável                                                                                                                            93.75\n",
       "Estava em quarentena, isolamento, distanciamento social ou férias coletivas                                                               4.66\n",
       "Férias, folga ou jornada de trabalho variável                                                                                             0.49\n",
       "Licença remunerada por motivo de saúde ou acidente da própria pessoa                                                                      0.40\n",
       "Afastamento do próprio negócio/empresa por motivo de gestação, saúde, acidente, etc., sem ser remunerado por instituto de previdência     0.22\n",
       "Outro motivo                                                                                                                              0.22\n",
       "Licença maternidade ou paternidade                                                                                                        0.13\n",
       "Fatores ocasionais (mau tempo, paralisação nos serviços de transportes, etc.)                                                             0.10\n",
       "Outro tipo de licença remunerada (estudo, paternidade, casamento, licença prêmio, etc.)                                                   0.03\n",
       "Name: Motivo_afastamento, dtype: float64"
      ]
     },
     "execution_count": 78,
     "metadata": {},
     "output_type": "execute_result"
    }
   ],
   "source": [
    "## Descrição da coluna Estado\n",
    "df_jul2020['Motivo_afastamento'].value_counts(normalize=True).round(4)*100"
   ]
  },
  {
   "cell_type": "code",
   "execution_count": 79,
   "id": "1e6cb2e7",
   "metadata": {},
   "outputs": [
    {
     "data": {
      "text/plain": [
       "Não aplicável                                                                                                                            95.13\n",
       "Estava em quarentena, isolamento, distanciamento social ou férias coletivas                                                               3.44\n",
       "Licença remunerada por motivo de saúde ou acidente da própria pessoa                                                                      0.39\n",
       "Férias, folga ou jornada de trabalho variável                                                                                             0.36\n",
       "Afastamento do próprio negócio/empresa por motivo de gestação, saúde, acidente, etc., sem ser remunerado por instituto de previdência     0.21\n",
       "Outro motivo                                                                                                                              0.19\n",
       "Licença maternidade ou paternidade                                                                                                        0.13\n",
       "Fatores ocasionais (mau tempo, paralisação nos serviços de transportes, etc.)                                                             0.10\n",
       "Outro tipo de licença remunerada (estudo, paternidade, casamento, licença prêmio, etc.)                                                   0.04\n",
       "Name: Motivo_afastamento, dtype: float64"
      ]
     },
     "execution_count": 79,
     "metadata": {},
     "output_type": "execute_result"
    }
   ],
   "source": [
    "## Descrição da coluna Estado\n",
    "df_ago2020['Motivo_afastamento'].value_counts(normalize=True).round(4)*100"
   ]
  },
  {
   "cell_type": "code",
   "execution_count": 80,
   "id": "cc9cc9ad",
   "metadata": {},
   "outputs": [
    {
     "data": {
      "text/plain": [
       "Não aplicável                                                                                                                            95.91\n",
       "Estava em quarentena, isolamento, distanciamento social ou férias coletivas                                                               2.72\n",
       "Licença remunerada por motivo de saúde ou acidente da própria pessoa                                                                      0.38\n",
       "Férias, folga ou jornada de trabalho variável                                                                                             0.32\n",
       "Afastamento do próprio negócio/empresa por motivo de gestação, saúde, acidente, etc., sem ser remunerado por instituto de previdência     0.21\n",
       "Outro motivo                                                                                                                              0.20\n",
       "Licença maternidade ou paternidade                                                                                                        0.12\n",
       "Fatores ocasionais (mau tempo, paralisação nos serviços de transportes, etc.)                                                             0.09\n",
       "Outro tipo de licença remunerada (estudo, paternidade, casamento, licença prêmio, etc.)                                                   0.04\n",
       "Name: Motivo_afastamento, dtype: float64"
      ]
     },
     "execution_count": 80,
     "metadata": {},
     "output_type": "execute_result"
    }
   ],
   "source": [
    "## Descrição da coluna Estado\n",
    "df_set2020['Motivo_afastamento'].value_counts(normalize=True).round(4)*100"
   ]
  },
  {
   "cell_type": "code",
   "execution_count": 81,
   "id": "8e6a10f9",
   "metadata": {},
   "outputs": [
    {
     "data": {
      "text/plain": [
       "Não aplicável                                                                                                                            96.49\n",
       "Estava em quarentena, isolamento, distanciamento social ou férias coletivas                                                               2.16\n",
       "Licença remunerada por motivo de saúde ou acidente da própria pessoa                                                                      0.39\n",
       "Férias, folga ou jornada de trabalho variável                                                                                             0.31\n",
       "Afastamento do próprio negócio/empresa por motivo de gestação, saúde, acidente, etc., sem ser remunerado por instituto de previdência     0.21\n",
       "Outro motivo                                                                                                                              0.19\n",
       "Licença maternidade ou paternidade                                                                                                        0.11\n",
       "Fatores ocasionais (mau tempo, paralisação nos serviços de transportes, etc.)                                                             0.09\n",
       "Outro tipo de licença remunerada (estudo, paternidade, casamento, licença prêmio, etc.)                                                   0.04\n",
       "Name: Motivo_afastamento, dtype: float64"
      ]
     },
     "execution_count": 81,
     "metadata": {},
     "output_type": "execute_result"
    }
   ],
   "source": [
    "## Descrição da coluna Estado\n",
    "df_out2020['Motivo_afastamento'].value_counts(normalize=True).round(4)*100"
   ]
  },
  {
   "cell_type": "code",
   "execution_count": 82,
   "id": "754bd1c9",
   "metadata": {
    "scrolled": false
   },
   "outputs": [
    {
     "data": {
      "text/plain": [
       "Não aplicável                                                                                                                            96.74\n",
       "Estava em quarentena, isolamento, distanciamento social ou férias coletivas                                                               1.91\n",
       "Licença remunerada por motivo de saúde ou acidente da própria pessoa                                                                      0.40\n",
       "Férias, folga ou jornada de trabalho variável                                                                                             0.30\n",
       "Afastamento do próprio negócio/empresa por motivo de gestação, saúde, acidente, etc., sem ser remunerado por instituto de previdência     0.23\n",
       "Outro motivo                                                                                                                              0.19\n",
       "Licença maternidade ou paternidade                                                                                                        0.11\n",
       "Fatores ocasionais (mau tempo, paralisação nos serviços de transportes, etc.)                                                             0.09\n",
       "Outro tipo de licença remunerada (estudo, paternidade, casamento, licença prêmio, etc.)                                                   0.03\n",
       "Name: Motivo_afastamento, dtype: float64"
      ]
     },
     "execution_count": 82,
     "metadata": {},
     "output_type": "execute_result"
    }
   ],
   "source": [
    "## Descrição da coluna Estado\n",
    "df_nov2020['Motivo_afastamento'].value_counts(normalize=True).round(4)*100"
   ]
  },
  {
   "cell_type": "markdown",
   "id": "e5954d24",
   "metadata": {},
   "source": [
    "## Exportar arquivo para CSV para Construção de Dashboard no PowerBI"
   ]
  },
  {
   "cell_type": "code",
   "execution_count": 83,
   "id": "b5ed4b3b",
   "metadata": {},
   "outputs": [],
   "source": [
    "df_jul2020.to_csv(r'dados/df_jul2020.csv', index = False)"
   ]
  },
  {
   "cell_type": "code",
   "execution_count": 84,
   "id": "cb28e125",
   "metadata": {},
   "outputs": [],
   "source": [
    "df_ago2020.to_csv(r'dados/df_ago2020.csv', index = False)"
   ]
  },
  {
   "cell_type": "code",
   "execution_count": 85,
   "id": "8542ae8b",
   "metadata": {},
   "outputs": [],
   "source": [
    "df_set2020.to_csv(r'dados/df_set2020.csv', index = False)"
   ]
  },
  {
   "cell_type": "code",
   "execution_count": 86,
   "id": "8bfcfade",
   "metadata": {},
   "outputs": [],
   "source": [
    "df_out2020.to_csv(r'dados/df_out2020.csv', index = False)"
   ]
  },
  {
   "cell_type": "code",
   "execution_count": 87,
   "id": "f870727b",
   "metadata": {},
   "outputs": [],
   "source": [
    "df_nov2020.to_csv(r'dados/df_nov2020.csv', index = False)"
   ]
  },
  {
   "cell_type": "markdown",
   "id": "ddd74964",
   "metadata": {},
   "source": [
    "### Bibliografia\n",
    "\n",
    "BRASIL. IBGE. . Pesquisa Nacional por Amostra de Domicílios. 2020. Disponível em: https://www.ibge.gov.br/estatisticas/sociais/saude/27947-divulgacao-mensal- pnadcovid2.html?edicao=28351&t=downloadsArquivos:. Acesso em: 27 fev. 2022.\n",
    "\n",
    "BRASIL. MINISTÉRIO DA SAÚDE. . Coronavirus. 2021. Disponível em: https://www.gov.br/saude/pt-br/coronavirus/o-que-e-o-coronavirus. Acesso em: 27 fev. 2022.\n",
    "\n",
    "WHO - World Health Organization. Coronavirus disease (COVID-19): symptoms. Symptoms. 2022. Disponível em: https://www.who.int/health-topics/coronavirus#tab=tab_3. Acesso em: 02 mar. 2022."
   ]
  }
 ],
 "metadata": {
  "kernelspec": {
   "display_name": "Python 3 (ipykernel)",
   "language": "python",
   "name": "python3"
  },
  "language_info": {
   "codemirror_mode": {
    "name": "ipython",
    "version": 3
   },
   "file_extension": ".py",
   "mimetype": "text/x-python",
   "name": "python",
   "nbconvert_exporter": "python",
   "pygments_lexer": "ipython3",
   "version": "3.9.7"
  }
 },
 "nbformat": 4,
 "nbformat_minor": 5
}
